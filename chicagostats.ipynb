{
 "cells": [
  {
   "cell_type": "code",
   "execution_count": 121,
   "metadata": {
    "id": "7dZbT3ijl0Qh"
   },
   "outputs": [],
   "source": [
    "import numpy as np\n",
    "import pandas as pd\n",
    "import geopandas as gpd\n",
    "from shapely import wkt\n",
    "from shapely.geometry import Point\n",
    "\n",
    "%matplotlib inline\n",
    "import matplotlib.pyplot as plt\n",
    "plt.style.use('fivethirtyeight')\n",
    "import warnings\n",
    "warnings.simplefilter('ignore', FutureWarning)"
   ]
  },
  {
   "cell_type": "markdown",
   "metadata": {},
   "source": [
    "## Project for DATA 118 - Winter 2025\n",
    "\n",
    "Welcome to your project for DATA 118. This is not a group project. You may discuss the project with other students but you should code and write the report independently. You should acknowledge any help in writing (including any use of generative AI, but AI should not be used for general coding in this class). The score will be based on:\n",
    "-  Clarity and soundness of the arguments and conclusions;\n",
    "-  Use of data to back up arguments and analysis quality;  \n",
    "-  Insightfulness of the results;\n",
    "-  Quality of the data vizualizations, summaries used, and overall presentation. Make sure you use headings, captions for figures and tables etc. When you interpret a graph or data from a table, you should clearly specify which figure/table you refer to.\n"
   ]
  },
  {
   "cell_type": "markdown",
   "metadata": {},
   "source": [
    "\n",
    "\n",
    "### The Data"
   ]
  },
  {
   "cell_type": "markdown",
   "metadata": {
    "id": "RdiytFTml0Ql"
   },
   "source": [
    "Option 1: You are welcome to find your own data set for this project, but keep the goals in mind. Here are some suggested sources.\n",
    "\n",
    "Suggestions for datasets \n",
    "- Github Collection of publicly available data: https://github.com/awesomedata/awesome-public-datasets\n",
    "- Google Dataset search: https://datasetsearch.research.google.com/\n",
    "- CDC: https://data.cdc.gov/browse\n",
    "- 500 cities: https://www.cdc.gov/500cities/index.htm\n",
    "- UN: http://data.un.org/\n",
    "- Kaggle: https://www.kaggle.com/datasets\n",
    "- FEC: https://www.fec.gov/\n",
    "- FiveThirtyEight: https://github.com/fivethirtyeight/data\n"
   ]
  },
  {
   "cell_type": "markdown",
   "metadata": {},
   "source": [
    "\n",
    "Option 2:\n",
    "\n",
    "Use data from the \"National Wellbeing Survey, United States, 2021\",\n",
    "\n",
    "*\"The National Wellbeing Survey (NWS) is a population-based survey on the wellbeing of adults aged 18 to 64 in the United States. Specific survey domains include psychological well-being, social relationships and support, physical health, mental health, health behaviors, COVID-19 experiences and impacts, socioeconomic measures, political orientation, and demographic measures.\"*\n",
    "\n",
    "The data can be downloaded from the link below\n",
    "https://www.icpsr.umich.edu/web/ICPSR/studies/38879/\n",
    "\n",
    "\n",
    "   First, Click on 'Download' and then 'Delimited'.\n",
    "\n",
    "   Next, you will need to make an account and agree to the corresponding terms and conditions to have access to the data. Note you will get a folder called \"ICPSR_38879\". This folder contains the codebook that describes the study and the variables in detail. It has information on the survey that was administered. This folder is also how you will get the data itself.\n",
    "\n",
    "A few notes, hints, that may be helpful as you are working with this data.\n",
    "1. Take a look at the codebook. It has a lot of information about the survey itself and the variable names. We have put together a spreadsheet of selected variables to make it easier to see the variables present.\n",
    "2. The variable outcomes are encoded as numeric values. To see the corresponding outputs, you will need to look at  the codebook, including how missing data was handled in the survey.\n"
   ]
  },
  {
   "cell_type": "markdown",
   "metadata": {
    "id": "Tl4X-SRBl0Qn"
   },
   "source": [
    "\n",
    "### The Report \n",
    "\n",
    "You must submit four files broken into 2 parts:\n",
    "\n",
    "Part 1: **Due Sunday February 16 at 11:59pm**\n",
    "\n",
    "1. The file you plan to use for your project. \n",
    "\n",
    "2. The introduction of the report. \n",
    "\n",
    "   A.  **Introduce the dataset**.  Describe the data. What is the being studied? Where does it come from? Why was it collected (what are the researchers interested in studying)?Was it an experiment? A retrospective observational study? A prospective observational study? How many variables are there in the full dataset? List a few. How many observations (i.e. rows)? Describe the sampling process. Using what you have learned about data collection is this a biased or unbiased sample? Why?\n",
    "\n",
    "\n",
    "Part 2: **Due Saturday March 8 at 11:59pm**\n",
    "\n",
    "1. The Jupyter Notebook that contains all the code you use for the analysis broken into the parts listed below as necessary. Make sure to RUN ALL CELLS IN YOUR NOTEBOOK before submitting.\n",
    "\n",
    "2. A report of your findings. **This report should be at most 4 pages (12 pt font 1.5 spaced) long including references.** Use data visualization and data summaries to justify your conclusions. Note that the page limitation means you will not show all analyses you will make - select carefully what you think is most relevant.\n",
    "\n",
    "   The report should address the following points broken into parts:\n",
    "\n",
    "    A. Same as above, but edited based on feedback.\n",
    "\n",
    "    B.  **Characteristics of sample**. Describe the unit (people, airbnbs, specific animals, etc) sampled in the dataset.  Summarize the distributions or ranges of 3 or more of the characteristics (variables). You should include a graph or table for each distribution. You should create at least one graph and at least one table (DataFrame).\n",
    "\n",
    "    C. **Relationships between variables.**  Now, shift focus from distributions of single variables to relationships between variables. Include two or more graphs or tables here that highlight interesting relationships between variables.\n",
    "\n",
    "    During your exploration you should create at least one new column in the DataFrame based on existing variables in the dataset. To do this, you need to write a function (or more than one if you like) and apply it to one or more columns of the dataset. Make sure to clearly mark in your code notebook where your function is located.\n",
    "\n",
    "    D. **Provide context and set up a Hypothesis Test.** To the best of your knowledge, what do you think the relationships you discovered imply?\n",
    "\n",
    "    Based on supporting evidence from your investigation, set up a hypothesis test centering around a question of interest. Formulate the hypothesis test by **clearly stating the null and alternate hypothesis, and the corresponding test statistic.** You are just setting up the hypothesis test here, **you do not need to carry out the hypothesis test**.\n",
    "\n",
    "    E. **Conclusion/Self-Assessment.** What did you learn from exploring this dataset? If you were to continue this project, what is one question you would want to continue to investigate?\n"
   ]
  },
  {
   "cell_type": "markdown",
   "metadata": {
    "id": "Qs8jgh62l0Qo"
   },
   "source": [
    "Your submission is to be uploaded to Canvas and Gradescope. **If you do not submit all four files you will automatically recieve a deduction of 20 points from your submission.**\n",
    "There are some minimum requirements for your submission:\n",
    "\n",
    "1. Upload your data to Canvas\n",
    "2. Upload Part A: Introdcution to the data set as a PDF to Canvas\n",
    "3. Upload your final report as a PDF to Canvas\n",
    "4. Upload the jupyter notebook containing your analysis code to Gradescope, in .ipynb format.\n",
    "5. The report should be 4 pages maximum, , contain no code, and including tables and figures.\n",
    "6. You must have a bibliography citing the dataset. This can be on a separate page.\n",
    "7. If your report uses additional outside results and/or data, proper citations must be provided.\n",
    "    "
   ]
  },
  {
   "cell_type": "markdown",
   "metadata": {
    "id": "Josxqm3MeiSu"
   },
   "source": [
    "You may use the following code to help you load in the data."
   ]
  },
  {
   "cell_type": "code",
   "execution_count": null,
   "metadata": {
    "colab": {
     "base_uri": "https://localhost:8080/",
     "height": 162
    },
    "executionInfo": {
     "elapsed": 415,
     "status": "error",
     "timestamp": 1739136430632,
     "user": {
      "displayName": "Kelly Smalenberger",
      "userId": "17455113318685349574"
     },
     "user_tz": 360
    },
    "id": "eDNtjpSBeiSu",
    "outputId": "c5c93771-390f-42d0-8ceb-1f1306d95958"
   },
   "outputs": [],
   "source": [
    "crimes_no_zip = pd.read_csv(\"chicagocrime.csv\")\n",
    "zipcodes_df = gpd.read_file(\"chizipcodes.csv\")\n",
    "income = pd.read_excel(\"illinoisincome.xlsx\")"
   ]
  },
  {
   "cell_type": "code",
   "execution_count": null,
   "metadata": {},
   "outputs": [
    {
     "data": {
      "application/vnd.microsoft.datawrangler.viewer.v0+json": {
       "columns": [
        {
         "name": "index",
         "rawType": "int64",
         "type": "integer"
        },
        {
         "name": "ID",
         "rawType": "int64",
         "type": "integer"
        },
        {
         "name": "Case Number",
         "rawType": "object",
         "type": "string"
        },
        {
         "name": "Date",
         "rawType": "object",
         "type": "string"
        },
        {
         "name": "Block",
         "rawType": "object",
         "type": "string"
        },
        {
         "name": "IUCR",
         "rawType": "object",
         "type": "string"
        },
        {
         "name": "Primary Type",
         "rawType": "object",
         "type": "string"
        },
        {
         "name": "Description",
         "rawType": "object",
         "type": "string"
        },
        {
         "name": "Location Description",
         "rawType": "object",
         "type": "string"
        },
        {
         "name": "Arrest",
         "rawType": "bool",
         "type": "boolean"
        },
        {
         "name": "Domestic",
         "rawType": "bool",
         "type": "boolean"
        },
        {
         "name": "Beat",
         "rawType": "int64",
         "type": "integer"
        },
        {
         "name": "District",
         "rawType": "int64",
         "type": "integer"
        },
        {
         "name": "Ward",
         "rawType": "float64",
         "type": "float"
        },
        {
         "name": "Community Area",
         "rawType": "int64",
         "type": "integer"
        },
        {
         "name": "FBI Code",
         "rawType": "object",
         "type": "string"
        },
        {
         "name": "X Coordinate",
         "rawType": "float64",
         "type": "float"
        },
        {
         "name": "Y Coordinate",
         "rawType": "float64",
         "type": "float"
        },
        {
         "name": "Year",
         "rawType": "int64",
         "type": "integer"
        },
        {
         "name": "Updated On",
         "rawType": "object",
         "type": "string"
        },
        {
         "name": "Latitude",
         "rawType": "float64",
         "type": "float"
        },
        {
         "name": "Longitude",
         "rawType": "float64",
         "type": "float"
        },
        {
         "name": "Location",
         "rawType": "object",
         "type": "unknown"
        }
       ],
       "conversionMethod": "pd.DataFrame",
       "ref": "53232b7b-935b-4aba-8646-a5a1898849c7",
       "rows": [
        [
         "0",
         "11938228",
         "JD100017",
         "12/31/2019 11:55:00 PM",
         "0000X W 69TH ST",
         "143A",
         "WEAPONS VIOLATION",
         "UNLAWFUL POSS OF HANDGUN",
         "STREET",
         "True",
         "False",
         "731",
         "7",
         "6.0",
         "69",
         "15",
         "1176896.0",
         "1859260.0",
         "2019",
         "01/07/2020 06:57:13 PM",
         "41.769150218",
         "-87.627136786",
         "(41.769150218, -87.627136786)"
        ],
        [
         "1",
         "11940078",
         "JD100016",
         "12/31/2019 11:54:00 PM",
         "063XX S MAY ST",
         "0420",
         "BATTERY",
         "AGGRAVATED:KNIFE/CUTTING INSTR",
         "SIDEWALK",
         "False",
         "False",
         "724",
         "7",
         "16.0",
         "68",
         "04B",
         "1169736.0",
         "1862855.0",
         "2019",
         "01/08/2020 03:45:22 PM",
         "41.779173667",
         "-87.653277703",
         "(41.779173667, -87.653277703)"
        ],
        [
         "2",
         "11938857",
         "JD100599",
         "12/31/2019 11:50:00 PM",
         "004XX N Ashland ave",
         "0820",
         "THEFT",
         "$500 AND UNDER",
         "BAR OR TAVERN",
         "False",
         "False",
         "1215",
         "12",
         "27.0",
         "24",
         "06",
         null,
         null,
         "2019",
         "01/07/2020 06:57:13 PM",
         null,
         null,
         null
        ],
        [
         "3",
         "11938240",
         "JD100002",
         "12/31/2019 11:48:00 PM",
         "004XX S CICERO AVE",
         "143A",
         "WEAPONS VIOLATION",
         "UNLAWFUL POSS OF HANDGUN",
         "VEHICLE NON-COMMERCIAL",
         "True",
         "False",
         "1533",
         "15",
         "29.0",
         "25",
         "15",
         "1144466.0",
         "1897452.0",
         "2019",
         "01/07/2020 06:57:13 PM",
         "41.874623951",
         "-87.745052647",
         "(41.874623951, -87.745052647)"
        ],
        [
         "4",
         "11937967",
         "JC567053",
         "12/31/2019 11:46:00 PM",
         "034XX W JACKSON BLVD",
         "143A",
         "WEAPONS VIOLATION",
         "UNLAWFUL POSS OF HANDGUN",
         "STREET",
         "False",
         "False",
         "1133",
         "11",
         "28.0",
         "27",
         "15",
         "1153587.0",
         "1898480.0",
         "2019",
         "01/07/2020 06:57:13 PM",
         "41.877268465",
         "-87.711536692",
         "(41.877268465, -87.711536692)"
        ]
       ],
       "shape": {
        "columns": 22,
        "rows": 5
       }
      },
      "text/html": [
       "<div>\n",
       "<style scoped>\n",
       "    .dataframe tbody tr th:only-of-type {\n",
       "        vertical-align: middle;\n",
       "    }\n",
       "\n",
       "    .dataframe tbody tr th {\n",
       "        vertical-align: top;\n",
       "    }\n",
       "\n",
       "    .dataframe thead th {\n",
       "        text-align: right;\n",
       "    }\n",
       "</style>\n",
       "<table border=\"1\" class=\"dataframe\">\n",
       "  <thead>\n",
       "    <tr style=\"text-align: right;\">\n",
       "      <th></th>\n",
       "      <th>ID</th>\n",
       "      <th>Case Number</th>\n",
       "      <th>Date</th>\n",
       "      <th>Block</th>\n",
       "      <th>IUCR</th>\n",
       "      <th>Primary Type</th>\n",
       "      <th>Description</th>\n",
       "      <th>Location Description</th>\n",
       "      <th>Arrest</th>\n",
       "      <th>Domestic</th>\n",
       "      <th>...</th>\n",
       "      <th>Ward</th>\n",
       "      <th>Community Area</th>\n",
       "      <th>FBI Code</th>\n",
       "      <th>X Coordinate</th>\n",
       "      <th>Y Coordinate</th>\n",
       "      <th>Year</th>\n",
       "      <th>Updated On</th>\n",
       "      <th>Latitude</th>\n",
       "      <th>Longitude</th>\n",
       "      <th>Location</th>\n",
       "    </tr>\n",
       "  </thead>\n",
       "  <tbody>\n",
       "    <tr>\n",
       "      <th>0</th>\n",
       "      <td>11938228</td>\n",
       "      <td>JD100017</td>\n",
       "      <td>12/31/2019 11:55:00 PM</td>\n",
       "      <td>0000X W 69TH ST</td>\n",
       "      <td>143A</td>\n",
       "      <td>WEAPONS VIOLATION</td>\n",
       "      <td>UNLAWFUL POSS OF HANDGUN</td>\n",
       "      <td>STREET</td>\n",
       "      <td>True</td>\n",
       "      <td>False</td>\n",
       "      <td>...</td>\n",
       "      <td>6.0</td>\n",
       "      <td>69</td>\n",
       "      <td>15</td>\n",
       "      <td>1176896.0</td>\n",
       "      <td>1859260.0</td>\n",
       "      <td>2019</td>\n",
       "      <td>01/07/2020 06:57:13 PM</td>\n",
       "      <td>41.769150</td>\n",
       "      <td>-87.627137</td>\n",
       "      <td>(41.769150218, -87.627136786)</td>\n",
       "    </tr>\n",
       "    <tr>\n",
       "      <th>1</th>\n",
       "      <td>11940078</td>\n",
       "      <td>JD100016</td>\n",
       "      <td>12/31/2019 11:54:00 PM</td>\n",
       "      <td>063XX S MAY ST</td>\n",
       "      <td>0420</td>\n",
       "      <td>BATTERY</td>\n",
       "      <td>AGGRAVATED:KNIFE/CUTTING INSTR</td>\n",
       "      <td>SIDEWALK</td>\n",
       "      <td>False</td>\n",
       "      <td>False</td>\n",
       "      <td>...</td>\n",
       "      <td>16.0</td>\n",
       "      <td>68</td>\n",
       "      <td>04B</td>\n",
       "      <td>1169736.0</td>\n",
       "      <td>1862855.0</td>\n",
       "      <td>2019</td>\n",
       "      <td>01/08/2020 03:45:22 PM</td>\n",
       "      <td>41.779174</td>\n",
       "      <td>-87.653278</td>\n",
       "      <td>(41.779173667, -87.653277703)</td>\n",
       "    </tr>\n",
       "    <tr>\n",
       "      <th>2</th>\n",
       "      <td>11938857</td>\n",
       "      <td>JD100599</td>\n",
       "      <td>12/31/2019 11:50:00 PM</td>\n",
       "      <td>004XX N Ashland ave</td>\n",
       "      <td>0820</td>\n",
       "      <td>THEFT</td>\n",
       "      <td>$500 AND UNDER</td>\n",
       "      <td>BAR OR TAVERN</td>\n",
       "      <td>False</td>\n",
       "      <td>False</td>\n",
       "      <td>...</td>\n",
       "      <td>27.0</td>\n",
       "      <td>24</td>\n",
       "      <td>06</td>\n",
       "      <td>NaN</td>\n",
       "      <td>NaN</td>\n",
       "      <td>2019</td>\n",
       "      <td>01/07/2020 06:57:13 PM</td>\n",
       "      <td>NaN</td>\n",
       "      <td>NaN</td>\n",
       "      <td>NaN</td>\n",
       "    </tr>\n",
       "    <tr>\n",
       "      <th>3</th>\n",
       "      <td>11938240</td>\n",
       "      <td>JD100002</td>\n",
       "      <td>12/31/2019 11:48:00 PM</td>\n",
       "      <td>004XX S CICERO AVE</td>\n",
       "      <td>143A</td>\n",
       "      <td>WEAPONS VIOLATION</td>\n",
       "      <td>UNLAWFUL POSS OF HANDGUN</td>\n",
       "      <td>VEHICLE NON-COMMERCIAL</td>\n",
       "      <td>True</td>\n",
       "      <td>False</td>\n",
       "      <td>...</td>\n",
       "      <td>29.0</td>\n",
       "      <td>25</td>\n",
       "      <td>15</td>\n",
       "      <td>1144466.0</td>\n",
       "      <td>1897452.0</td>\n",
       "      <td>2019</td>\n",
       "      <td>01/07/2020 06:57:13 PM</td>\n",
       "      <td>41.874624</td>\n",
       "      <td>-87.745053</td>\n",
       "      <td>(41.874623951, -87.745052647)</td>\n",
       "    </tr>\n",
       "    <tr>\n",
       "      <th>4</th>\n",
       "      <td>11937967</td>\n",
       "      <td>JC567053</td>\n",
       "      <td>12/31/2019 11:46:00 PM</td>\n",
       "      <td>034XX W JACKSON BLVD</td>\n",
       "      <td>143A</td>\n",
       "      <td>WEAPONS VIOLATION</td>\n",
       "      <td>UNLAWFUL POSS OF HANDGUN</td>\n",
       "      <td>STREET</td>\n",
       "      <td>False</td>\n",
       "      <td>False</td>\n",
       "      <td>...</td>\n",
       "      <td>28.0</td>\n",
       "      <td>27</td>\n",
       "      <td>15</td>\n",
       "      <td>1153587.0</td>\n",
       "      <td>1898480.0</td>\n",
       "      <td>2019</td>\n",
       "      <td>01/07/2020 06:57:13 PM</td>\n",
       "      <td>41.877268</td>\n",
       "      <td>-87.711537</td>\n",
       "      <td>(41.877268465, -87.711536692)</td>\n",
       "    </tr>\n",
       "  </tbody>\n",
       "</table>\n",
       "<p>5 rows × 22 columns</p>\n",
       "</div>"
      ],
      "text/plain": [
       "         ID Case Number                    Date                 Block  IUCR  \\\n",
       "0  11938228    JD100017  12/31/2019 11:55:00 PM       0000X W 69TH ST  143A   \n",
       "1  11940078    JD100016  12/31/2019 11:54:00 PM        063XX S MAY ST  0420   \n",
       "2  11938857    JD100599  12/31/2019 11:50:00 PM   004XX N Ashland ave  0820   \n",
       "3  11938240    JD100002  12/31/2019 11:48:00 PM    004XX S CICERO AVE  143A   \n",
       "4  11937967    JC567053  12/31/2019 11:46:00 PM  034XX W JACKSON BLVD  143A   \n",
       "\n",
       "        Primary Type                     Description    Location Description  \\\n",
       "0  WEAPONS VIOLATION        UNLAWFUL POSS OF HANDGUN                  STREET   \n",
       "1            BATTERY  AGGRAVATED:KNIFE/CUTTING INSTR                SIDEWALK   \n",
       "2              THEFT                  $500 AND UNDER           BAR OR TAVERN   \n",
       "3  WEAPONS VIOLATION        UNLAWFUL POSS OF HANDGUN  VEHICLE NON-COMMERCIAL   \n",
       "4  WEAPONS VIOLATION        UNLAWFUL POSS OF HANDGUN                  STREET   \n",
       "\n",
       "   Arrest  Domestic  ...  Ward  Community Area  FBI Code  X Coordinate  \\\n",
       "0    True     False  ...   6.0              69        15     1176896.0   \n",
       "1   False     False  ...  16.0              68       04B     1169736.0   \n",
       "2   False     False  ...  27.0              24        06           NaN   \n",
       "3    True     False  ...  29.0              25        15     1144466.0   \n",
       "4   False     False  ...  28.0              27        15     1153587.0   \n",
       "\n",
       "  Y Coordinate  Year              Updated On   Latitude  Longitude  \\\n",
       "0    1859260.0  2019  01/07/2020 06:57:13 PM  41.769150 -87.627137   \n",
       "1    1862855.0  2019  01/08/2020 03:45:22 PM  41.779174 -87.653278   \n",
       "2          NaN  2019  01/07/2020 06:57:13 PM        NaN        NaN   \n",
       "3    1897452.0  2019  01/07/2020 06:57:13 PM  41.874624 -87.745053   \n",
       "4    1898480.0  2019  01/07/2020 06:57:13 PM  41.877268 -87.711537   \n",
       "\n",
       "                        Location  \n",
       "0  (41.769150218, -87.627136786)  \n",
       "1  (41.779173667, -87.653277703)  \n",
       "2                            NaN  \n",
       "3  (41.874623951, -87.745052647)  \n",
       "4  (41.877268465, -87.711536692)  \n",
       "\n",
       "[5 rows x 22 columns]"
      ]
     },
     "metadata": {},
     "output_type": "display_data"
    },
    {
     "data": {
      "application/vnd.microsoft.datawrangler.viewer.v0+json": {
       "columns": [
        {
         "name": "index",
         "rawType": "int64",
         "type": "integer"
        },
        {
         "name": "the_geom",
         "rawType": "object",
         "type": "string"
        },
        {
         "name": "OBJECTID",
         "rawType": "object",
         "type": "string"
        },
        {
         "name": "ZIP",
         "rawType": "object",
         "type": "string"
        },
        {
         "name": "SHAPE_AREA",
         "rawType": "object",
         "type": "string"
        },
        {
         "name": "SHAPE_LEN",
         "rawType": "object",
         "type": "string"
        },
        {
         "name": "geometry",
         "rawType": "object",
         "type": "unknown"
        }
       ],
       "conversionMethod": "pd.DataFrame",
       "ref": "fa732c72-d57b-432c-ad48-f6cb0ce537dd",
       "rows": [
        [
         "0",
         "MULTIPOLYGON (((-87.67762151065281 41.917757801062976, -87.67760690174252 41.91734720847048, -87.67760511932958 41.91730238504324, -87.67760063005984 41.917188199438144, -87.67759765058332 41.916991119379674, -87.67759310412458 41.91669230188045, -87.6775879922483 41.91640204306182, -87.67758757917139 41.91637778172058, -87.677586292912 41.91623784614856, -87.67758575813848 41.9161788147321, -87.67758053649547 41.91594236952244, -87.677578323991 41.91584265904772, -87.67757444476528 41.91567606225867, -87.67757172877451 41.915553763898004, -87.6775700490947 41.915473787467334, -87.67756756301671 41.91536131475606, -87.67756217455818 41.91510527489929, -87.67755693540155 41.91485617857848, -87.67755510345481 41.91471571851807, -87.6775517264733 41.91445700077503, -87.67754655234228 41.914230270407344, -87.67754521366163 41.91417082274463, -87.67754237233984 41.91404641051031, -87.67754180121058 41.914016083576996, -87.67753818696835 41.91382720489476, -87.67753749882326 41.91379034609322, -87.67753510980606 41.91366481123087, -87.67752895014499 41.91335851997033, -87.67752251801134 41.913075251366855, -87.6775188197335 41.912912524757935, -87.67751068876483 41.91253682060714, -87.67750627702908 41.912307405171234, -87.67750286162179 41.91213142558998, -87.67749904680443 41.911976519483595, -87.6774977751756 41.91192486572738, -87.67749346425599 41.91175022576133, -87.6774890188308 41.911570782411516, -87.67748314730586 41.91133326318573, -87.67747444782162 41.91096287956082, -87.67747270145514 41.91088943388687, -87.67746993756167 41.91064622424384, -87.67746629571172 41.910582098195, -87.6775055341035 41.91053885381863, -87.6775860432414 41.91047273855444, -87.67813372567305 41.910473943875736, -87.6781753955325 41.910473111315156, -87.67839844181603 41.91046873072747, -87.67846972906788 41.91046727122461, -87.67856379826188 41.91046539274058, -87.67858577200643 41.91046499656453, -87.6787363194613 41.91046198552198, -87.67920508537777 41.91045266449626, -87.67920758399636 41.91045262398248, -87.67968153090735 41.91044319338225, -87.67990665848265 41.91044005641043, -87.67998606120283 41.91043894408091, -87.68009555681219 41.910437426468704, -87.68057832356085 41.91042771310151, -87.6806141512017 41.910426956145294, -87.68139635930301 41.91041122971445, -87.68164068225975 41.91040630494026, -87.68218066216373 41.910395400132145, -87.68234659194296 41.9103934595062, -87.68267429908703 41.910389663843624, -87.68339077028558 41.91037868295893, -87.6835644939163 41.91037620846685, -87.68382684388732 41.91037236890212, -87.68458972996646 41.9103599141988, -87.68478215250542 41.910357515995216, -87.6849933880201 41.910354812057655, -87.68583550566207 41.91033994254184, -87.68599735486096 41.91033824791562, -87.68636400491705 41.91033438683025, -87.6869415458578 41.91032553733003, -87.68722069334677 41.910320878900556, -87.68844250231801 41.910305738530646, -87.68863143156644 41.91030361619078, -87.68966710417871 41.910294140942035, -87.69032804872565 41.9102881020025, -87.69089321106713 41.91027894376738, -87.69090162511598 41.91027885349327, -87.69199856846967 41.91026646179621, -87.69211063032151 41.91026544108824, -87.69332225670009 41.910254390670005, -87.69364062266534 41.91025144461111, -87.69454142148658 41.91024260087958, -87.69526677809546 41.910235464885005, -87.69575974514534 41.91023035453266, -87.69689180235365 41.910218605076054, -87.69703487360627 41.910217339794336, -87.69801370105675 41.910208709078454, -87.69851566211798 41.91020426789682, -87.6987967382077 41.910201348360935, -87.69908027641858 41.91019835940952, -87.70013392620835 41.910187324825905, -87.7002368024005 41.91018638267628, -87.70151724271976 41.91017471948977, -87.70167254879512 41.91017329634622, -87.70186597773413 41.91017304292164, -87.70190932957924 41.9101729793816, -87.70221558288543 41.910172577539306, -87.7026619209758 41.910171956156596, -87.7033775250078 41.91016262966947, -87.70401321332834 41.91015434251711, -87.70446248602138 41.910150437275156, -87.70451462991946 41.91014915869177, -87.70532937867591 41.910129742678336, -87.70566226210028 41.91012607436352, -87.70654091255122 41.910116411684484, -87.706960472597 41.91011532575941, -87.70748940982845 41.910109702634266, -87.70843934349718 41.91009506266161, -87.70863000604577 41.91009214852841, -87.70947024086689 41.91008112922656, -87.70977171603575 41.9100771412079, -87.71006958551172 41.91007368139902, -87.7109156498234 41.910063836012675, -87.71181156183188 41.91005455580037, -87.71188060001978 41.91005380439001, -87.71194566946066 41.91005316867321, -87.71204369656562 41.91005213475009, -87.71316946176711 41.910037007506574, -87.7133051536952 41.910035133111364, -87.71435949148969 41.91002084326447, -87.71484567349734 41.91001424233952, -87.71493275130045 41.910013366718616, -87.71596008242416 41.91000325261679, -87.7167006260938 41.909994141826694, -87.71706426571284 41.90998967243399, -87.71776230425327 41.909980436369175, -87.71801667474945 41.90997702467916, -87.71820141752781 41.90997455682273, -87.71897287950337 41.90996694153813, -87.71923348734214 41.90996435655712, -87.72019928763528 41.9099497041362, -87.72045120028223 41.9099458622933, -87.72058532100633 41.90993922358818, -87.72099816702848 41.90994474640109, -87.72130774722064 41.90994208847512, -87.72144336867963 41.90993987484644, -87.72155176293684 41.90993809242642, -87.7216732720839 41.90993635218476, -87.7226681836691 41.909927761743134, -87.72287933742246 41.90992561883955, -87.72389444549592 41.90991410634396, -87.72409296065422 41.90991205878385, -87.72510923355887 41.90990163949037, -87.72530069392464 41.909899689617106, -87.7256798304519 41.90989579653555, -87.72633029010925 41.90988669566652, -87.72633069402355 41.909886697801674, -87.72633230695924 41.90993750211121, -87.72634687693083 41.91038502656941, -87.72634730371159 41.91039814626592, -87.72635815781624 41.910737692801796, -87.72637257958216 41.91118927787829, -87.7263879720355 41.911619847286204, -87.72639056875794 41.91170641414634, -87.72639359358142 41.91180596356221, -87.72640958355507 41.912297595138924, -87.72641940776055 41.912672207554266, -87.72642547524968 41.91285003849906, -87.72642988819561 41.91297755876175, -87.7264325829953 41.91306928534608, -87.72644546401689 41.91350521989306, -87.72644799204913 41.91359126509381, -87.72644958148167 41.91364456635991, -87.72645280338126 41.91375432526024, -87.72645373604144 41.91377998890364, -87.726482983936 41.91458642646893, -87.72650422562124 41.91526071427195, -87.72651027252769 41.9153437866916, -87.72651800677205 41.91545041346902, -87.72652307593158 41.915822887416844, -87.72652916014837 41.91622783103394, -87.72654194437254 41.91669345747519, -87.72655074115495 41.91701375562439, -87.72655896065119 41.91716615884702, -87.72656724153784 41.917319852178125, -87.72657601447033 41.91762327328153, -87.7265834832369 41.917882093588254, -87.72658918532275 41.91807918707207, -87.72659518726356 41.918287286224015, -87.72660918615449 41.9187721561043, -87.72661502486903 41.918993618769846, -87.72662009348441 41.91918777254095, -87.72662755863671 41.91944700452793, -87.72663626262653 41.91975001351717, -87.72664079212517 41.91990799525752, -87.72664784456319 41.92015262572793, -87.72666310381597 41.92068297385237, -87.72666738121801 41.920824900629135, -87.72667334611646 41.92102144627746, -87.72667890513054 41.921272462863065, -87.72668881862175 41.92171935807536, -87.7266958797964 41.921881634270086, -87.72673089165191 41.921975397516505, -87.72686881747245 41.9222446762548, -87.72707509896253 41.92264507831493, -87.7269296382861 41.92264359676973, -87.72683253163021 41.9226462671259, -87.7267842725235 41.922647603793095, -87.7267801572513 41.922647582054246, -87.72675340789017 41.92264744074766, -87.72657913346612 41.92264651997031, -87.72644075769357 41.92265352753667, -87.72645598372962 41.922683108401074, -87.72659347321586 41.92296747845672, -87.7266368648666 41.923049430790414, -87.72668857330477 41.9231417455517, -87.726738054467 41.923310173141566, -87.72674315842924 41.92352005124056, -87.7267514857692 41.923851268752536, -87.72675433011166 41.92398547646047, -87.72676045963938 41.92427719289605, -87.7267685697472 41.92448395835132, -87.72677855078352 41.924737605158896, -87.72678587817005 41.92498045319115, -87.72679217457173 41.92518860859492, -87.72680431555887 41.92562157465755, -87.72681576580527 41.92605379609675, -87.72682238450358 41.92632106374193, -87.72682743354517 41.92652512381492, -87.7268431029964 41.92702015516905, -87.72685451330105 41.927491563841855, -87.72686069928018 41.92766483945327, -87.72687129582314 41.927962232467166, -87.72687553316618 41.9281317381818, -87.72688829047014 41.92861226456828, -87.726889771367 41.92866542818077, -87.72690293249497 41.92913437595397, -87.72691435751109 41.929546097557285, -87.72692156830662 41.929766414743916, -87.72692473938416 41.92997869724328, -87.72693512267074 41.93025597370028, -87.72694665081977 41.93063353009784, -87.72695295299644 41.93087609796826, -87.72696013572907 41.931149845007376, -87.72696565562582 41.931335328717296, -87.72697120119612 41.93152196526809, -87.72697869215138 41.93179036266602, -87.72664971414545 41.93179672020415, -87.72638232787523 41.93179942341062, -87.7257611464917 41.93180571555809, -87.72534292115417 41.93180995052541, -87.72453830701556 41.931821192053455, -87.72418953416803 41.93182606554013, -87.72393556146383 41.93182877932479, -87.72331401916581 41.93183818473116, -87.72330001501632 41.931838412055576, -87.72328538613537 41.93183863633344, -87.72288684172587 41.931844668406136, -87.72233117146658 41.931848628168254, -87.72208763686025 41.93185122875649, -87.72186064207419 41.93185364255874, -87.72132910035488 41.931859317615206, -87.72085857934347 41.93186729163658, -87.72064994878738 41.93187084387664, -87.71987436826463 41.931878008906935, -87.71963631303099 41.93188024937897, -87.71930335935454 41.93188335394204, -87.7188845414306 41.931887974051925, -87.71841697530384 41.93189436209204, -87.71803493873428 41.93189958771339, -87.7173315484941 41.93190929026722, -87.71719504073577 41.93191091792639, -87.71664228431185 41.93191750024409, -87.71597130134244 41.931924048144445, -87.71545898558985 41.931929058523195, -87.71503914915968 41.931932533854685, -87.71500084689116 41.93193337046637, -87.71475463740829 41.93193893236618, -87.71414554049103 41.93194942529148, -87.7141416810771 41.93194948666815, -87.71371006675591 41.93195478727461, -87.7136474744263 41.93195540988648, -87.71316393679936 41.93196012632997, -87.71291231912431 41.93196244425722, -87.71273244538484 41.931964106628925, -87.71225310577034 41.93198308437724, -87.71167520904585 41.931978502451365, -87.71154586806728 41.93198007986902, -87.71127143528086 41.9319816669162, -87.71106913095079 41.93198460477858, -87.71064445352029 41.93199078195724, -87.71064129250125 41.93199081976736, -87.71045376397089 41.931993534744024, -87.71015243903747 41.93199793705617, -87.70986562796118 41.932002609278435, -87.70943223134958 41.932009695242556, -87.70923037419911 41.93201197368091, -87.70907163020082 41.93201380011942, -87.70864393907426 41.93201995364956, -87.70826803688018 41.932025344590826, -87.70802283769673 41.93202894908577, -87.70783571234188 41.93203177188764, -87.70742721399738 41.9320294633948, -87.70706016863947 41.93202732481165, -87.70681647710055 41.93203085255807, -87.70681493329269 41.93203087157641, -87.70654188682094 41.93203347024489, -87.70620259211243 41.932034718520825, -87.7058121748749 41.932036180296386, -87.70560033260897 41.93203732746428, -87.70559298186865 41.9320373696717, -87.70542222801593 41.932038411836274, -87.70498090164341 41.932040827404, -87.70464240919623 41.93204270663069, -87.70443048362051 41.932044839104044, -87.70415122427544 41.93204761759424, -87.70375217694311 41.93205218099797, -87.70351661495627 41.93205486809593, -87.70325991026141 41.93205496909623, -87.70314035923694 41.93205505386424, -87.70292566069567 41.932055137615116, -87.70279177731095 41.93205519828117, -87.70252169381702 41.93205917583963, -87.70208852387692 41.93206552175867, -87.70191041894277 41.93206662805426, -87.70190417093652 41.93206667615834, -87.70168736453162 41.9320680906021, -87.70150922275045 41.93206919607258, -87.70129869901479 41.93207078170275, -87.7009908151422 41.93207309300126, -87.70089051584037 41.932073775478656, -87.70073394681292 41.932074861428184, -87.70057774581892 41.932075921544346, -87.70036619426675 41.932077362657786, -87.7000731247165 41.932079314017635, -87.69973080615772 41.93208156936257, -87.69961958984241 41.932082437465986, -87.69947448621782 41.932083612282746, -87.69945875558923 41.93208374497832, -87.69931850360703 41.93208486419258, -87.69916266853578 41.93208608919455, -87.69884619190695 41.93208768880524, -87.69852651823089 41.93208929717284, -87.69843738851615 41.93209020384535, -87.69825865216967 41.93209198710847, -87.69823097584144 41.93209227316868, -87.69809127262262 41.93209366820411, -87.6979129766083 41.93209548080744, -87.69761768237878 41.93209568486446, -87.69704840947396 41.932096098919025, -87.6966238986005 41.9320964075411, -87.696402049137 41.93210231221084, -87.69636187842406 41.93210252830417, -87.69613265083531 41.932103836044156, -87.69588625986613 41.93210523999897, -87.69578055881526 41.93210583327541, -87.69568897072918 41.932106367483215, -87.69551626921387 41.93210735658701, -87.69534294278324 41.93210834209588, -87.6951752031596 41.93210927599918, -87.694957111598 41.93211053344757, -87.6947454890851 41.93211171662327, -87.69433341629467 41.93211406172366, -87.69428327462316 41.93211542919294, -87.69413266603455 41.9321195031424, -87.69399786430945 41.93212317074558, -87.69391007988658 41.93212553590048, -87.69388530303289 41.93212622118264, -87.69376164007139 41.93212956648794, -87.69359784631277 41.93212914788629, -87.69318905559615 41.93212667740324, -87.69277296457277 41.932130229537, -87.69237528764808 41.932133608330055, -87.69200246830468 41.93213556066047, -87.69156719888382 41.932138589529124, -87.6911872431168 41.93214121268423, -87.69095664167017 41.93214392926403, -87.69074643904139 41.93214640300211, -87.69034834306261 41.93215122686626, -87.69013677959623 41.932153829009835, -87.6899501492944 41.93215481410787, -87.68973018736938 41.93215566695504, -87.6895785108703 41.932156271086654, -87.68912724556938 41.932156539123646, -87.68886429228031 41.93215668257691, -87.68878974889498 41.93215796563201, -87.68849653769635 41.93216296037851, -87.68849231040052 41.93216304626903, -87.68788267332374 41.93217913224164, -87.68743541933928 41.93217519014484, -87.68708801087931 41.932179162834636, -87.68680915495807 41.93218192885278, -87.6866066763876 41.932183752379466, -87.68640978416573 41.93218555213996, -87.68620310365633 41.932188613484556, -87.6858308334592 41.93219436319891, -87.6854639096358 41.93219838550284, -87.68514623736093 41.9322018616245, -87.68485619683784 41.932205821962434, -87.68477019090795 41.932206708361626, -87.68449511939718 41.93220954495124, -87.68396297947626 41.932215647485776, -87.6835098259795 41.9322208498043, -87.68322943112547 41.93222310459476, -87.68295041728591 41.932226903012726, -87.68284014649325 41.93222872083148, -87.68271179134597 41.932230820055544, -87.68252219874226 41.93223394415866, -87.68233481829628 41.9322363945044, -87.68207624706793 41.93223926403458, -87.68157916962365 41.93224511531487, -87.68128464676258 41.93224890404323, -87.68098774508755 41.93225171822898, -87.68069231064511 41.93225478669232, -87.68041892912545 41.93225762325832, -87.68003513156879 41.9322620812387, -87.67953804985851 41.932268307779175, -87.67921695323707 41.93227235151749, -87.67886003914192 41.93227498274371, -87.67875110153408 41.93227578887204, -87.67856426259341 41.93227914167489, -87.67824661427245 41.932283806229435, -87.67813528714416 41.932284680261, -87.67813523325404 41.93227916406873, -87.67813137359023 41.93187705866085, -87.67817623621562 41.93156200360196, -87.67819369252467 41.93143990308543, -87.67822428687735 41.931226247823105, -87.67825997677097 41.93097787997278, -87.67826649698729 41.9309332686132, -87.67828233861835 41.93082529153194, -87.67829921531269 41.930716689248904, -87.6783091660086 41.930638508108906, -87.67831824829142 41.930537435337754, -87.67832189500196 41.93046835676545, -87.678322987122 41.93040112955289, -87.67832057726972 41.93027746101582, -87.67831493386784 41.93011425736557, -87.67831076648463 41.92998278547878, -87.67830453368549 41.92978379379659, -87.67830423044015 41.929773912797145, -87.67829909389637 41.929611452963705, -87.67829187583952 41.92938663251232, -87.67828878792632 41.92927898641395, -87.67828661109859 41.92920798102209, -87.67828222785987 41.929094015818, -87.67827965403814 41.92905464911653, -87.67826184620671 41.92890586545832, -87.67817792440415 41.92863167784034, -87.67816744258626 41.92858222201707, -87.67815776580235 41.92853669495639, -87.67809994782928 41.9280854342785, -87.678117581101 41.92748987391022, -87.6781001871949 41.92719658173306, -87.67809995777444 41.9271938635738, -87.67808019490927 41.9269920504872, -87.6780255546679 41.9265392434439, -87.6780181844601 41.92647663321036, -87.67800155213764 41.92633521060833, -87.67798072441178 41.92616206847181, -87.67795630569432 41.92597359292136, -87.67791956402336 41.92536271108521, -87.67789934441855 41.92502609877717, -87.67788047348098 41.92471210662642, -87.67787076951893 41.92455082795146, -87.67786951423854 41.92452988234952, -87.677860465727 41.924275852741836, -87.67784528427691 41.92389223317128, -87.67782478932791 41.92337439061564, -87.67781387124165 41.92309842378121, -87.67781021965934 41.922999254131234, -87.67780760687388 41.92292783439444, -87.67780430260134 41.92283780492725, -87.67779976723106 41.92271371265688, -87.67779742031259 41.92265220115802, -87.67778930451618 41.92243994390668, -87.67778837807512 41.92241556982273, -87.67778999769448 41.92231837858659, -87.67778908440296 41.92229630972703, -87.67778101877416 41.92212222486456, -87.67777229118948 41.92193381149379, -87.6777722280011 41.92193282307441, -87.67776597927917 41.92180378139424, -87.67776218988645 41.92172527488903, -87.6777583047425 41.92159868899131, -87.67775235119399 41.921397750119915, -87.67774886723596 41.92127863093851, -87.67773658454163 41.920985257810116, -87.67773515929152 41.920934261942136, -87.67773145539319 41.92079713923078, -87.67772642988537 41.92061324741475, -87.67771271440365 41.920244509529695, -87.67770354699472 41.92004168639007, -87.67770291147247 41.92002837326015, -87.67769994783222 41.91996254977316, -87.67769232772868 41.91971983412024, -87.67768653289703 41.919575235210196, -87.67768197798495 41.919463821084584, -87.67767514514492 41.91928063226629, -87.67767241017413 41.91920682437409, -87.67766927067252 41.919122256730674, -87.67766104583094 41.91889918639433, -87.67764768684656 41.918520790953345, -87.67764238991899 41.91837062407218, -87.67763731014453 41.91821719265855, -87.67762843970235 41.917953092458546, -87.67762151065281 41.917757801062976)))",
         "33",
         "60647",
         "106052287.488",
         "42720.0444058",
         "MULTIPOLYGON (((-87.67762151065281 41.917757801062976, -87.67760690174252 41.91734720847048, -87.67760511932958 41.91730238504324, -87.67760063005984 41.917188199438144, -87.67759765058332 41.916991119379674, -87.67759310412458 41.91669230188045, -87.6775879922483 41.91640204306182, -87.67758757917139 41.91637778172058, -87.677586292912 41.91623784614856, -87.67758575813848 41.9161788147321, -87.67758053649547 41.91594236952244, -87.677578323991 41.91584265904772, -87.67757444476528 41.91567606225867, -87.67757172877451 41.915553763898004, -87.6775700490947 41.915473787467334, -87.67756756301671 41.91536131475606, -87.67756217455818 41.91510527489929, -87.67755693540155 41.91485617857848, -87.67755510345481 41.91471571851807, -87.6775517264733 41.91445700077503, -87.67754655234228 41.914230270407344, -87.67754521366163 41.91417082274463, -87.67754237233984 41.91404641051031, -87.67754180121058 41.914016083576996, -87.67753818696835 41.91382720489476, -87.67753749882326 41.91379034609322, -87.67753510980606 41.91366481123087, -87.67752895014499 41.91335851997033, -87.67752251801134 41.913075251366855, -87.6775188197335 41.912912524757935, -87.67751068876483 41.91253682060714, -87.67750627702908 41.912307405171234, -87.67750286162179 41.91213142558998, -87.67749904680443 41.911976519483595, -87.6774977751756 41.91192486572738, -87.67749346425599 41.91175022576133, -87.6774890188308 41.911570782411516, -87.67748314730586 41.91133326318573, -87.67747444782162 41.91096287956082, -87.67747270145514 41.91088943388687, -87.67746993756167 41.91064622424384, -87.67746629571172 41.910582098195, -87.6775055341035 41.91053885381863, -87.6775860432414 41.91047273855444, -87.67813372567305 41.910473943875736, -87.6781753955325 41.910473111315156, -87.67839844181603 41.91046873072747, -87.67846972906788 41.91046727122461, -87.67856379826188 41.91046539274058, -87.67858577200643 41.91046499656453, -87.6787363194613 41.91046198552198, -87.67920508537777 41.91045266449626, -87.67920758399636 41.91045262398248, -87.67968153090735 41.91044319338225, -87.67990665848265 41.91044005641043, -87.67998606120283 41.91043894408091, -87.68009555681219 41.910437426468704, -87.68057832356085 41.91042771310151, -87.6806141512017 41.910426956145294, -87.68139635930301 41.91041122971445, -87.68164068225975 41.91040630494026, -87.68218066216373 41.910395400132145, -87.68234659194296 41.9103934595062, -87.68267429908703 41.910389663843624, -87.68339077028558 41.91037868295893, -87.6835644939163 41.91037620846685, -87.68382684388732 41.91037236890212, -87.68458972996646 41.9103599141988, -87.68478215250542 41.910357515995216, -87.6849933880201 41.910354812057655, -87.68583550566207 41.91033994254184, -87.68599735486096 41.91033824791562, -87.68636400491705 41.91033438683025, -87.6869415458578 41.91032553733003, -87.68722069334677 41.910320878900556, -87.68844250231801 41.910305738530646, -87.68863143156644 41.91030361619078, -87.68966710417871 41.910294140942035, -87.69032804872565 41.9102881020025, -87.69089321106713 41.91027894376738, -87.69090162511598 41.91027885349327, -87.69199856846967 41.91026646179621, -87.69211063032151 41.91026544108824, -87.69332225670009 41.910254390670005, -87.69364062266534 41.91025144461111, -87.69454142148658 41.91024260087958, -87.69526677809546 41.910235464885005, -87.69575974514534 41.91023035453266, -87.69689180235365 41.910218605076054, -87.69703487360627 41.910217339794336, -87.69801370105675 41.910208709078454, -87.69851566211798 41.91020426789682, -87.6987967382077 41.910201348360935, -87.69908027641858 41.91019835940952, -87.70013392620835 41.910187324825905, -87.7002368024005 41.91018638267628, -87.70151724271976 41.91017471948977, -87.70167254879512 41.91017329634622, -87.70186597773413 41.91017304292164, -87.70190932957924 41.9101729793816, -87.70221558288543 41.910172577539306, -87.7026619209758 41.910171956156596, -87.7033775250078 41.91016262966947, -87.70401321332834 41.91015434251711, -87.70446248602138 41.910150437275156, -87.70451462991946 41.91014915869177, -87.70532937867591 41.910129742678336, -87.70566226210028 41.91012607436352, -87.70654091255122 41.910116411684484, -87.706960472597 41.91011532575941, -87.70748940982845 41.910109702634266, -87.70843934349718 41.91009506266161, -87.70863000604577 41.91009214852841, -87.70947024086689 41.91008112922656, -87.70977171603575 41.9100771412079, -87.71006958551172 41.91007368139902, -87.7109156498234 41.910063836012675, -87.71181156183188 41.91005455580037, -87.71188060001978 41.91005380439001, -87.71194566946066 41.91005316867321, -87.71204369656562 41.91005213475009, -87.71316946176711 41.910037007506574, -87.7133051536952 41.910035133111364, -87.71435949148969 41.91002084326447, -87.71484567349734 41.91001424233952, -87.71493275130045 41.910013366718616, -87.71596008242416 41.91000325261679, -87.7167006260938 41.909994141826694, -87.71706426571284 41.90998967243399, -87.71776230425327 41.909980436369175, -87.71801667474945 41.90997702467916, -87.71820141752781 41.90997455682273, -87.71897287950337 41.90996694153813, -87.71923348734214 41.90996435655712, -87.72019928763528 41.9099497041362, -87.72045120028223 41.9099458622933, -87.72058532100633 41.90993922358818, -87.72099816702848 41.90994474640109, -87.72130774722064 41.90994208847512, -87.72144336867963 41.90993987484644, -87.72155176293684 41.90993809242642, -87.7216732720839 41.90993635218476, -87.7226681836691 41.909927761743134, -87.72287933742246 41.90992561883955, -87.72389444549592 41.90991410634396, -87.72409296065422 41.90991205878385, -87.72510923355887 41.90990163949037, -87.72530069392464 41.909899689617106, -87.7256798304519 41.90989579653555, -87.72633029010925 41.90988669566652, -87.72633069402355 41.909886697801674, -87.72633230695924 41.90993750211121, -87.72634687693083 41.91038502656941, -87.72634730371159 41.91039814626592, -87.72635815781624 41.910737692801796, -87.72637257958216 41.91118927787829, -87.7263879720355 41.911619847286204, -87.72639056875794 41.91170641414634, -87.72639359358142 41.91180596356221, -87.72640958355507 41.912297595138924, -87.72641940776055 41.912672207554266, -87.72642547524968 41.91285003849906, -87.72642988819561 41.91297755876175, -87.7264325829953 41.91306928534608, -87.72644546401689 41.91350521989306, -87.72644799204913 41.91359126509381, -87.72644958148167 41.91364456635991, -87.72645280338126 41.91375432526024, -87.72645373604144 41.91377998890364, -87.726482983936 41.91458642646893, -87.72650422562124 41.91526071427195, -87.72651027252769 41.9153437866916, -87.72651800677205 41.91545041346902, -87.72652307593158 41.915822887416844, -87.72652916014837 41.91622783103394, -87.72654194437254 41.91669345747519, -87.72655074115495 41.91701375562439, -87.72655896065119 41.91716615884702, -87.72656724153784 41.917319852178125, -87.72657601447033 41.91762327328153, -87.7265834832369 41.917882093588254, -87.72658918532275 41.91807918707207, -87.72659518726356 41.918287286224015, -87.72660918615449 41.9187721561043, -87.72661502486903 41.918993618769846, -87.72662009348441 41.91918777254095, -87.72662755863671 41.91944700452793, -87.72663626262653 41.91975001351717, -87.72664079212517 41.91990799525752, -87.72664784456319 41.92015262572793, -87.72666310381597 41.92068297385237, -87.72666738121801 41.920824900629135, -87.72667334611646 41.92102144627746, -87.72667890513054 41.921272462863065, -87.72668881862175 41.92171935807536, -87.7266958797964 41.921881634270086, -87.72673089165191 41.921975397516505, -87.72686881747245 41.9222446762548, -87.72707509896253 41.92264507831493, -87.7269296382861 41.92264359676973, -87.72683253163021 41.9226462671259, -87.7267842725235 41.922647603793095, -87.7267801572513 41.922647582054246, -87.72675340789017 41.92264744074766, -87.72657913346612 41.92264651997031, -87.72644075769357 41.92265352753667, -87.72645598372962 41.922683108401074, -87.72659347321586 41.92296747845672, -87.7266368648666 41.923049430790414, -87.72668857330477 41.9231417455517, -87.726738054467 41.923310173141566, -87.72674315842924 41.92352005124056, -87.7267514857692 41.923851268752536, -87.72675433011166 41.92398547646047, -87.72676045963938 41.92427719289605, -87.7267685697472 41.92448395835132, -87.72677855078352 41.924737605158896, -87.72678587817005 41.92498045319115, -87.72679217457173 41.92518860859492, -87.72680431555887 41.92562157465755, -87.72681576580527 41.92605379609675, -87.72682238450358 41.92632106374193, -87.72682743354517 41.92652512381492, -87.7268431029964 41.92702015516905, -87.72685451330105 41.927491563841855, -87.72686069928018 41.92766483945327, -87.72687129582314 41.927962232467166, -87.72687553316618 41.9281317381818, -87.72688829047014 41.92861226456828, -87.726889771367 41.92866542818077, -87.72690293249497 41.92913437595397, -87.72691435751109 41.929546097557285, -87.72692156830662 41.929766414743916, -87.72692473938416 41.92997869724328, -87.72693512267074 41.93025597370028, -87.72694665081977 41.93063353009784, -87.72695295299644 41.93087609796826, -87.72696013572907 41.931149845007376, -87.72696565562582 41.931335328717296, -87.72697120119612 41.93152196526809, -87.72697869215138 41.93179036266602, -87.72664971414545 41.93179672020415, -87.72638232787523 41.93179942341062, -87.7257611464917 41.93180571555809, -87.72534292115417 41.93180995052541, -87.72453830701556 41.931821192053455, -87.72418953416803 41.93182606554013, -87.72393556146383 41.93182877932479, -87.72331401916581 41.93183818473116, -87.72330001501632 41.931838412055576, -87.72328538613537 41.93183863633344, -87.72288684172587 41.931844668406136, -87.72233117146658 41.931848628168254, -87.72208763686025 41.93185122875649, -87.72186064207419 41.93185364255874, -87.72132910035488 41.931859317615206, -87.72085857934347 41.93186729163658, -87.72064994878738 41.93187084387664, -87.71987436826463 41.931878008906935, -87.71963631303099 41.93188024937897, -87.71930335935454 41.93188335394204, -87.7188845414306 41.931887974051925, -87.71841697530384 41.93189436209204, -87.71803493873428 41.93189958771339, -87.7173315484941 41.93190929026722, -87.71719504073577 41.93191091792639, -87.71664228431185 41.93191750024409, -87.71597130134244 41.931924048144445, -87.71545898558985 41.931929058523195, -87.71503914915968 41.931932533854685, -87.71500084689116 41.93193337046637, -87.71475463740829 41.93193893236618, -87.71414554049103 41.93194942529148, -87.7141416810771 41.93194948666815, -87.71371006675591 41.93195478727461, -87.7136474744263 41.93195540988648, -87.71316393679936 41.93196012632997, -87.71291231912431 41.93196244425722, -87.71273244538484 41.931964106628925, -87.71225310577034 41.93198308437724, -87.71167520904585 41.931978502451365, -87.71154586806728 41.93198007986902, -87.71127143528086 41.9319816669162, -87.71106913095079 41.93198460477858, -87.71064445352029 41.93199078195724, -87.71064129250125 41.93199081976736, -87.71045376397089 41.931993534744024, -87.71015243903747 41.93199793705617, -87.70986562796118 41.932002609278435, -87.70943223134958 41.932009695242556, -87.70923037419911 41.93201197368091, -87.70907163020082 41.93201380011942, -87.70864393907426 41.93201995364956, -87.70826803688018 41.932025344590826, -87.70802283769673 41.93202894908577, -87.70783571234188 41.93203177188764, -87.70742721399738 41.9320294633948, -87.70706016863947 41.93202732481165, -87.70681647710055 41.93203085255807, -87.70681493329269 41.93203087157641, -87.70654188682094 41.93203347024489, -87.70620259211243 41.932034718520825, -87.7058121748749 41.932036180296386, -87.70560033260897 41.93203732746428, -87.70559298186865 41.9320373696717, -87.70542222801593 41.932038411836274, -87.70498090164341 41.932040827404, -87.70464240919623 41.93204270663069, -87.70443048362051 41.932044839104044, -87.70415122427544 41.93204761759424, -87.70375217694311 41.93205218099797, -87.70351661495627 41.93205486809593, -87.70325991026141 41.93205496909623, -87.70314035923694 41.93205505386424, -87.70292566069567 41.932055137615116, -87.70279177731095 41.93205519828117, -87.70252169381702 41.93205917583963, -87.70208852387692 41.93206552175867, -87.70191041894277 41.93206662805426, -87.70190417093652 41.93206667615834, -87.70168736453162 41.9320680906021, -87.70150922275045 41.93206919607258, -87.70129869901479 41.93207078170275, -87.7009908151422 41.93207309300126, -87.70089051584037 41.932073775478656, -87.70073394681292 41.932074861428184, -87.70057774581892 41.932075921544346, -87.70036619426675 41.932077362657786, -87.7000731247165 41.932079314017635, -87.69973080615772 41.93208156936257, -87.69961958984241 41.932082437465986, -87.69947448621782 41.932083612282746, -87.69945875558923 41.93208374497832, -87.69931850360703 41.93208486419258, -87.69916266853578 41.93208608919455, -87.69884619190695 41.93208768880524, -87.69852651823089 41.93208929717284, -87.69843738851615 41.93209020384535, -87.69825865216967 41.93209198710847, -87.69823097584144 41.93209227316868, -87.69809127262262 41.93209366820411, -87.6979129766083 41.93209548080744, -87.69761768237878 41.93209568486446, -87.69704840947396 41.932096098919025, -87.6966238986005 41.9320964075411, -87.696402049137 41.93210231221084, -87.69636187842406 41.93210252830417, -87.69613265083531 41.932103836044156, -87.69588625986613 41.93210523999897, -87.69578055881526 41.93210583327541, -87.69568897072918 41.932106367483215, -87.69551626921387 41.93210735658701, -87.69534294278324 41.93210834209588, -87.6951752031596 41.93210927599918, -87.694957111598 41.93211053344757, -87.6947454890851 41.93211171662327, -87.69433341629467 41.93211406172366, -87.69428327462316 41.93211542919294, -87.69413266603455 41.9321195031424, -87.69399786430945 41.93212317074558, -87.69391007988658 41.93212553590048, -87.69388530303289 41.93212622118264, -87.69376164007139 41.93212956648794, -87.69359784631277 41.93212914788629, -87.69318905559615 41.93212667740324, -87.69277296457277 41.932130229537, -87.69237528764808 41.932133608330055, -87.69200246830468 41.93213556066047, -87.69156719888382 41.932138589529124, -87.6911872431168 41.93214121268423, -87.69095664167017 41.93214392926403, -87.69074643904139 41.93214640300211, -87.69034834306261 41.93215122686626, -87.69013677959623 41.932153829009835, -87.6899501492944 41.93215481410787, -87.68973018736938 41.93215566695504, -87.6895785108703 41.932156271086654, -87.68912724556938 41.932156539123646, -87.68886429228031 41.93215668257691, -87.68878974889498 41.93215796563201, -87.68849653769635 41.93216296037851, -87.68849231040052 41.93216304626903, -87.68788267332374 41.93217913224164, -87.68743541933928 41.93217519014484, -87.68708801087931 41.932179162834636, -87.68680915495807 41.93218192885278, -87.6866066763876 41.932183752379466, -87.68640978416573 41.93218555213996, -87.68620310365633 41.932188613484556, -87.6858308334592 41.93219436319891, -87.6854639096358 41.93219838550284, -87.68514623736093 41.9322018616245, -87.68485619683784 41.932205821962434, -87.68477019090795 41.932206708361626, -87.68449511939718 41.93220954495124, -87.68396297947626 41.932215647485776, -87.6835098259795 41.9322208498043, -87.68322943112547 41.93222310459476, -87.68295041728591 41.932226903012726, -87.68284014649325 41.93222872083148, -87.68271179134597 41.932230820055544, -87.68252219874226 41.93223394415866, -87.68233481829628 41.9322363945044, -87.68207624706793 41.93223926403458, -87.68157916962365 41.93224511531487, -87.68128464676258 41.93224890404323, -87.68098774508755 41.93225171822898, -87.68069231064511 41.93225478669232, -87.68041892912545 41.93225762325832, -87.68003513156879 41.9322620812387, -87.67953804985851 41.932268307779175, -87.67921695323707 41.93227235151749, -87.67886003914192 41.93227498274371, -87.67875110153408 41.93227578887204, -87.67856426259341 41.93227914167489, -87.67824661427245 41.932283806229435, -87.67813528714416 41.932284680261, -87.67813523325404 41.93227916406873, -87.67813137359023 41.93187705866085, -87.67817623621562 41.93156200360196, -87.67819369252467 41.93143990308543, -87.67822428687735 41.931226247823105, -87.67825997677097 41.93097787997278, -87.67826649698729 41.9309332686132, -87.67828233861835 41.93082529153194, -87.67829921531269 41.930716689248904, -87.6783091660086 41.930638508108906, -87.67831824829142 41.930537435337754, -87.67832189500196 41.93046835676545, -87.678322987122 41.93040112955289, -87.67832057726972 41.93027746101582, -87.67831493386784 41.93011425736557, -87.67831076648463 41.92998278547878, -87.67830453368549 41.92978379379659, -87.67830423044015 41.929773912797145, -87.67829909389637 41.929611452963705, -87.67829187583952 41.92938663251232, -87.67828878792632 41.92927898641395, -87.67828661109859 41.92920798102209, -87.67828222785987 41.929094015818, -87.67827965403814 41.92905464911653, -87.67826184620671 41.92890586545832, -87.67817792440415 41.92863167784034, -87.67816744258626 41.92858222201707, -87.67815776580235 41.92853669495639, -87.67809994782928 41.9280854342785, -87.678117581101 41.92748987391022, -87.6781001871949 41.92719658173306, -87.67809995777444 41.9271938635738, -87.67808019490927 41.9269920504872, -87.6780255546679 41.9265392434439, -87.6780181844601 41.92647663321036, -87.67800155213764 41.92633521060833, -87.67798072441178 41.92616206847181, -87.67795630569432 41.92597359292136, -87.67791956402336 41.92536271108521, -87.67789934441855 41.92502609877717, -87.67788047348098 41.92471210662642, -87.67787076951893 41.92455082795146, -87.67786951423854 41.92452988234952, -87.677860465727 41.924275852741836, -87.67784528427691 41.92389223317128, -87.67782478932791 41.92337439061564, -87.67781387124165 41.92309842378121, -87.67781021965934 41.922999254131234, -87.67780760687388 41.92292783439444, -87.67780430260134 41.92283780492725, -87.67779976723106 41.92271371265688, -87.67779742031259 41.92265220115802, -87.67778930451618 41.92243994390668, -87.67778837807512 41.92241556982273, -87.67778999769448 41.92231837858659, -87.67778908440296 41.92229630972703, -87.67778101877416 41.92212222486456, -87.67777229118948 41.92193381149379, -87.6777722280011 41.92193282307441, -87.67776597927917 41.92180378139424, -87.67776218988645 41.92172527488903, -87.6777583047425 41.92159868899131, -87.67775235119399 41.921397750119915, -87.67774886723596 41.92127863093851, -87.67773658454163 41.920985257810116, -87.67773515929152 41.920934261942136, -87.67773145539319 41.92079713923078, -87.67772642988537 41.92061324741475, -87.67771271440365 41.920244509529695, -87.67770354699472 41.92004168639007, -87.67770291147247 41.92002837326015, -87.67769994783222 41.91996254977316, -87.67769232772868 41.91971983412024, -87.67768653289703 41.919575235210196, -87.67768197798495 41.919463821084584, -87.67767514514492 41.91928063226629, -87.67767241017413 41.91920682437409, -87.67766927067252 41.919122256730674, -87.67766104583094 41.91889918639433, -87.67764768684656 41.918520790953345, -87.67764238991899 41.91837062407218, -87.67763731014453 41.91821719265855, -87.67762843970235 41.917953092458546, -87.67762151065281 41.917757801062976)))"
        ],
        [
         "1",
         "MULTIPOLYGON (((-87.72683253163021 41.9226462671259, -87.7269296382861 41.92264359676973, -87.72707509896253 41.92264507831493, -87.72686881747245 41.9222446762548, -87.72673089165191 41.921975397516505, -87.7266958797964 41.921881634270086, -87.72668881862175 41.92171935807536, -87.72667890513054 41.921272462863065, -87.72667334611646 41.92102144627746, -87.72666738121801 41.920824900629135, -87.72666310381597 41.92068297385237, -87.72664784456319 41.92015262572793, -87.72664079212517 41.91990799525752, -87.72663626262653 41.91975001351717, -87.72662755863671 41.91944700452793, -87.72662009348441 41.91918777254095, -87.72661502486903 41.918993618769846, -87.72660918615449 41.9187721561043, -87.72659518726356 41.918287286224015, -87.72658918532275 41.91807918707207, -87.7265834832369 41.917882093588254, -87.72657601447033 41.91762327328153, -87.72656724153784 41.917319852178125, -87.72655896065119 41.91716615884702, -87.72655074115495 41.91701375562439, -87.72654194437254 41.91669345747519, -87.72652916014837 41.91622783103394, -87.72652307593158 41.915822887416844, -87.72651800677205 41.91545041346902, -87.72651027252769 41.9153437866916, -87.72650422562124 41.91526071427195, -87.726482983936 41.91458642646893, -87.72645373604144 41.91377998890364, -87.72645280338126 41.91375432526024, -87.72644958148167 41.91364456635991, -87.72644799204913 41.91359126509381, -87.72644546401689 41.91350521989306, -87.7264325829953 41.91306928534608, -87.72642988819561 41.91297755876175, -87.72642547524968 41.91285003849906, -87.72641940776055 41.912672207554266, -87.72640958355507 41.912297595138924, -87.72639359358142 41.91180596356221, -87.72639056875794 41.91170641414634, -87.7263879720355 41.911619847286204, -87.72637257958216 41.91118927787829, -87.72635815781624 41.910737692801796, -87.72634730371159 41.91039814626592, -87.72634687693083 41.91038502656941, -87.72633230695924 41.90993750211121, -87.72633069402355 41.909886697801674, -87.727555444623 41.90986956508742, -87.72774408231376 41.90986693763216, -87.72877152324601 41.90985253830531, -87.7289728739057 41.90984972891909, -87.72898826921164 41.9098495080115, -87.72999909462929 41.909836107806846, -87.73019654901576 41.90983349534146, -87.73120946817998 41.90982006810403, -87.73142117898259 41.909817253726914, -87.73229995065822 41.90980561086568, -87.73243328801833 41.90980397623712, -87.73264536334638 41.9098014358651, -87.73365533103419 41.90978923395757, -87.73387637163988 41.90978657368306, -87.73487395684401 41.909774515951675, -87.73552076461246 41.90976671603037, -87.73555912366866 41.90976622980445, -87.73626312239267 41.90975556747178, -87.73854714894377 41.90972087875345, -87.73880850287122 41.909716880949524, -87.73976394483559 41.909705138815056, -87.74055952193605 41.9096953353265, -87.74056863428235 41.909695190269765, -87.74112113563888 41.90968725612733, -87.74139931560471 41.909683229501425, -87.74140240195021 41.90968319045795, -87.74159012107245 41.90968048070206, -87.74197536917217 41.90967494606703, -87.74360105390787 41.90965150099586, -87.74439219058179 41.90964900269608, -87.74465618843423 41.9096450875366, -87.74484398134514 41.90964231788557, -87.74519020920842 41.90963723109742, -87.74564863808008 41.909631757141554, -87.74577547220419 41.909630128482306, -87.74611445580064 41.90962577036245, -87.74712596845245 41.90961279917336, -87.7480611368782 41.90960011610637, -87.74867447347937 41.90959229122259, -87.74884730866937 41.909590070107214, -87.74920146582643 41.90958558787255, -87.74950271437486 41.90958176859199, -87.75015789744351 41.90957368201802, -87.75103537234281 41.90956254778651, -87.7512199644789 41.90956021792692, -87.75159848126303 41.9095554127751, -87.75195473700701 41.90955041134292, -87.75226047159653 41.90954611378249, -87.75264714983739 41.90954068785609, -87.75286947886408 41.909537558247315, -87.75349144027192 41.90953054705785, -87.7540923120807 41.90952378259347, -87.75471245095284 41.90951516393896, -87.75514997990342 41.9095090801409, -87.75579564418281 41.90950127014805, -87.75657284403799 41.90949186679326, -87.75688114730139 41.90948781681156, -87.757192243501 41.90948369741373, -87.75762594793859 41.909477996832464, -87.7581029348691 41.909471660523245, -87.75843585600656 41.909467235654866, -87.7590502220074 41.909459058493795, -87.75933027207402 41.909455189734864, -87.75968391724561 41.90945028855036, -87.76025603234692 41.90944236030895, -87.76054629234339 41.909438841404146, -87.76093553479322 41.90943411399268, -87.76114025999075 41.909431621696584, -87.76147754919675 41.909427538945444, -87.76177034364218 41.90942405707876, -87.76217729464862 41.90941919385581, -87.76261859922326 41.90941392385297, -87.7629950934247 41.9094091807771, -87.76341953597638 41.909403796295344, -87.7639454959048 41.90939718493757, -87.76421657235164 41.90939435745824, -87.76465551855807 41.90938983625537, -87.76515016393033 41.90938476572017, -87.76572417133315 41.909378740628775, -87.76634138644249 41.90937223982584, -87.76673931854285 41.90936520297481, -87.76712156132812 41.90935841655442, -87.76747830416329 41.90935207970137, -87.76791596670267 41.90934723777315, -87.76833062892204 41.909342692644394, -87.76873463650064 41.90933823077451, -87.76909547849368 41.90933361034136, -87.76954854232238 41.90932782249856, -87.76982432678234 41.9093242914614, -87.77027948263357 41.909318730539546, -87.77032570369344 41.90931816141024, -87.7707539648612 41.90931290568051, -87.77089497946763 41.90931118153295, -87.77145821868565 41.9093054866667, -87.77173245276818 41.90930276679982, -87.77196951172535 41.909299672381515, -87.7723843643053 41.909294290271774, -87.77271629576934 41.90928938008227, -87.772971913272 41.90928557823276, -87.77317898902196 41.90928304849856, -87.7735906425539 41.90927800331283, -87.77396610299895 41.90927365836868, -87.77406703169672 41.9092724759237, -87.77439226885583 41.90926846125683, -87.77474693636114 41.90926406743087, -87.77502032982525 41.9092608140794, -87.77515252662948 41.9092591515988, -87.77559930561439 41.90925355631019, -87.77643742007969 41.90924307963685, -87.7766568415327 41.90924032914804, -87.77668972547563 41.90923991213278, -87.77690782398923 41.90923718219366, -87.77729442022931 41.909232304103966, -87.7776515884004 41.90922755659484, -87.77797899541096 41.909223212959546, -87.77801375240607 41.909222859714355, -87.77821035324523 41.90922084646953, -87.77844024063292 41.90921855480338, -87.778868318302 41.909213130776905, -87.7790824120551 41.9092104321857, -87.77934368368031 41.90920694537586, -87.77951533924666 41.90920494689556, -87.77978689467425 41.909201783236014, -87.77993121990556 41.90919951503315, -87.78010783917918 41.90919704548866, -87.78042422533923 41.90919261434138, -87.78056792427087 41.90919053462495, -87.78082029942142 41.909187742504415, -87.78114409911142 41.90918416831545, -87.78128779668427 41.909182252277176, -87.78171330047252 41.9091770248084, -87.7819360280691 41.909174252670255, -87.78212113436382 41.909175964649954, -87.78241743694805 41.909178676458765, -87.78264548519581 41.90917661439337, -87.78287305619037 41.90917452228203, -87.78305286463143 41.90917285932419, -87.78335509833497 41.909169367647095, -87.78362889465916 41.90916617819111, -87.7838692230222 41.90916299245864, -87.78414265514634 41.909159415841465, -87.78428609593199 41.90915743986919, -87.78452882304833 41.90915297443355, -87.7847710215904 41.90915018001351, -87.78500237831095 41.909147854716764, -87.78500593095458 41.90925646125108, -87.78501258198305 41.90945802978194, -87.78501822098886 41.90962765061263, -87.7850235940319 41.90979397715136, -87.785026124259 41.90987178830598, -87.78503402721317 41.91012459770942, -87.78504263198008 41.910398403938075, -87.7850481600334 41.91057238761623, -87.78505561751346 41.910812873303676, -87.7850604312515 41.910958725126314, -87.78506831457352 41.911196660621066, -87.78507481558047 41.911390050538344, -87.78508064073038 41.911563678921574, -87.78508650268695 41.9117373347116, -87.78509563033407 41.91203164280539, -87.78509989417519 41.912173101123074, -87.7851020684873 41.91224528492838, -87.78510800354188 41.912431866400176, -87.78511328553212 41.91259171609028, -87.7851190627943 41.91277955914579, -87.78513006143619 41.91313864009193, -87.78513623094804 41.91331929517147, -87.78514439043427 41.913559372386935, -87.78515163757235 41.913772963428386, -87.78515795329287 41.913966599420554, -87.78516337502568 41.914140198354424, -87.78516883146152 41.91431401678155, -87.78517261238721 41.91443464391878, -87.78517710878678 41.91459188263967, -87.78518430478444 41.91483722426953, -87.78519016150163 41.915024409011714, -87.78519600464199 41.91520459608869, -87.78520379130002 41.91544533012741, -87.78520999678491 41.915639020282306, -87.78521680136127 41.915852828669486, -87.78522187998176 41.916019345643285, -87.78522485613405 41.91611809748768, -87.7852256815394 41.91614614743877, -87.7852294161098 41.916319436247974, -87.78522720521396 41.91641465070725, -87.78522574139927 41.91647836484876, -87.78523161302338 41.91663807988773, -87.78523665016998 41.9167750687458, -87.7852414274794 41.91695961380558, -87.78524471225053 41.91708671504755, -87.78524829396058 41.91721348825866, -87.78525270691732 41.91736331707068, -87.78525776920105 41.91753603595938, -87.78526316988572 41.91772074862355, -87.7852663833731 41.9178304236221, -87.78527145654981 41.917997571547616, -87.785275382497 41.918101267511396, -87.78527738823193 41.918227566794855, -87.78528007919547 41.91839832579553, -87.78528440527303 41.91851969638934, -87.7852880740732 41.918623391116036, -87.78529565839384 41.9188363249556, -87.7853003682474 41.91896867430521, -87.78530546261524 41.9191247632429, -87.78531340573548 41.91939025077404, -87.78531726776757 41.91952292550921, -87.78532130039963 41.919661418692456, -87.78532578368936 41.919811659409184, -87.7853320616091 41.92003987234556, -87.7853354474657 41.920163790621196, -87.7853387997945 41.92026155633226, -87.78534457228226 41.92042862526365, -87.78534889076275 41.92055518237623, -87.78535261888588 41.920664859774895, -87.78535636248851 41.92078562380776, -87.78535988170353 41.92090682605018, -87.78536330382582 41.92102220977931, -87.78536874456164 41.92120659327954, -87.7853721173128 41.92131915041335, -87.78537731044783 41.92149809907369, -87.78538175950389 41.92164809273369, -87.78538844705001 41.921862833301454, -87.78539358073806 41.922027264741885, -87.78539530056318 41.92210540123383, -87.78539585946928 41.92213026664259, -87.78540053273858 41.92233994826171, -87.78540518017711 41.92244957512726, -87.78541141875165 41.922630888847856, -87.78541948696372 41.922864680864684, -87.7854217590271 41.92295129972432, -87.78542218341018 41.92296612059987, -87.78542254548252 41.9229796239469, -87.78542388059446 41.923029739917276, -87.78542726304643 41.92315835088323, -87.78542887906642 41.92321859447508, -87.78543276349484 41.923361559956305, -87.78543538686444 41.92346294438057, -87.78544266027838 41.92367796216539, -87.7854484726971 41.92384901038773, -87.7854508766414 41.92391592614475, -87.78545744529804 41.92409735129856, -87.78545937139664 41.924151421840016, -87.7854638574237 41.92427992813925, -87.78547042382998 41.924495985326416, -87.78547458848611 41.92464487965034, -87.78547882453408 41.924794021428916, -87.78548453331568 41.924942840854, -87.78549371382776 41.925179794013424, -87.7854982573478 41.92530160457196, -87.7855033096345 41.92543694674826, -87.7855143756238 41.92571553892365, -87.78552290418273 41.92592995887778, -87.7855319741617 41.92603809737498, -87.78554355765522 41.9261875210809, -87.78554695663972 41.926275599706706, -87.7855493006565 41.92633664256433, -87.78555287953813 41.92643805879759, -87.78555516952112 41.92650544070388, -87.78555824016772 41.92659324312934, -87.78556336596414 41.92674148343507, -87.78556564915803 41.9268096611319, -87.7855689693084 41.926911268218184, -87.78557212833657 41.92700590439646, -87.78557481543433 41.927087009132535, -87.78557797146685 41.92718202941701, -87.7855781338727 41.92718880843882, -87.78558346796953 41.9273385042324, -87.78559098026811 41.927551464832156, -87.78559784696505 41.92775399427255, -87.78560666189327 41.92803806404825, -87.78561293673224 41.928241057097814, -87.78561889010743 41.9284171828106, -87.7856256871175 41.9286063747971, -87.78563028830435 41.928734360274504, -87.78563384885 41.928842252824516, -87.78563915004598 41.92902589438797, -87.78564465786981 41.92916820898508, -87.7856514966757 41.92934392705141, -87.7856549815795 41.92945206627783, -87.78565910148173 41.92958048851637, -87.78566147893474 41.9296548409357, -87.78566760081056 41.929841367826356, -87.78567126488446 41.92995436531886, -87.7856786313382 41.93017583209154, -87.7856875247777 41.93046799765844, -87.78568177981442 41.93066700918065, -87.78568194186296 41.93075548372396, -87.78568917028213 41.93100170287873, -87.78531158827977 41.93100725602172, -87.7850908355441 41.93101089474875, -87.78508201445128 41.93101101728328, -87.78492441087653 41.93101320103267, -87.78473949982528 41.931015638221425, -87.78447406323349 41.93101876032775, -87.78416650665704 41.931022366706635, -87.78394413226813 41.93102654431813, -87.78372172619676 41.93103011761714, -87.78351883718904 41.93103337244697, -87.78325839610073 41.931036762712424, -87.78294572751187 41.93104080771194, -87.78261225399615 41.9310453284987, -87.78244535149659 41.931047656133494, -87.78204267197624 41.93105280361778, -87.78168626567454 41.93105737605247, -87.78135333761524 41.931062581722735, -87.78109362341642 41.931066876235384, -87.78082869526756 41.93107067869012, -87.78048331034641 41.93107565710457, -87.78027983809066 41.931078327045576, -87.78021588560063 41.93107917163288, -87.77996716815657 41.9310824737643, -87.77961164670224 41.93108671478419, -87.77939303393251 41.9310893100687, -87.77932183946761 41.931090393573626, -87.77927674056772 41.93109110913578, -87.77883777480304 41.93109779900273, -87.77839424361841 41.93110542560573, -87.77817940677896 41.93110910714591, -87.77775585563109 41.93111386418701, -87.77738444428937 41.93111966795922, -87.77718097301567 41.931122195201404, -87.77687782391612 41.93112599549857, -87.77649402676848 41.93113187350668, -87.77620141215391 41.93113714989824, -87.77596593325477 41.931139464927526, -87.7756423195563 41.93114264094237, -87.77528762323206 41.93114912298313, -87.77506860981147 41.931151241567164, -87.77474895014197 41.93115613591515, -87.77444546282834 41.931160778648746, -87.77408864463554 41.93116612131798, -87.77390310603286 41.931168785045536, -87.77353327762006 41.93117419987912, -87.7732957302087 41.931177679158395, -87.77312607074249 41.9311799800035, -87.77278707828903 41.93118507629043, -87.77255074000546 41.931188971770965, -87.77232066557198 41.93119100357932, -87.77219596207294 41.93119212314064, -87.7717921333368 41.93119821697641, -87.77138613949867 41.93120394184007, -87.77120202916016 41.93120712952697, -87.77110458978875 41.931208765569814, -87.77090581494889 41.93121210051266, -87.77040525491665 41.93121870346018, -87.77013312290312 41.93122241826664, -87.77011783311833 41.931222617759545, -87.7698911274033 41.93122600596297, -87.7695779739103 41.931230670859215, -87.76918895983204 41.9312362245458, -87.76891906820103 41.93124011206709, -87.76867614966982 41.93124415925221, -87.76852309923542 41.93124667211565, -87.76812323920142 41.931252717615045, -87.76785356722823 41.931256686108135, -87.76746174275004 41.93126002478822, -87.76728051317245 41.93126157384746, -87.76702720465308 41.93126444111978, -87.7668533916856 41.93126679439899, -87.76679182721226 41.931267643152715, -87.76660598686449 41.931271116866306, -87.76624636717405 41.931277299486105, -87.76589420859878 41.931283353267375, -87.76568923848477 41.931284892324484, -87.76536998444902 41.9312894606295, -87.76518378204011 41.93129232652004, -87.76501820438598 41.93129427869398, -87.76466106433224 41.931298465335665, -87.76450096343174 41.93130030674563, -87.76450052253902 41.93130030456138, -87.76432366193052 41.93130230967359, -87.7640363125017 41.9313062915014, -87.76399577125515 41.931306913751904, -87.76399242657301 41.93130697956257, -87.76378968394924 41.9313100904139, -87.76352945557015 41.931314123103434, -87.7632986827098 41.93131610606034, -87.76329096450249 41.93131617744278, -87.7631558964113 41.93131734542797, -87.76275118605848 41.93132323843013, -87.76256062258598 41.931324678701635, -87.76209235505262 41.93132819524981, -87.76159599594078 41.93133329880565, -87.76133489108446 41.93133671842658, -87.76094448333961 41.93134179808908, -87.76082628023651 41.931343349202145, -87.7601667883407 41.93135232562049, -87.7594059321734 41.93136202673357, -87.75887214537583 41.93136885238287, -87.7582083574125 41.93137735698086, -87.7574143439802 41.931387921407776, -87.75667169395291 41.93139591183345, -87.75642025225933 41.93139947871405, -87.75585477546147 41.931407475705214, -87.75501271831985 41.9314191814346, -87.75418506950973 41.93143062442534, -87.7539605334085 41.93143371782829, -87.75347525732992 41.93144037903282, -87.75283260400131 41.931448383060996, -87.7521244086425 41.93145813728479, -87.75179689271313 41.93146174780262, -87.75175579934427 41.931462472840614, -87.75150508473253 41.9314668556321, -87.75119386948413 41.93147230347085, -87.75068959464014 41.93147880162137, -87.74989466317045 41.931489035096185, -87.74937035838408 41.931495590324744, -87.74905584451153 41.931500027463954, -87.74877922496827 41.93150394330858, -87.74818676688051 41.93151245128852, -87.74737671580814 41.93152423680987, -87.74724454777126 41.93152570267128, -87.7465946588917 41.931533058696616, -87.7459108674323 41.931542432775544, -87.74579954109556 41.93154345482205, -87.74533182492928 41.931550692722624, -87.74498904143061 41.93155598951496, -87.74474341599146 41.931558380400965, -87.7446516787147 41.931559282349546, -87.74414655981002 41.93156550045191, -87.74379007672974 41.931569872586884, -87.74307913635666 41.931578102547185, -87.74256705263679 41.931586335996, -87.74253764791405 41.93158681594042, -87.74214904271851 41.93159140188484, -87.74193380697587 41.93159410787987, -87.7418810637341 41.93159476930917, -87.74183008505386 41.9315954121565, -87.7416652033379 41.93159747158293, -87.74165153043316 41.93159764810559, -87.74130802066642 41.93160194210609, -87.74108417770314 41.931605453043524, -87.74067645478364 41.9316108134057, -87.74045360966733 41.931613724534614, -87.74015802607107 41.931617631382785, -87.7398865923817 41.93162100374621, -87.73924940380957 41.9316298106918, -87.73883980375906 41.93163545675204, -87.73841808141214 41.931640517276655, -87.73802392551347 41.93164519764031, -87.73757335148065 41.931650517103506, -87.7368149055207 41.93166115111149, -87.73640611285974 41.93166687507861, -87.73557381171243 41.93167604658661, -87.73527488864644 41.931679347395125, -87.73485387897995 41.9316867584351, -87.7343446342862 41.931693817567876, -87.73405573744675 41.931697825982944, -87.73405320117777 41.93169786762986, -87.73405158397743 41.93169788649419, -87.73366215814404 41.93170364688642, -87.73337826121471 41.93170746030895, -87.73326115820142 41.931709153373625, -87.73325266777074 41.931709246280256, -87.73312670675976 41.931711057703595, -87.73276367592413 41.93171593765894, -87.7320923809896 41.93172474601845, -87.73154523739095 41.93173271933676, -87.73147878343944 41.931733660806614, -87.73142600200968 41.93173448188591, -87.73134521320544 41.93173564999598, -87.7308391493216 41.931740487227884, -87.73063229835235 41.931742475159744, -87.73004323443136 41.931749123645815, -87.72942947820555 41.9317553373071, -87.72898118840449 41.931759893984406, -87.72835001971033 41.93176919359177, -87.72769957333546 41.931780638311245, -87.72757821053408 41.93178194642946, -87.7272083881714 41.93178594972, -87.72697869215138 41.93179036266602, -87.72697120119612 41.93152196526809, -87.72696565562582 41.931335328717296, -87.72696013572907 41.931149845007376, -87.72695295299644 41.93087609796826, -87.72694665081977 41.93063353009784, -87.72693512267074 41.93025597370028, -87.72692473938416 41.92997869724328, -87.72692156830662 41.929766414743916, -87.72691435751109 41.929546097557285, -87.72690293249497 41.92913437595397, -87.726889771367 41.92866542818077, -87.72688829047014 41.92861226456828, -87.72687553316618 41.9281317381818, -87.72687129582314 41.927962232467166, -87.72686069928018 41.92766483945327, -87.72685451330105 41.927491563841855, -87.7268431029964 41.92702015516905, -87.72682743354517 41.92652512381492, -87.72682238450358 41.92632106374193, -87.72681576580527 41.92605379609675, -87.72680431555887 41.92562157465755, -87.72679217457173 41.92518860859492, -87.72678587817005 41.92498045319115, -87.72677855078352 41.924737605158896, -87.7267685697472 41.92448395835132, -87.72676045963938 41.92427719289605, -87.72675433011166 41.92398547646047, -87.7267514857692 41.923851268752536, -87.72674315842924 41.92352005124056, -87.726738054467 41.923310173141566, -87.72668857330477 41.9231417455517, -87.7266368648666 41.923049430790414, -87.72659347321586 41.92296747845672, -87.72645598372962 41.922683108401074, -87.72644075769357 41.92265352753667, -87.72657913346612 41.92264651997031, -87.72675340789017 41.92264744074766, -87.7267801572513 41.922647582054246, -87.7267842725235 41.922647603793095, -87.72683253163021 41.9226462671259)))",
         "34",
         "60639",
         "127476050.762",
         "48103.7827213",
         "MULTIPOLYGON (((-87.72683253163021 41.9226462671259, -87.7269296382861 41.92264359676973, -87.72707509896253 41.92264507831493, -87.72686881747245 41.9222446762548, -87.72673089165191 41.921975397516505, -87.7266958797964 41.921881634270086, -87.72668881862175 41.92171935807536, -87.72667890513054 41.921272462863065, -87.72667334611646 41.92102144627746, -87.72666738121801 41.920824900629135, -87.72666310381597 41.92068297385237, -87.72664784456319 41.92015262572793, -87.72664079212517 41.91990799525752, -87.72663626262653 41.91975001351717, -87.72662755863671 41.91944700452793, -87.72662009348441 41.91918777254095, -87.72661502486903 41.918993618769846, -87.72660918615449 41.9187721561043, -87.72659518726356 41.918287286224015, -87.72658918532275 41.91807918707207, -87.7265834832369 41.917882093588254, -87.72657601447033 41.91762327328153, -87.72656724153784 41.917319852178125, -87.72655896065119 41.91716615884702, -87.72655074115495 41.91701375562439, -87.72654194437254 41.91669345747519, -87.72652916014837 41.91622783103394, -87.72652307593158 41.915822887416844, -87.72651800677205 41.91545041346902, -87.72651027252769 41.9153437866916, -87.72650422562124 41.91526071427195, -87.726482983936 41.91458642646893, -87.72645373604144 41.91377998890364, -87.72645280338126 41.91375432526024, -87.72644958148167 41.91364456635991, -87.72644799204913 41.91359126509381, -87.72644546401689 41.91350521989306, -87.7264325829953 41.91306928534608, -87.72642988819561 41.91297755876175, -87.72642547524968 41.91285003849906, -87.72641940776055 41.912672207554266, -87.72640958355507 41.912297595138924, -87.72639359358142 41.91180596356221, -87.72639056875794 41.91170641414634, -87.7263879720355 41.911619847286204, -87.72637257958216 41.91118927787829, -87.72635815781624 41.910737692801796, -87.72634730371159 41.91039814626592, -87.72634687693083 41.91038502656941, -87.72633230695924 41.90993750211121, -87.72633069402355 41.909886697801674, -87.727555444623 41.90986956508742, -87.72774408231376 41.90986693763216, -87.72877152324601 41.90985253830531, -87.7289728739057 41.90984972891909, -87.72898826921164 41.9098495080115, -87.72999909462929 41.909836107806846, -87.73019654901576 41.90983349534146, -87.73120946817998 41.90982006810403, -87.73142117898259 41.909817253726914, -87.73229995065822 41.90980561086568, -87.73243328801833 41.90980397623712, -87.73264536334638 41.9098014358651, -87.73365533103419 41.90978923395757, -87.73387637163988 41.90978657368306, -87.73487395684401 41.909774515951675, -87.73552076461246 41.90976671603037, -87.73555912366866 41.90976622980445, -87.73626312239267 41.90975556747178, -87.73854714894377 41.90972087875345, -87.73880850287122 41.909716880949524, -87.73976394483559 41.909705138815056, -87.74055952193605 41.9096953353265, -87.74056863428235 41.909695190269765, -87.74112113563888 41.90968725612733, -87.74139931560471 41.909683229501425, -87.74140240195021 41.90968319045795, -87.74159012107245 41.90968048070206, -87.74197536917217 41.90967494606703, -87.74360105390787 41.90965150099586, -87.74439219058179 41.90964900269608, -87.74465618843423 41.9096450875366, -87.74484398134514 41.90964231788557, -87.74519020920842 41.90963723109742, -87.74564863808008 41.909631757141554, -87.74577547220419 41.909630128482306, -87.74611445580064 41.90962577036245, -87.74712596845245 41.90961279917336, -87.7480611368782 41.90960011610637, -87.74867447347937 41.90959229122259, -87.74884730866937 41.909590070107214, -87.74920146582643 41.90958558787255, -87.74950271437486 41.90958176859199, -87.75015789744351 41.90957368201802, -87.75103537234281 41.90956254778651, -87.7512199644789 41.90956021792692, -87.75159848126303 41.9095554127751, -87.75195473700701 41.90955041134292, -87.75226047159653 41.90954611378249, -87.75264714983739 41.90954068785609, -87.75286947886408 41.909537558247315, -87.75349144027192 41.90953054705785, -87.7540923120807 41.90952378259347, -87.75471245095284 41.90951516393896, -87.75514997990342 41.9095090801409, -87.75579564418281 41.90950127014805, -87.75657284403799 41.90949186679326, -87.75688114730139 41.90948781681156, -87.757192243501 41.90948369741373, -87.75762594793859 41.909477996832464, -87.7581029348691 41.909471660523245, -87.75843585600656 41.909467235654866, -87.7590502220074 41.909459058493795, -87.75933027207402 41.909455189734864, -87.75968391724561 41.90945028855036, -87.76025603234692 41.90944236030895, -87.76054629234339 41.909438841404146, -87.76093553479322 41.90943411399268, -87.76114025999075 41.909431621696584, -87.76147754919675 41.909427538945444, -87.76177034364218 41.90942405707876, -87.76217729464862 41.90941919385581, -87.76261859922326 41.90941392385297, -87.7629950934247 41.9094091807771, -87.76341953597638 41.909403796295344, -87.7639454959048 41.90939718493757, -87.76421657235164 41.90939435745824, -87.76465551855807 41.90938983625537, -87.76515016393033 41.90938476572017, -87.76572417133315 41.909378740628775, -87.76634138644249 41.90937223982584, -87.76673931854285 41.90936520297481, -87.76712156132812 41.90935841655442, -87.76747830416329 41.90935207970137, -87.76791596670267 41.90934723777315, -87.76833062892204 41.909342692644394, -87.76873463650064 41.90933823077451, -87.76909547849368 41.90933361034136, -87.76954854232238 41.90932782249856, -87.76982432678234 41.9093242914614, -87.77027948263357 41.909318730539546, -87.77032570369344 41.90931816141024, -87.7707539648612 41.90931290568051, -87.77089497946763 41.90931118153295, -87.77145821868565 41.9093054866667, -87.77173245276818 41.90930276679982, -87.77196951172535 41.909299672381515, -87.7723843643053 41.909294290271774, -87.77271629576934 41.90928938008227, -87.772971913272 41.90928557823276, -87.77317898902196 41.90928304849856, -87.7735906425539 41.90927800331283, -87.77396610299895 41.90927365836868, -87.77406703169672 41.9092724759237, -87.77439226885583 41.90926846125683, -87.77474693636114 41.90926406743087, -87.77502032982525 41.9092608140794, -87.77515252662948 41.9092591515988, -87.77559930561439 41.90925355631019, -87.77643742007969 41.90924307963685, -87.7766568415327 41.90924032914804, -87.77668972547563 41.90923991213278, -87.77690782398923 41.90923718219366, -87.77729442022931 41.909232304103966, -87.7776515884004 41.90922755659484, -87.77797899541096 41.909223212959546, -87.77801375240607 41.909222859714355, -87.77821035324523 41.90922084646953, -87.77844024063292 41.90921855480338, -87.778868318302 41.909213130776905, -87.7790824120551 41.9092104321857, -87.77934368368031 41.90920694537586, -87.77951533924666 41.90920494689556, -87.77978689467425 41.909201783236014, -87.77993121990556 41.90919951503315, -87.78010783917918 41.90919704548866, -87.78042422533923 41.90919261434138, -87.78056792427087 41.90919053462495, -87.78082029942142 41.909187742504415, -87.78114409911142 41.90918416831545, -87.78128779668427 41.909182252277176, -87.78171330047252 41.9091770248084, -87.7819360280691 41.909174252670255, -87.78212113436382 41.909175964649954, -87.78241743694805 41.909178676458765, -87.78264548519581 41.90917661439337, -87.78287305619037 41.90917452228203, -87.78305286463143 41.90917285932419, -87.78335509833497 41.909169367647095, -87.78362889465916 41.90916617819111, -87.7838692230222 41.90916299245864, -87.78414265514634 41.909159415841465, -87.78428609593199 41.90915743986919, -87.78452882304833 41.90915297443355, -87.7847710215904 41.90915018001351, -87.78500237831095 41.909147854716764, -87.78500593095458 41.90925646125108, -87.78501258198305 41.90945802978194, -87.78501822098886 41.90962765061263, -87.7850235940319 41.90979397715136, -87.785026124259 41.90987178830598, -87.78503402721317 41.91012459770942, -87.78504263198008 41.910398403938075, -87.7850481600334 41.91057238761623, -87.78505561751346 41.910812873303676, -87.7850604312515 41.910958725126314, -87.78506831457352 41.911196660621066, -87.78507481558047 41.911390050538344, -87.78508064073038 41.911563678921574, -87.78508650268695 41.9117373347116, -87.78509563033407 41.91203164280539, -87.78509989417519 41.912173101123074, -87.7851020684873 41.91224528492838, -87.78510800354188 41.912431866400176, -87.78511328553212 41.91259171609028, -87.7851190627943 41.91277955914579, -87.78513006143619 41.91313864009193, -87.78513623094804 41.91331929517147, -87.78514439043427 41.913559372386935, -87.78515163757235 41.913772963428386, -87.78515795329287 41.913966599420554, -87.78516337502568 41.914140198354424, -87.78516883146152 41.91431401678155, -87.78517261238721 41.91443464391878, -87.78517710878678 41.91459188263967, -87.78518430478444 41.91483722426953, -87.78519016150163 41.915024409011714, -87.78519600464199 41.91520459608869, -87.78520379130002 41.91544533012741, -87.78520999678491 41.915639020282306, -87.78521680136127 41.915852828669486, -87.78522187998176 41.916019345643285, -87.78522485613405 41.91611809748768, -87.7852256815394 41.91614614743877, -87.7852294161098 41.916319436247974, -87.78522720521396 41.91641465070725, -87.78522574139927 41.91647836484876, -87.78523161302338 41.91663807988773, -87.78523665016998 41.9167750687458, -87.7852414274794 41.91695961380558, -87.78524471225053 41.91708671504755, -87.78524829396058 41.91721348825866, -87.78525270691732 41.91736331707068, -87.78525776920105 41.91753603595938, -87.78526316988572 41.91772074862355, -87.7852663833731 41.9178304236221, -87.78527145654981 41.917997571547616, -87.785275382497 41.918101267511396, -87.78527738823193 41.918227566794855, -87.78528007919547 41.91839832579553, -87.78528440527303 41.91851969638934, -87.7852880740732 41.918623391116036, -87.78529565839384 41.9188363249556, -87.7853003682474 41.91896867430521, -87.78530546261524 41.9191247632429, -87.78531340573548 41.91939025077404, -87.78531726776757 41.91952292550921, -87.78532130039963 41.919661418692456, -87.78532578368936 41.919811659409184, -87.7853320616091 41.92003987234556, -87.7853354474657 41.920163790621196, -87.7853387997945 41.92026155633226, -87.78534457228226 41.92042862526365, -87.78534889076275 41.92055518237623, -87.78535261888588 41.920664859774895, -87.78535636248851 41.92078562380776, -87.78535988170353 41.92090682605018, -87.78536330382582 41.92102220977931, -87.78536874456164 41.92120659327954, -87.7853721173128 41.92131915041335, -87.78537731044783 41.92149809907369, -87.78538175950389 41.92164809273369, -87.78538844705001 41.921862833301454, -87.78539358073806 41.922027264741885, -87.78539530056318 41.92210540123383, -87.78539585946928 41.92213026664259, -87.78540053273858 41.92233994826171, -87.78540518017711 41.92244957512726, -87.78541141875165 41.922630888847856, -87.78541948696372 41.922864680864684, -87.7854217590271 41.92295129972432, -87.78542218341018 41.92296612059987, -87.78542254548252 41.9229796239469, -87.78542388059446 41.923029739917276, -87.78542726304643 41.92315835088323, -87.78542887906642 41.92321859447508, -87.78543276349484 41.923361559956305, -87.78543538686444 41.92346294438057, -87.78544266027838 41.92367796216539, -87.7854484726971 41.92384901038773, -87.7854508766414 41.92391592614475, -87.78545744529804 41.92409735129856, -87.78545937139664 41.924151421840016, -87.7854638574237 41.92427992813925, -87.78547042382998 41.924495985326416, -87.78547458848611 41.92464487965034, -87.78547882453408 41.924794021428916, -87.78548453331568 41.924942840854, -87.78549371382776 41.925179794013424, -87.7854982573478 41.92530160457196, -87.7855033096345 41.92543694674826, -87.7855143756238 41.92571553892365, -87.78552290418273 41.92592995887778, -87.7855319741617 41.92603809737498, -87.78554355765522 41.9261875210809, -87.78554695663972 41.926275599706706, -87.7855493006565 41.92633664256433, -87.78555287953813 41.92643805879759, -87.78555516952112 41.92650544070388, -87.78555824016772 41.92659324312934, -87.78556336596414 41.92674148343507, -87.78556564915803 41.9268096611319, -87.7855689693084 41.926911268218184, -87.78557212833657 41.92700590439646, -87.78557481543433 41.927087009132535, -87.78557797146685 41.92718202941701, -87.7855781338727 41.92718880843882, -87.78558346796953 41.9273385042324, -87.78559098026811 41.927551464832156, -87.78559784696505 41.92775399427255, -87.78560666189327 41.92803806404825, -87.78561293673224 41.928241057097814, -87.78561889010743 41.9284171828106, -87.7856256871175 41.9286063747971, -87.78563028830435 41.928734360274504, -87.78563384885 41.928842252824516, -87.78563915004598 41.92902589438797, -87.78564465786981 41.92916820898508, -87.7856514966757 41.92934392705141, -87.7856549815795 41.92945206627783, -87.78565910148173 41.92958048851637, -87.78566147893474 41.9296548409357, -87.78566760081056 41.929841367826356, -87.78567126488446 41.92995436531886, -87.7856786313382 41.93017583209154, -87.7856875247777 41.93046799765844, -87.78568177981442 41.93066700918065, -87.78568194186296 41.93075548372396, -87.78568917028213 41.93100170287873, -87.78531158827977 41.93100725602172, -87.7850908355441 41.93101089474875, -87.78508201445128 41.93101101728328, -87.78492441087653 41.93101320103267, -87.78473949982528 41.931015638221425, -87.78447406323349 41.93101876032775, -87.78416650665704 41.931022366706635, -87.78394413226813 41.93102654431813, -87.78372172619676 41.93103011761714, -87.78351883718904 41.93103337244697, -87.78325839610073 41.931036762712424, -87.78294572751187 41.93104080771194, -87.78261225399615 41.9310453284987, -87.78244535149659 41.931047656133494, -87.78204267197624 41.93105280361778, -87.78168626567454 41.93105737605247, -87.78135333761524 41.931062581722735, -87.78109362341642 41.931066876235384, -87.78082869526756 41.93107067869012, -87.78048331034641 41.93107565710457, -87.78027983809066 41.931078327045576, -87.78021588560063 41.93107917163288, -87.77996716815657 41.9310824737643, -87.77961164670224 41.93108671478419, -87.77939303393251 41.9310893100687, -87.77932183946761 41.931090393573626, -87.77927674056772 41.93109110913578, -87.77883777480304 41.93109779900273, -87.77839424361841 41.93110542560573, -87.77817940677896 41.93110910714591, -87.77775585563109 41.93111386418701, -87.77738444428937 41.93111966795922, -87.77718097301567 41.931122195201404, -87.77687782391612 41.93112599549857, -87.77649402676848 41.93113187350668, -87.77620141215391 41.93113714989824, -87.77596593325477 41.931139464927526, -87.7756423195563 41.93114264094237, -87.77528762323206 41.93114912298313, -87.77506860981147 41.931151241567164, -87.77474895014197 41.93115613591515, -87.77444546282834 41.931160778648746, -87.77408864463554 41.93116612131798, -87.77390310603286 41.931168785045536, -87.77353327762006 41.93117419987912, -87.7732957302087 41.931177679158395, -87.77312607074249 41.9311799800035, -87.77278707828903 41.93118507629043, -87.77255074000546 41.931188971770965, -87.77232066557198 41.93119100357932, -87.77219596207294 41.93119212314064, -87.7717921333368 41.93119821697641, -87.77138613949867 41.93120394184007, -87.77120202916016 41.93120712952697, -87.77110458978875 41.931208765569814, -87.77090581494889 41.93121210051266, -87.77040525491665 41.93121870346018, -87.77013312290312 41.93122241826664, -87.77011783311833 41.931222617759545, -87.7698911274033 41.93122600596297, -87.7695779739103 41.931230670859215, -87.76918895983204 41.9312362245458, -87.76891906820103 41.93124011206709, -87.76867614966982 41.93124415925221, -87.76852309923542 41.93124667211565, -87.76812323920142 41.931252717615045, -87.76785356722823 41.931256686108135, -87.76746174275004 41.93126002478822, -87.76728051317245 41.93126157384746, -87.76702720465308 41.93126444111978, -87.7668533916856 41.93126679439899, -87.76679182721226 41.931267643152715, -87.76660598686449 41.931271116866306, -87.76624636717405 41.931277299486105, -87.76589420859878 41.931283353267375, -87.76568923848477 41.931284892324484, -87.76536998444902 41.9312894606295, -87.76518378204011 41.93129232652004, -87.76501820438598 41.93129427869398, -87.76466106433224 41.931298465335665, -87.76450096343174 41.93130030674563, -87.76450052253902 41.93130030456138, -87.76432366193052 41.93130230967359, -87.7640363125017 41.9313062915014, -87.76399577125515 41.931306913751904, -87.76399242657301 41.93130697956257, -87.76378968394924 41.9313100904139, -87.76352945557015 41.931314123103434, -87.7632986827098 41.93131610606034, -87.76329096450249 41.93131617744278, -87.7631558964113 41.93131734542797, -87.76275118605848 41.93132323843013, -87.76256062258598 41.931324678701635, -87.76209235505262 41.93132819524981, -87.76159599594078 41.93133329880565, -87.76133489108446 41.93133671842658, -87.76094448333961 41.93134179808908, -87.76082628023651 41.931343349202145, -87.7601667883407 41.93135232562049, -87.7594059321734 41.93136202673357, -87.75887214537583 41.93136885238287, -87.7582083574125 41.93137735698086, -87.7574143439802 41.931387921407776, -87.75667169395291 41.93139591183345, -87.75642025225933 41.93139947871405, -87.75585477546147 41.931407475705214, -87.75501271831985 41.9314191814346, -87.75418506950973 41.93143062442534, -87.7539605334085 41.93143371782829, -87.75347525732992 41.93144037903282, -87.75283260400131 41.931448383060996, -87.7521244086425 41.93145813728479, -87.75179689271313 41.93146174780262, -87.75175579934427 41.931462472840614, -87.75150508473253 41.9314668556321, -87.75119386948413 41.93147230347085, -87.75068959464014 41.93147880162137, -87.74989466317045 41.931489035096185, -87.74937035838408 41.931495590324744, -87.74905584451153 41.931500027463954, -87.74877922496827 41.93150394330858, -87.74818676688051 41.93151245128852, -87.74737671580814 41.93152423680987, -87.74724454777126 41.93152570267128, -87.7465946588917 41.931533058696616, -87.7459108674323 41.931542432775544, -87.74579954109556 41.93154345482205, -87.74533182492928 41.931550692722624, -87.74498904143061 41.93155598951496, -87.74474341599146 41.931558380400965, -87.7446516787147 41.931559282349546, -87.74414655981002 41.93156550045191, -87.74379007672974 41.931569872586884, -87.74307913635666 41.931578102547185, -87.74256705263679 41.931586335996, -87.74253764791405 41.93158681594042, -87.74214904271851 41.93159140188484, -87.74193380697587 41.93159410787987, -87.7418810637341 41.93159476930917, -87.74183008505386 41.9315954121565, -87.7416652033379 41.93159747158293, -87.74165153043316 41.93159764810559, -87.74130802066642 41.93160194210609, -87.74108417770314 41.931605453043524, -87.74067645478364 41.9316108134057, -87.74045360966733 41.931613724534614, -87.74015802607107 41.931617631382785, -87.7398865923817 41.93162100374621, -87.73924940380957 41.9316298106918, -87.73883980375906 41.93163545675204, -87.73841808141214 41.931640517276655, -87.73802392551347 41.93164519764031, -87.73757335148065 41.931650517103506, -87.7368149055207 41.93166115111149, -87.73640611285974 41.93166687507861, -87.73557381171243 41.93167604658661, -87.73527488864644 41.931679347395125, -87.73485387897995 41.9316867584351, -87.7343446342862 41.931693817567876, -87.73405573744675 41.931697825982944, -87.73405320117777 41.93169786762986, -87.73405158397743 41.93169788649419, -87.73366215814404 41.93170364688642, -87.73337826121471 41.93170746030895, -87.73326115820142 41.931709153373625, -87.73325266777074 41.931709246280256, -87.73312670675976 41.931711057703595, -87.73276367592413 41.93171593765894, -87.7320923809896 41.93172474601845, -87.73154523739095 41.93173271933676, -87.73147878343944 41.931733660806614, -87.73142600200968 41.93173448188591, -87.73134521320544 41.93173564999598, -87.7308391493216 41.931740487227884, -87.73063229835235 41.931742475159744, -87.73004323443136 41.931749123645815, -87.72942947820555 41.9317553373071, -87.72898118840449 41.931759893984406, -87.72835001971033 41.93176919359177, -87.72769957333546 41.931780638311245, -87.72757821053408 41.93178194642946, -87.7272083881714 41.93178594972, -87.72697869215138 41.93179036266602, -87.72697120119612 41.93152196526809, -87.72696565562582 41.931335328717296, -87.72696013572907 41.931149845007376, -87.72695295299644 41.93087609796826, -87.72694665081977 41.93063353009784, -87.72693512267074 41.93025597370028, -87.72692473938416 41.92997869724328, -87.72692156830662 41.929766414743916, -87.72691435751109 41.929546097557285, -87.72690293249497 41.92913437595397, -87.726889771367 41.92866542818077, -87.72688829047014 41.92861226456828, -87.72687553316618 41.9281317381818, -87.72687129582314 41.927962232467166, -87.72686069928018 41.92766483945327, -87.72685451330105 41.927491563841855, -87.7268431029964 41.92702015516905, -87.72682743354517 41.92652512381492, -87.72682238450358 41.92632106374193, -87.72681576580527 41.92605379609675, -87.72680431555887 41.92562157465755, -87.72679217457173 41.92518860859492, -87.72678587817005 41.92498045319115, -87.72677855078352 41.924737605158896, -87.7267685697472 41.92448395835132, -87.72676045963938 41.92427719289605, -87.72675433011166 41.92398547646047, -87.7267514857692 41.923851268752536, -87.72674315842924 41.92352005124056, -87.726738054467 41.923310173141566, -87.72668857330477 41.9231417455517, -87.7266368648666 41.923049430790414, -87.72659347321586 41.92296747845672, -87.72645598372962 41.922683108401074, -87.72644075769357 41.92265352753667, -87.72657913346612 41.92264651997031, -87.72675340789017 41.92264744074766, -87.7267801572513 41.922647582054246, -87.7267842725235 41.922647603793095, -87.72683253163021 41.9226462671259)))"
        ],
        [
         "2",
         "MULTIPOLYGON (((-87.78500237831095 41.909147854716764, -87.78530971530041 41.90914473901434, -87.78542971617406 41.909142896725506, -87.78565796079182 41.909139347725066, -87.78604687192349 41.909134259040314, -87.78631798943154 41.90913069365329, -87.78661393307661 41.90913240485996, -87.78663282092727 41.909131863748435, -87.78696581999185 41.90912216970804, -87.78707409836574 41.90912068162779, -87.78734587058032 41.90911788524622, -87.78764038529883 41.90911483961804, -87.78797546220477 41.90911132705965, -87.78826314690234 41.909107890645195, -87.7885259210714 41.90910474682357, -87.78869640458265 41.90910228997813, -87.78874431409864 41.90910185851708, -87.7898964558743 41.90909161995609, -87.79020776842044 41.90908749452028, -87.79111745704249 41.90907543786443, -87.79142263401909 41.90907136255857, -87.79234198509181 41.90905917735135, -87.79262860700811 41.909055368103445, -87.79356559407152 41.90904289925242, -87.79384148744326 41.90903925615339, -87.79479846149812 41.90902651439102, -87.79505256714863 41.90902312294959, -87.79598841419535 41.90901068386711, -87.79655192114681 41.909003165657545, -87.79720386511462 41.908994493472825, -87.7974549942977 41.90899113770231, -87.79755900917573 41.90898983937659, -87.797702925353 41.90898801344619, -87.79780668293232 41.90898674120691, -87.7978817847751 41.908985499772854, -87.79799998592762 41.908983553626655, -87.79814251032955 41.90898122662523, -87.79824781200168 41.908979796529565, -87.79845044250123 41.90897706315357, -87.79865953904532 41.908974277474776, -87.79876344404117 41.90897292259291, -87.79888439738706 41.90897134503098, -87.79907501174523 41.90896893895641, -87.79919607327392 41.908967581108584, -87.79931132994099 41.908966251228065, -87.79960128770401 41.908963263427495, -87.7997381097416 41.90896186856134, -87.79984775531965 41.908959386724625, -87.79998062350653 41.908956354099324, -87.8001128668041 41.90895337323473, -87.80027702034958 41.90895213214987, -87.8004644670559 41.90895072443224, -87.80057979815683 41.908949283785624, -87.80070681307375 41.908947677472995, -87.80085682784964 41.9089458211293, -87.80118048062005 41.908941997725, -87.80131543042363 41.90894042751122, -87.80151713607712 41.908938425657084, -87.80174235566129 41.90893620285998, -87.80185000031561 41.908935768027355, -87.80211319847736 41.90893448859645, -87.8022789648991 41.90893369118908, -87.8023997750863 41.908931615435975, -87.80254413734671 41.908929126882505, -87.80256615696746 41.90893189057568, -87.80394245518256 41.90889183877272, -87.80574541300014 41.90883935181141, -87.80576774702855 41.90933489929444, -87.80576781235389 41.90935372514305, -87.80576712073781 41.9094198855685, -87.80576876716952 41.90959472852897, -87.80577261339177 41.90966302293245, -87.80577811401037 41.90977130835862, -87.80578527817721 41.909914069201555, -87.8057896420861 41.90999981926887, -87.80579767347437 41.91014878593174, -87.80580244391241 41.9102342359279, -87.80580856558268 41.9103429907843, -87.80581144759607 41.91039454096163, -87.80582049036163 41.91055454402914, -87.80582618773762 41.91070591502064, -87.8058430922932 41.91115602024601, -87.80584686439573 41.91126457219327, -87.80585098476998 41.9113843498092, -87.80585684708132 41.91155586403637, -87.80586096645013 41.91167577878461, -87.80586770781441 41.91186993707154, -87.80587277993078 41.9120124687087, -87.80587935794725 41.912195237715544, -87.80588568569331 41.9123727092567, -87.80589087226409 41.91253258491913, -87.80589787404035 41.91274867089757, -87.80590279874971 41.912909121567566, -87.80590897312813 41.91310969872177, -87.80591376398303 41.91326411158189, -87.80591904124786 41.91343532126575, -87.80592785506197 41.913703528592144, -87.80593339700789 41.91386936097956, -87.80593988 41.914063710030234, -87.80594482985742 41.91421222348498, -87.80594918869384 41.91436109097202, -87.8059516509802 41.91444581672908, -87.80595541234116 41.91456018641213, -87.80596197301915 41.914771879438405, -87.80596655393897 41.91492055583387, -87.80597169472557 41.91508605689672, -87.80598023042913 41.91536578865764, -87.80598525969984 41.91553145384922, -87.80599152186902 41.915739248652336, -87.80599215597888 41.915760409624134, -87.8059966648483 41.91590894851901, -87.80600501414574 41.91618906350679, -87.80600725888198 41.91621541847911, -87.80601137817555 41.91632202344488, -87.80601485338474 41.916435458666214, -87.80602031417077 41.91661119728927, -87.80602148416209 41.916647591088946, -87.80602862394608 41.91686933080241, -87.80603395181467 41.91703442103075, -87.806039599965 41.917209748722655, -87.80604553024804 41.91739539602905, -87.80605177734157 41.91759169241634, -87.80605770253922 41.917777998165754, -87.80606064925762 41.91787082186279, -87.80606505346188 41.91802320201208, -87.80606956832376 41.91817997337249, -87.80607542771418 41.91836534589731, -87.80608227413781 41.91858255600179, -87.8060874459281 41.91874882562036, -87.80609262763119 41.91891386023669, -87.80610043473631 41.91916170038663, -87.80610689387233 41.919367959323964, -87.80611399372776 41.919594610718306, -87.80611825571337 41.9197285488454, -87.8061223907468 41.91985562586981, -87.80612934105541 41.92006918663016, -87.80613467896075 41.92022420547056, -87.80614065514187 41.92039989145491, -87.80614757777039 41.920616827337305, -87.80615187576036 41.92075090295379, -87.80615649282637 41.920895298350175, -87.80616233620388 41.92107372779966, -87.80616932357137 41.92128728868295, -87.80617352025261 41.92144257653577, -87.8061770570337 41.92156646760076, -87.80618210221962 41.92173026660132, -87.8061882195447 41.921915640122634, -87.8061923081543 41.92203942387251, -87.80620080389075 41.92229297497949, -87.8062051485465 41.922421370276126, -87.80620938721667 41.922544797747435, -87.80621620013255 41.922739395262205, -87.80621903887054 41.92282310725334, -87.80622657640471 41.923077010881514, -87.80622567607683 41.92309262143163, -87.80622929199863 41.92330512388318, -87.8062294425308 41.92332255058733, -87.8062298013611 41.923368243567, -87.8062323904327 41.92346441335475, -87.80623951557561 41.92355860067399, -87.8062420321612 41.9235921468136, -87.80624729957779 41.92376472838599, -87.80625508075883 41.92400688770756, -87.80626075271915 41.92418388913174, -87.8062674018849 41.92438504448259, -87.80626987088463 41.924495813015064, -87.80627259355457 41.92463827858711, -87.80627967362346 41.92478707588968, -87.80628551856691 41.9249073549517, -87.80629136524493 41.925027414480354, -87.80629635776653 41.92513073020455, -87.80630343104683 41.92532052628032, -87.80631186053122 41.92554649761243, -87.80631513597979 41.92564412495522, -87.80631882092929 41.925758960437285, -87.80632328394087 41.92592662614454, -87.80632490231652 41.925980036242585, -87.80633295721779 41.92623366760863, -87.80633885438915 41.92641906747868, -87.8063434232187 41.92653368760006, -87.80634749852204 41.92663683450037, -87.80635180767045 41.92675175522208, -87.80635550182781 41.92686101986632, -87.80635881526473 41.92695851021719, -87.80636489341268 41.92713087572934, -87.80637132677418 41.927313643568596, -87.8063745916984 41.92741703371572, -87.80637824804374 41.927526435590515, -87.80638177949544 41.927624256100536, -87.80638660667658 41.927752131945965, -87.80639187876392 41.92789296266557, -87.80640433722243 41.92823670722655, -87.80640938127856 41.92837399676181, -87.80641393785712 41.928494599069765, -87.80641786628385 41.92859774539598, -87.8064212304216 41.92868911617874, -87.80642220119431 41.928740821992896, -87.80642905218792 41.92893989228238, -87.80643584773581 41.92913673975859, -87.80643763099849 41.929187982572145, -87.80644275698383 41.92933764893483, -87.80644911248682 41.92952099263124, -87.80645286048855 41.92962378122309, -87.80645668045702 41.929726734934206, -87.80646091681609 41.929841600372136, -87.80646401351292 41.92993867783522, -87.80646439630615 41.929950205354714, -87.80646576523587 41.93002501932594, -87.80647031810294 41.93019520987021, -87.80647507372746 41.93030950153013, -87.8064770868101 41.93035517460222, -87.80647996100761 41.930412295197534, -87.80649498336554 41.930815244381144, -87.80628327766067 41.930791523216705, -87.80590088926243 41.93076523386736, -87.80587862499708 41.930764473115985, -87.80576204943941 41.93076053462885, -87.8055034116657 41.93076390138517, -87.80527234038817 41.93076676316785, -87.8049501566678 41.93077074193924, -87.80485706098436 41.93077168574471, -87.80466065153921 41.930773772719796, -87.80454348189501 41.93077501685254, -87.80438709412823 41.93077698586991, -87.80435022977933 41.93077747472409, -87.80405167876546 41.93078114835118, -87.80367609167796 41.930785755586605, -87.80349048001236 41.93078865868387, -87.8034465598178 41.9307891146883, -87.80313764814342 41.93079240867992, -87.80282567884986 41.93079662095682, -87.80230751829824 41.93080361091792, -87.8021232300836 41.93080643573575, -87.80182655231846 41.930810166990284, -87.80134611378556 41.93081518686066, -87.8009779982391 41.93081839288739, -87.80053398809123 41.93082228839417, -87.79988892444688 41.93082983114899, -87.79970302427265 41.93083204086262, -87.79944324906631 41.93083508674659, -87.79914285960679 41.930838821318396, -87.79853858902449 41.930846271841204, -87.79851741775818 41.93084666726061, -87.79791481589923 41.93085231108213, -87.79769892889718 41.93085432283104, -87.79769694423965 41.93085434101494, -87.79758859020808 41.93085611320377, -87.79745862373034 41.93085827831831, -87.79732167554941 41.930860355877634, -87.79730234267217 41.93086062237498, -87.79720589937276 41.93086192847148, -87.79705388367438 41.93086399017219, -87.79693105050198 41.930865721555755, -87.79669160533916 41.93086789577533, -87.79655572968956 41.93086912679153, -87.79640404423988 41.930871244060235, -87.79629653339569 41.930873266021706, -87.79620967654154 41.93087519240641, -87.796104671045 41.93087645731828, -87.79607534335074 41.93087656714376, -87.79598004709831 41.9308769719137, -87.79587186886424 41.93087964883172, -87.79572485916515 41.93088077193092, -87.79559181552689 41.93088174050617, -87.79546427528692 41.93088380502529, -87.79522768245727 41.93088766360105, -87.79511946554001 41.930890586609344, -87.79500967488092 41.93089273382203, -87.79485799373005 41.93089432773342, -87.79485343634076 41.93089436131366, -87.79472954586154 41.93089504243932, -87.79455684972584 41.93089593371163, -87.79441942857159 41.9308974018594, -87.79424452169002 41.93089894076325, -87.79408725651915 41.93090031541159, -87.79397140857758 41.93090166479973, -87.7938698948785 41.930902834438115, -87.79376889551806 41.93090403391461, -87.79365352562232 41.93090535778612, -87.79363202418035 41.930905668357255, -87.79352385595533 41.93090716309169, -87.79337084657007 41.93090938003491, -87.79329270778699 41.93091032964031, -87.79302760489377 41.93091319880664, -87.79291682971487 41.93091440648469, -87.79282997903006 41.93091561670495, -87.79276477669318 41.93091651721507, -87.79267050142975 41.930917829571364, -87.79255494538823 41.930919453396086, -87.79243957406142 41.93092094069464, -87.79225190807311 41.93092329460982, -87.79215767046955 41.93092449702194, -87.7920489521222 41.93092585063109, -87.79197639966128 41.93092677099661, -87.79180049684393 41.930928740557896, -87.79156792022526 41.930931320814715, -87.79141642120301 41.930933075692195, -87.79128623928523 41.93093460162997, -87.79114216952483 41.93093567778684, -87.79096434899837 41.93093843283755, -87.79076933947351 41.930940008767976, -87.79063595495762 41.93094215000748, -87.79039043426576 41.93094565462036, -87.79024562424311 41.930947357186966, -87.790122792666 41.93094886175554, -87.78999893380089 41.93095014179331, -87.78996487039066 41.93094965136036, -87.78979161260625 41.93094740418112, -87.78970501705157 41.93094452441398, -87.78956771944013 41.930940087317744, -87.78935433407752 41.93094173847288, -87.78918295691244 41.930943039544786, -87.78908177230194 41.93094439860502, -87.78897375201933 41.93094575261093, -87.78881482670586 41.930947853039314, -87.78869188379771 41.930949437738654, -87.78855431402233 41.93095109032565, -87.78851057657256 41.9309516511152, -87.78836657474676 41.930953382794726, -87.78813414174869 41.93095631332091, -87.7878321334976 41.930960120312506, -87.78762869922708 41.93096272120037, -87.78753578447085 41.930963926105754, -87.78733128961889 41.93096591769502, -87.78718295514923 41.93096718800469, -87.78691002129446 41.930970362477176, -87.78670221575425 41.93097272138243, -87.78660933963862 41.930973733626026, -87.78647646396318 41.930976503628216, -87.78630918610983 41.93098407684211, -87.78630010496839 41.93098452747005, -87.78617881402462 41.93099061808796, -87.78598012161773 41.93099738222899, -87.78568917028213 41.93100170287873, -87.78568194186296 41.93075548372396, -87.78568177981442 41.93066700918065, -87.7856875247777 41.93046799765844, -87.7856786313382 41.93017583209154, -87.78567126488446 41.92995436531886, -87.78566760081056 41.929841367826356, -87.78566147893474 41.9296548409357, -87.78565910148173 41.92958048851637, -87.7856549815795 41.92945206627783, -87.7856514966757 41.92934392705141, -87.78564465786981 41.92916820898508, -87.78563915004598 41.92902589438797, -87.78563384885 41.928842252824516, -87.78563028830435 41.928734360274504, -87.7856256871175 41.9286063747971, -87.78561889010743 41.9284171828106, -87.78561293673224 41.928241057097814, -87.78560666189327 41.92803806404825, -87.78559784696505 41.92775399427255, -87.78559098026811 41.927551464832156, -87.78558346796953 41.9273385042324, -87.7855781338727 41.92718880843882, -87.78557797146685 41.92718202941701, -87.78557481543433 41.927087009132535, -87.78557212833657 41.92700590439646, -87.7855689693084 41.926911268218184, -87.78556564915803 41.9268096611319, -87.78556336596414 41.92674148343507, -87.78555824016772 41.92659324312934, -87.78555516952112 41.92650544070388, -87.78555287953813 41.92643805879759, -87.7855493006565 41.92633664256433, -87.78554695663972 41.926275599706706, -87.78554355765522 41.9261875210809, -87.7855319741617 41.92603809737498, -87.78552290418273 41.92592995887778, -87.7855143756238 41.92571553892365, -87.7855033096345 41.92543694674826, -87.7854982573478 41.92530160457196, -87.78549371382776 41.925179794013424, -87.78548453331568 41.924942840854, -87.78547882453408 41.924794021428916, -87.78547458848611 41.92464487965034, -87.78547042382998 41.924495985326416, -87.7854638574237 41.92427992813925, -87.78545937139664 41.924151421840016, -87.78545744529804 41.92409735129856, -87.7854508766414 41.92391592614475, -87.7854484726971 41.92384901038773, -87.78544266027838 41.92367796216539, -87.78543538686444 41.92346294438057, -87.78543276349484 41.923361559956305, -87.78542887906642 41.92321859447508, -87.78542726304643 41.92315835088323, -87.78542388059446 41.923029739917276, -87.78542254548252 41.9229796239469, -87.78542218341018 41.92296612059987, -87.7854217590271 41.92295129972432, -87.78541948696372 41.922864680864684, -87.78541141875165 41.922630888847856, -87.78540518017711 41.92244957512726, -87.78540053273858 41.92233994826171, -87.78539585946928 41.92213026664259, -87.78539530056318 41.92210540123383, -87.78539358073806 41.922027264741885, -87.78538844705001 41.921862833301454, -87.78538175950389 41.92164809273369, -87.78537731044783 41.92149809907369, -87.7853721173128 41.92131915041335, -87.78536874456164 41.92120659327954, -87.78536330382582 41.92102220977931, -87.78535988170353 41.92090682605018, -87.78535636248851 41.92078562380776, -87.78535261888588 41.920664859774895, -87.78534889076275 41.92055518237623, -87.78534457228226 41.92042862526365, -87.7853387997945 41.92026155633226, -87.7853354474657 41.920163790621196, -87.7853320616091 41.92003987234556, -87.78532578368936 41.919811659409184, -87.78532130039963 41.919661418692456, -87.78531726776757 41.91952292550921, -87.78531340573548 41.91939025077404, -87.78530546261524 41.9191247632429, -87.7853003682474 41.91896867430521, -87.78529565839384 41.9188363249556, -87.7852880740732 41.918623391116036, -87.78528440527303 41.91851969638934, -87.78528007919547 41.91839832579553, -87.78527738823193 41.918227566794855, -87.785275382497 41.918101267511396, -87.78527145654981 41.917997571547616, -87.7852663833731 41.9178304236221, -87.78526316988572 41.91772074862355, -87.78525776920105 41.91753603595938, -87.78525270691732 41.91736331707068, -87.78524829396058 41.91721348825866, -87.78524471225053 41.91708671504755, -87.7852414274794 41.91695961380558, -87.78523665016998 41.9167750687458, -87.78523161302338 41.91663807988773, -87.78522574139927 41.91647836484876, -87.78522720521396 41.91641465070725, -87.7852294161098 41.916319436247974, -87.7852256815394 41.91614614743877, -87.78522485613405 41.91611809748768, -87.78522187998176 41.916019345643285, -87.78521680136127 41.915852828669486, -87.78520999678491 41.915639020282306, -87.78520379130002 41.91544533012741, -87.78519600464199 41.91520459608869, -87.78519016150163 41.915024409011714, -87.78518430478444 41.91483722426953, -87.78517710878678 41.91459188263967, -87.78517261238721 41.91443464391878, -87.78516883146152 41.91431401678155, -87.78516337502568 41.914140198354424, -87.78515795329287 41.913966599420554, -87.78515163757235 41.913772963428386, -87.78514439043427 41.913559372386935, -87.78513623094804 41.91331929517147, -87.78513006143619 41.91313864009193, -87.7851190627943 41.91277955914579, -87.78511328553212 41.91259171609028, -87.78510800354188 41.912431866400176, -87.7851020684873 41.91224528492838, -87.78509989417519 41.912173101123074, -87.78509563033407 41.91203164280539, -87.78508650268695 41.9117373347116, -87.78508064073038 41.911563678921574, -87.78507481558047 41.911390050538344, -87.78506831457352 41.911196660621066, -87.7850604312515 41.910958725126314, -87.78505561751346 41.910812873303676, -87.7850481600334 41.91057238761623, -87.78504263198008 41.910398403938075, -87.78503402721317 41.91012459770942, -87.785026124259 41.90987178830598, -87.7850235940319 41.90979397715136, -87.78501822098886 41.90962765061263, -87.78501258198305 41.90945802978194, -87.78500593095458 41.90925646125108, -87.78500237831095 41.909147854716764)))",
         "35",
         "60707",
         "45069038.4783",
         "27288.6096123",
         "MULTIPOLYGON (((-87.78500237831095 41.909147854716764, -87.78530971530041 41.90914473901434, -87.78542971617406 41.909142896725506, -87.78565796079182 41.909139347725066, -87.78604687192349 41.909134259040314, -87.78631798943154 41.90913069365329, -87.78661393307661 41.90913240485996, -87.78663282092727 41.909131863748435, -87.78696581999185 41.90912216970804, -87.78707409836574 41.90912068162779, -87.78734587058032 41.90911788524622, -87.78764038529883 41.90911483961804, -87.78797546220477 41.90911132705965, -87.78826314690234 41.909107890645195, -87.7885259210714 41.90910474682357, -87.78869640458265 41.90910228997813, -87.78874431409864 41.90910185851708, -87.7898964558743 41.90909161995609, -87.79020776842044 41.90908749452028, -87.79111745704249 41.90907543786443, -87.79142263401909 41.90907136255857, -87.79234198509181 41.90905917735135, -87.79262860700811 41.909055368103445, -87.79356559407152 41.90904289925242, -87.79384148744326 41.90903925615339, -87.79479846149812 41.90902651439102, -87.79505256714863 41.90902312294959, -87.79598841419535 41.90901068386711, -87.79655192114681 41.909003165657545, -87.79720386511462 41.908994493472825, -87.7974549942977 41.90899113770231, -87.79755900917573 41.90898983937659, -87.797702925353 41.90898801344619, -87.79780668293232 41.90898674120691, -87.7978817847751 41.908985499772854, -87.79799998592762 41.908983553626655, -87.79814251032955 41.90898122662523, -87.79824781200168 41.908979796529565, -87.79845044250123 41.90897706315357, -87.79865953904532 41.908974277474776, -87.79876344404117 41.90897292259291, -87.79888439738706 41.90897134503098, -87.79907501174523 41.90896893895641, -87.79919607327392 41.908967581108584, -87.79931132994099 41.908966251228065, -87.79960128770401 41.908963263427495, -87.7997381097416 41.90896186856134, -87.79984775531965 41.908959386724625, -87.79998062350653 41.908956354099324, -87.8001128668041 41.90895337323473, -87.80027702034958 41.90895213214987, -87.8004644670559 41.90895072443224, -87.80057979815683 41.908949283785624, -87.80070681307375 41.908947677472995, -87.80085682784964 41.9089458211293, -87.80118048062005 41.908941997725, -87.80131543042363 41.90894042751122, -87.80151713607712 41.908938425657084, -87.80174235566129 41.90893620285998, -87.80185000031561 41.908935768027355, -87.80211319847736 41.90893448859645, -87.8022789648991 41.90893369118908, -87.8023997750863 41.908931615435975, -87.80254413734671 41.908929126882505, -87.80256615696746 41.90893189057568, -87.80394245518256 41.90889183877272, -87.80574541300014 41.90883935181141, -87.80576774702855 41.90933489929444, -87.80576781235389 41.90935372514305, -87.80576712073781 41.9094198855685, -87.80576876716952 41.90959472852897, -87.80577261339177 41.90966302293245, -87.80577811401037 41.90977130835862, -87.80578527817721 41.909914069201555, -87.8057896420861 41.90999981926887, -87.80579767347437 41.91014878593174, -87.80580244391241 41.9102342359279, -87.80580856558268 41.9103429907843, -87.80581144759607 41.91039454096163, -87.80582049036163 41.91055454402914, -87.80582618773762 41.91070591502064, -87.8058430922932 41.91115602024601, -87.80584686439573 41.91126457219327, -87.80585098476998 41.9113843498092, -87.80585684708132 41.91155586403637, -87.80586096645013 41.91167577878461, -87.80586770781441 41.91186993707154, -87.80587277993078 41.9120124687087, -87.80587935794725 41.912195237715544, -87.80588568569331 41.9123727092567, -87.80589087226409 41.91253258491913, -87.80589787404035 41.91274867089757, -87.80590279874971 41.912909121567566, -87.80590897312813 41.91310969872177, -87.80591376398303 41.91326411158189, -87.80591904124786 41.91343532126575, -87.80592785506197 41.913703528592144, -87.80593339700789 41.91386936097956, -87.80593988 41.914063710030234, -87.80594482985742 41.91421222348498, -87.80594918869384 41.91436109097202, -87.8059516509802 41.91444581672908, -87.80595541234116 41.91456018641213, -87.80596197301915 41.914771879438405, -87.80596655393897 41.91492055583387, -87.80597169472557 41.91508605689672, -87.80598023042913 41.91536578865764, -87.80598525969984 41.91553145384922, -87.80599152186902 41.915739248652336, -87.80599215597888 41.915760409624134, -87.8059966648483 41.91590894851901, -87.80600501414574 41.91618906350679, -87.80600725888198 41.91621541847911, -87.80601137817555 41.91632202344488, -87.80601485338474 41.916435458666214, -87.80602031417077 41.91661119728927, -87.80602148416209 41.916647591088946, -87.80602862394608 41.91686933080241, -87.80603395181467 41.91703442103075, -87.806039599965 41.917209748722655, -87.80604553024804 41.91739539602905, -87.80605177734157 41.91759169241634, -87.80605770253922 41.917777998165754, -87.80606064925762 41.91787082186279, -87.80606505346188 41.91802320201208, -87.80606956832376 41.91817997337249, -87.80607542771418 41.91836534589731, -87.80608227413781 41.91858255600179, -87.8060874459281 41.91874882562036, -87.80609262763119 41.91891386023669, -87.80610043473631 41.91916170038663, -87.80610689387233 41.919367959323964, -87.80611399372776 41.919594610718306, -87.80611825571337 41.9197285488454, -87.8061223907468 41.91985562586981, -87.80612934105541 41.92006918663016, -87.80613467896075 41.92022420547056, -87.80614065514187 41.92039989145491, -87.80614757777039 41.920616827337305, -87.80615187576036 41.92075090295379, -87.80615649282637 41.920895298350175, -87.80616233620388 41.92107372779966, -87.80616932357137 41.92128728868295, -87.80617352025261 41.92144257653577, -87.8061770570337 41.92156646760076, -87.80618210221962 41.92173026660132, -87.8061882195447 41.921915640122634, -87.8061923081543 41.92203942387251, -87.80620080389075 41.92229297497949, -87.8062051485465 41.922421370276126, -87.80620938721667 41.922544797747435, -87.80621620013255 41.922739395262205, -87.80621903887054 41.92282310725334, -87.80622657640471 41.923077010881514, -87.80622567607683 41.92309262143163, -87.80622929199863 41.92330512388318, -87.8062294425308 41.92332255058733, -87.8062298013611 41.923368243567, -87.8062323904327 41.92346441335475, -87.80623951557561 41.92355860067399, -87.8062420321612 41.9235921468136, -87.80624729957779 41.92376472838599, -87.80625508075883 41.92400688770756, -87.80626075271915 41.92418388913174, -87.8062674018849 41.92438504448259, -87.80626987088463 41.924495813015064, -87.80627259355457 41.92463827858711, -87.80627967362346 41.92478707588968, -87.80628551856691 41.9249073549517, -87.80629136524493 41.925027414480354, -87.80629635776653 41.92513073020455, -87.80630343104683 41.92532052628032, -87.80631186053122 41.92554649761243, -87.80631513597979 41.92564412495522, -87.80631882092929 41.925758960437285, -87.80632328394087 41.92592662614454, -87.80632490231652 41.925980036242585, -87.80633295721779 41.92623366760863, -87.80633885438915 41.92641906747868, -87.8063434232187 41.92653368760006, -87.80634749852204 41.92663683450037, -87.80635180767045 41.92675175522208, -87.80635550182781 41.92686101986632, -87.80635881526473 41.92695851021719, -87.80636489341268 41.92713087572934, -87.80637132677418 41.927313643568596, -87.8063745916984 41.92741703371572, -87.80637824804374 41.927526435590515, -87.80638177949544 41.927624256100536, -87.80638660667658 41.927752131945965, -87.80639187876392 41.92789296266557, -87.80640433722243 41.92823670722655, -87.80640938127856 41.92837399676181, -87.80641393785712 41.928494599069765, -87.80641786628385 41.92859774539598, -87.8064212304216 41.92868911617874, -87.80642220119431 41.928740821992896, -87.80642905218792 41.92893989228238, -87.80643584773581 41.92913673975859, -87.80643763099849 41.929187982572145, -87.80644275698383 41.92933764893483, -87.80644911248682 41.92952099263124, -87.80645286048855 41.92962378122309, -87.80645668045702 41.929726734934206, -87.80646091681609 41.929841600372136, -87.80646401351292 41.92993867783522, -87.80646439630615 41.929950205354714, -87.80646576523587 41.93002501932594, -87.80647031810294 41.93019520987021, -87.80647507372746 41.93030950153013, -87.8064770868101 41.93035517460222, -87.80647996100761 41.930412295197534, -87.80649498336554 41.930815244381144, -87.80628327766067 41.930791523216705, -87.80590088926243 41.93076523386736, -87.80587862499708 41.930764473115985, -87.80576204943941 41.93076053462885, -87.8055034116657 41.93076390138517, -87.80527234038817 41.93076676316785, -87.8049501566678 41.93077074193924, -87.80485706098436 41.93077168574471, -87.80466065153921 41.930773772719796, -87.80454348189501 41.93077501685254, -87.80438709412823 41.93077698586991, -87.80435022977933 41.93077747472409, -87.80405167876546 41.93078114835118, -87.80367609167796 41.930785755586605, -87.80349048001236 41.93078865868387, -87.8034465598178 41.9307891146883, -87.80313764814342 41.93079240867992, -87.80282567884986 41.93079662095682, -87.80230751829824 41.93080361091792, -87.8021232300836 41.93080643573575, -87.80182655231846 41.930810166990284, -87.80134611378556 41.93081518686066, -87.8009779982391 41.93081839288739, -87.80053398809123 41.93082228839417, -87.79988892444688 41.93082983114899, -87.79970302427265 41.93083204086262, -87.79944324906631 41.93083508674659, -87.79914285960679 41.930838821318396, -87.79853858902449 41.930846271841204, -87.79851741775818 41.93084666726061, -87.79791481589923 41.93085231108213, -87.79769892889718 41.93085432283104, -87.79769694423965 41.93085434101494, -87.79758859020808 41.93085611320377, -87.79745862373034 41.93085827831831, -87.79732167554941 41.930860355877634, -87.79730234267217 41.93086062237498, -87.79720589937276 41.93086192847148, -87.79705388367438 41.93086399017219, -87.79693105050198 41.930865721555755, -87.79669160533916 41.93086789577533, -87.79655572968956 41.93086912679153, -87.79640404423988 41.930871244060235, -87.79629653339569 41.930873266021706, -87.79620967654154 41.93087519240641, -87.796104671045 41.93087645731828, -87.79607534335074 41.93087656714376, -87.79598004709831 41.9308769719137, -87.79587186886424 41.93087964883172, -87.79572485916515 41.93088077193092, -87.79559181552689 41.93088174050617, -87.79546427528692 41.93088380502529, -87.79522768245727 41.93088766360105, -87.79511946554001 41.930890586609344, -87.79500967488092 41.93089273382203, -87.79485799373005 41.93089432773342, -87.79485343634076 41.93089436131366, -87.79472954586154 41.93089504243932, -87.79455684972584 41.93089593371163, -87.79441942857159 41.9308974018594, -87.79424452169002 41.93089894076325, -87.79408725651915 41.93090031541159, -87.79397140857758 41.93090166479973, -87.7938698948785 41.930902834438115, -87.79376889551806 41.93090403391461, -87.79365352562232 41.93090535778612, -87.79363202418035 41.930905668357255, -87.79352385595533 41.93090716309169, -87.79337084657007 41.93090938003491, -87.79329270778699 41.93091032964031, -87.79302760489377 41.93091319880664, -87.79291682971487 41.93091440648469, -87.79282997903006 41.93091561670495, -87.79276477669318 41.93091651721507, -87.79267050142975 41.930917829571364, -87.79255494538823 41.930919453396086, -87.79243957406142 41.93092094069464, -87.79225190807311 41.93092329460982, -87.79215767046955 41.93092449702194, -87.7920489521222 41.93092585063109, -87.79197639966128 41.93092677099661, -87.79180049684393 41.930928740557896, -87.79156792022526 41.930931320814715, -87.79141642120301 41.930933075692195, -87.79128623928523 41.93093460162997, -87.79114216952483 41.93093567778684, -87.79096434899837 41.93093843283755, -87.79076933947351 41.930940008767976, -87.79063595495762 41.93094215000748, -87.79039043426576 41.93094565462036, -87.79024562424311 41.930947357186966, -87.790122792666 41.93094886175554, -87.78999893380089 41.93095014179331, -87.78996487039066 41.93094965136036, -87.78979161260625 41.93094740418112, -87.78970501705157 41.93094452441398, -87.78956771944013 41.930940087317744, -87.78935433407752 41.93094173847288, -87.78918295691244 41.930943039544786, -87.78908177230194 41.93094439860502, -87.78897375201933 41.93094575261093, -87.78881482670586 41.930947853039314, -87.78869188379771 41.930949437738654, -87.78855431402233 41.93095109032565, -87.78851057657256 41.9309516511152, -87.78836657474676 41.930953382794726, -87.78813414174869 41.93095631332091, -87.7878321334976 41.930960120312506, -87.78762869922708 41.93096272120037, -87.78753578447085 41.930963926105754, -87.78733128961889 41.93096591769502, -87.78718295514923 41.93096718800469, -87.78691002129446 41.930970362477176, -87.78670221575425 41.93097272138243, -87.78660933963862 41.930973733626026, -87.78647646396318 41.930976503628216, -87.78630918610983 41.93098407684211, -87.78630010496839 41.93098452747005, -87.78617881402462 41.93099061808796, -87.78598012161773 41.93099738222899, -87.78568917028213 41.93100170287873, -87.78568194186296 41.93075548372396, -87.78568177981442 41.93066700918065, -87.7856875247777 41.93046799765844, -87.7856786313382 41.93017583209154, -87.78567126488446 41.92995436531886, -87.78566760081056 41.929841367826356, -87.78566147893474 41.9296548409357, -87.78565910148173 41.92958048851637, -87.7856549815795 41.92945206627783, -87.7856514966757 41.92934392705141, -87.78564465786981 41.92916820898508, -87.78563915004598 41.92902589438797, -87.78563384885 41.928842252824516, -87.78563028830435 41.928734360274504, -87.7856256871175 41.9286063747971, -87.78561889010743 41.9284171828106, -87.78561293673224 41.928241057097814, -87.78560666189327 41.92803806404825, -87.78559784696505 41.92775399427255, -87.78559098026811 41.927551464832156, -87.78558346796953 41.9273385042324, -87.7855781338727 41.92718880843882, -87.78557797146685 41.92718202941701, -87.78557481543433 41.927087009132535, -87.78557212833657 41.92700590439646, -87.7855689693084 41.926911268218184, -87.78556564915803 41.9268096611319, -87.78556336596414 41.92674148343507, -87.78555824016772 41.92659324312934, -87.78555516952112 41.92650544070388, -87.78555287953813 41.92643805879759, -87.7855493006565 41.92633664256433, -87.78554695663972 41.926275599706706, -87.78554355765522 41.9261875210809, -87.7855319741617 41.92603809737498, -87.78552290418273 41.92592995887778, -87.7855143756238 41.92571553892365, -87.7855033096345 41.92543694674826, -87.7854982573478 41.92530160457196, -87.78549371382776 41.925179794013424, -87.78548453331568 41.924942840854, -87.78547882453408 41.924794021428916, -87.78547458848611 41.92464487965034, -87.78547042382998 41.924495985326416, -87.7854638574237 41.92427992813925, -87.78545937139664 41.924151421840016, -87.78545744529804 41.92409735129856, -87.7854508766414 41.92391592614475, -87.7854484726971 41.92384901038773, -87.78544266027838 41.92367796216539, -87.78543538686444 41.92346294438057, -87.78543276349484 41.923361559956305, -87.78542887906642 41.92321859447508, -87.78542726304643 41.92315835088323, -87.78542388059446 41.923029739917276, -87.78542254548252 41.9229796239469, -87.78542218341018 41.92296612059987, -87.7854217590271 41.92295129972432, -87.78541948696372 41.922864680864684, -87.78541141875165 41.922630888847856, -87.78540518017711 41.92244957512726, -87.78540053273858 41.92233994826171, -87.78539585946928 41.92213026664259, -87.78539530056318 41.92210540123383, -87.78539358073806 41.922027264741885, -87.78538844705001 41.921862833301454, -87.78538175950389 41.92164809273369, -87.78537731044783 41.92149809907369, -87.7853721173128 41.92131915041335, -87.78536874456164 41.92120659327954, -87.78536330382582 41.92102220977931, -87.78535988170353 41.92090682605018, -87.78535636248851 41.92078562380776, -87.78535261888588 41.920664859774895, -87.78534889076275 41.92055518237623, -87.78534457228226 41.92042862526365, -87.7853387997945 41.92026155633226, -87.7853354474657 41.920163790621196, -87.7853320616091 41.92003987234556, -87.78532578368936 41.919811659409184, -87.78532130039963 41.919661418692456, -87.78531726776757 41.91952292550921, -87.78531340573548 41.91939025077404, -87.78530546261524 41.9191247632429, -87.7853003682474 41.91896867430521, -87.78529565839384 41.9188363249556, -87.7852880740732 41.918623391116036, -87.78528440527303 41.91851969638934, -87.78528007919547 41.91839832579553, -87.78527738823193 41.918227566794855, -87.785275382497 41.918101267511396, -87.78527145654981 41.917997571547616, -87.7852663833731 41.9178304236221, -87.78526316988572 41.91772074862355, -87.78525776920105 41.91753603595938, -87.78525270691732 41.91736331707068, -87.78524829396058 41.91721348825866, -87.78524471225053 41.91708671504755, -87.7852414274794 41.91695961380558, -87.78523665016998 41.9167750687458, -87.78523161302338 41.91663807988773, -87.78522574139927 41.91647836484876, -87.78522720521396 41.91641465070725, -87.7852294161098 41.916319436247974, -87.7852256815394 41.91614614743877, -87.78522485613405 41.91611809748768, -87.78522187998176 41.916019345643285, -87.78521680136127 41.915852828669486, -87.78520999678491 41.915639020282306, -87.78520379130002 41.91544533012741, -87.78519600464199 41.91520459608869, -87.78519016150163 41.915024409011714, -87.78518430478444 41.91483722426953, -87.78517710878678 41.91459188263967, -87.78517261238721 41.91443464391878, -87.78516883146152 41.91431401678155, -87.78516337502568 41.914140198354424, -87.78515795329287 41.913966599420554, -87.78515163757235 41.913772963428386, -87.78514439043427 41.913559372386935, -87.78513623094804 41.91331929517147, -87.78513006143619 41.91313864009193, -87.7851190627943 41.91277955914579, -87.78511328553212 41.91259171609028, -87.78510800354188 41.912431866400176, -87.7851020684873 41.91224528492838, -87.78509989417519 41.912173101123074, -87.78509563033407 41.91203164280539, -87.78508650268695 41.9117373347116, -87.78508064073038 41.911563678921574, -87.78507481558047 41.911390050538344, -87.78506831457352 41.911196660621066, -87.7850604312515 41.910958725126314, -87.78505561751346 41.910812873303676, -87.7850481600334 41.91057238761623, -87.78504263198008 41.910398403938075, -87.78503402721317 41.91012459770942, -87.785026124259 41.90987178830598, -87.7850235940319 41.90979397715136, -87.78501822098886 41.90962765061263, -87.78501258198305 41.90945802978194, -87.78500593095458 41.90925646125108, -87.78500237831095 41.909147854716764)))"
        ],
        [
         "3",
         "MULTIPOLYGON (((-87.6670686895295 41.888851884969924, -87.66706869824924 41.88885188522634, -87.66726460282342 41.88885812588903, -87.66741251189913 41.88885681566926, -87.66776522295798 41.88885372871873, -87.66801425025187 41.88885124749334, -87.66810930705594 41.88885028891292, -87.66844492931163 41.88884828090499, -87.66877232430892 41.888846334143295, -87.66899137108317 41.88884502183795, -87.66900734798067 41.88884492216806, -87.66932593148218 41.88883916317406, -87.66950921576822 41.888837039630836, -87.66952240156985 41.888836923755036, -87.66967563619427 41.88883555914541, -87.66992934859424 41.888831070103656, -87.6701666042103 41.88882689710277, -87.67049598414022 41.88882122451486, -87.67073731853358 41.888827502131775, -87.67075710836345 41.88882802795171, -87.6711275402639 41.888812409336566, -87.67134142200283 41.88880982806072, -87.67145587433319 41.88880842959947, -87.6716529331123 41.88880605257846, -87.67180881760875 41.888804151404756, -87.67196076094282 41.88879978522085, -87.67211292460387 41.88879541983005, -87.67235154679287 41.88879048186372, -87.67248239265196 41.88878774973105, -87.67257282781941 41.888786184499715, -87.67278550878169 41.888782495859374, -87.67298260729285 41.88877981498682, -87.67317122157252 41.88877722200911, -87.67336262684815 41.88877461745636, -87.67360905589119 41.88877120363297, -87.67383895520406 41.888768078547244, -87.674027422072 41.888765510758866, -87.67424865361637 41.888762444789684, -87.67440142219641 41.8887599461278, -87.67465873048543 41.888755714318705, -87.67489700375992 41.8887525252382, -87.67529050264818 41.8887472067211, -87.67538703591597 41.88874548211968, -87.6757336448623 41.888739262178376, -87.67616873858573 41.88873187360043, -87.67627254377062 41.88873010740408, -87.67645602129956 41.88872701325532, -87.67684593341583 41.888720433913235, -87.67685069423653 41.88890111456494, -87.67685857457421 41.88922547409201, -87.67686503629302 41.889491126235264, -87.67687397543187 41.88972644108188, -87.67688448212014 41.8900023522753, -87.67689042032941 41.89017925270058, -87.67689674925501 41.890411259507644, -87.67689709490948 41.890424131905235, -87.67690062598774 41.890592209475344, -87.67690875777055 41.89082389739924, -87.67691858973907 41.89110474431418, -87.67692057585646 41.89119056800407, -87.67692134271721 41.89122328373594, -87.6769241879273 41.8913507425329, -87.67692885591556 41.89154769598401, -87.67693519372176 41.891814719360944, -87.67693777620741 41.89190326324684, -87.6769391835973 41.891952338239356, -87.67694491360498 41.89214959967499, -87.67694842234768 41.89226965279545, -87.67695525377233 41.89250281490066, -87.67695874829448 41.892620672608885, -87.67696165850298 41.89272027777936, -87.67696542010398 41.89284790643487, -87.67697413733858 41.89317312123254, -87.67698043731681 41.89340800920218, -87.67698676667408 41.89362566357451, -87.67698784587905 41.8936637323445, -87.67699663175111 41.89396433172912, -87.67700048744119 41.89409355248425, -87.67700674968778 41.894303440249516, -87.67701004460997 41.89444080825057, -87.67701061717237 41.89446380824671, -87.67701154733479 41.89450209576691, -87.67701263886407 41.894546146905334, -87.67701602504886 41.89468178668875, -87.67701823186367 41.894799883835795, -87.67701939527102 41.894865614938766, -87.67702307626574 41.89496887431237, -87.67702388935052 41.894993494781936, -87.67703093688519 41.89520558232408, -87.67703771016704 41.895408612440335, -87.67703875604035 41.89544278425746, -87.6770410966786 41.895519114773464, -87.677044719448 41.895638811791, -87.67705235757458 41.89591163274886, -87.67748053153807 41.89590321187372, -87.67773963675614 41.89589843448405, -87.67819693461254 41.89589028683618, -87.67861874526818 41.89588273101146, -87.67896094687819 41.89587664091605, -87.67919088191115 41.895872517294656, -87.67950019533778 41.89586788492233, -87.6799815780842 41.89586066312589, -87.68010306455871 41.895858637399634, -87.6802785537664 41.89585568396731, -87.68061564485137 41.895850053702276, -87.68092658028463 41.89584482283694, -87.68119817135056 41.89584024592658, -87.68158966883958 41.895833687058534, -87.68194921232832 41.89582702779378, -87.6824265707203 41.895818208770656, -87.68265569386998 41.89581440298553, -87.68300788271176 41.89580857695689, -87.68339974652996 41.895802068876016, -87.68364279257848 41.895798037985756, -87.68395409442914 41.8957928559477, -87.68439661990548 41.89578523124323, -87.68491342639858 41.8957763228636, -87.68522432814916 41.895770723417776, -87.68553478949087 41.89576509327185, -87.68596637098 41.89575729107848, -87.6860581390029 41.895755640359454, -87.68684259394753 41.895743237171004, -87.68725021364051 41.895736804717956, -87.68750734904413 41.89573418966183, -87.68780276069361 41.89573121284457, -87.68819962840175 41.895727433169796, -87.68850054420915 41.89572497964814, -87.68930747755068 41.89571619832956, -87.68960043016418 41.895713011205046, -87.68975110927242 41.89571171520371, -87.69012079118937 41.89570846265192, -87.69054163995625 41.89570500129984, -87.69089185141523 41.89570210386571, -87.69102214628766 41.89570071959682, -87.69121228018324 41.89569870938442, -87.69177259573642 41.895702225346646, -87.69178736022366 41.89570230783274, -87.69218314846071 41.89568890358882, -87.69277411179304 41.89568355722696, -87.6931341785032 41.89567947301908, -87.693314283979 41.895677568002725, -87.6937952380963 41.89567253638266, -87.69384526930713 41.895672019178065, -87.69423713910771 41.89566843785217, -87.69463117627747 41.895664812290285, -87.69475008232412 41.89566363493873, -87.69483203518449 41.89566277333943, -87.69546751060122 41.895657852699344, -87.69595249202222 41.89565409669475, -87.69622294290356 41.89565318263837, -87.6967026312377 41.89565351032097, -87.69698600387491 41.89565332458404, -87.69729151476898 41.895654111620594, -87.69794554207051 41.89564881342985, -87.6982463833613 41.89564638877014, -87.69860721820649 41.8956425933762, -87.6989443633925 41.89563866604828, -87.69916127847834 41.89563610469661, -87.69929701095131 41.895634521527256, -87.69991108059354 41.89562874466987, -87.70055740188933 41.89562264821884, -87.70098089837224 41.89561504683304, -87.70154184178983 41.895603287979625, -87.70154301744239 41.89560326700539, -87.70160896109736 41.89560187354779, -87.70176607789364 41.895599499634784, -87.70189872908834 41.895597484807205, -87.70203548415417 41.89559648045101, -87.7022040528938 41.89559488226004, -87.70235487948031 41.89559346082791, -87.70245637627642 41.89559220734686, -87.70261154213938 41.8955902604314, -87.70331177699859 41.895584719073405, -87.70384076941478 41.89558372327586, -87.7039006120706 41.89558273399895, -87.70412940217807 41.89557896599997, -87.70433839192958 41.89557550052217, -87.70444642453268 41.8955744731093, -87.70465191031364 41.89557249727208, -87.70486566101461 41.89557045659887, -87.70532586216409 41.895565317778335, -87.7055155924838 41.895563199277184, -87.70593314073481 41.895559032495775, -87.70616940741884 41.89555692010731, -87.7063538801624 41.895555320491965, -87.70655631674127 41.89555340699404, -87.7065665657065 41.895865043972485, -87.70657129766326 41.895985898624986, -87.70657141014 41.89598941193485, -87.7065859352481 41.8963596067972, -87.70659803219046 41.89675651734592, -87.70660076390298 41.89684528089963, -87.70660245254255 41.896901739263804, -87.70660426454674 41.89696434519174, -87.70662160100568 41.89755796386407, -87.70662385018686 41.89763596749055, -87.70662811654775 41.89775937184283, -87.70664106296374 41.89813331764647, -87.7066463811839 41.89831067939897, -87.70665299009751 41.8985326145613, -87.70665902411004 41.898723207438586, -87.70666146908202 41.89879997720978, -87.70666954632166 41.899055839155736, -87.70667446277497 41.8991954105208, -87.70667857206145 41.899312364951825, -87.70668376912563 41.89950964910829, -87.70669760224233 41.89995451074918, -87.70670401749851 41.9001361595789, -87.70670822025377 41.90025481579051, -87.70671621304238 41.900541879331655, -87.70672552719215 41.900832819443806, -87.70673107039734 41.90100601102802, -87.70673572091233 41.90115027347053, -87.70674318797779 41.90137465571095, -87.70675642070566 41.90177953031924, -87.70675897347034 41.90187161341215, -87.70676268393628 41.901995563415525, -87.70676637441707 41.902159112787444, -87.70677559607344 41.90237689074347, -87.70678607892489 41.90268358898766, -87.70678881836345 41.902805420749566, -87.70678940431327 41.902831905764145, -87.7067898123727 41.90285029430917, -87.7067935461862 41.903016944880264, -87.70680658698764 41.90338139571611, -87.70681403034244 41.903604487945636, -87.70681842870913 41.90375953372554, -87.7068222751388 41.90389591588819, -87.70683307166699 41.9042118912782, -87.7068437804618 41.90452182885203, -87.70684832673125 41.9046655144134, -87.70685464646986 41.90486453344331, -87.70686337041248 41.90517462487467, -87.70687512918116 41.90550117067974, -87.70687734607573 41.90557127055179, -87.70688129203556 41.90569747203062, -87.70688874783355 41.90596817658212, -87.7068974490988 41.90630691757604, -87.70690349706997 41.906477395087535, -87.70690871673614 41.90662360896823, -87.70691857894013 41.90691499069171, -87.70692710567765 41.907237786740644, -87.70693209476917 41.90738130999337, -87.70693670763829 41.90751445791434, -87.70694531540822 41.90777260013618, -87.70695683064949 41.90813918297629, -87.70696129194941 41.90828783504474, -87.7069638672588 41.90837390821166, -87.70697068798718 41.90864573444263, -87.7069785751421 41.908857357982775, -87.7069835673209 41.90899306000622, -87.7069909627329 41.90919109689286, -87.7069950718806 41.909300641611615, -87.70700481227779 41.90957072734467, -87.7070003097536 41.90985470366314, -87.70699232033675 41.91001053241249, -87.70698625731963 41.91006327095112, -87.706960472597 41.91011532575941, -87.70654091255122 41.910116411684484, -87.70566226210028 41.91012607436352, -87.70532937867591 41.910129742678336, -87.70451462991946 41.91014915869177, -87.70446248602138 41.910150437275156, -87.70401321332834 41.91015434251711, -87.7033775250078 41.91016262966947, -87.7026619209758 41.910171956156596, -87.70221558288543 41.910172577539306, -87.70190932957924 41.9101729793816, -87.70186597773413 41.91017304292164, -87.70167254879512 41.91017329634622, -87.70151724271976 41.91017471948977, -87.7002368024005 41.91018638267628, -87.70013392620835 41.910187324825905, -87.69908027641858 41.91019835940952, -87.6987967382077 41.910201348360935, -87.69851566211798 41.91020426789682, -87.69801370105675 41.910208709078454, -87.69703487360627 41.910217339794336, -87.69689180235365 41.910218605076054, -87.69575974514534 41.91023035453266, -87.69526677809546 41.910235464885005, -87.69454142148658 41.91024260087958, -87.69364062266534 41.91025144461111, -87.69332225670009 41.910254390670005, -87.69211063032151 41.91026544108824, -87.69199856846967 41.91026646179621, -87.69090162511598 41.91027885349327, -87.69089321106713 41.91027894376738, -87.69032804872565 41.9102881020025, -87.68966710417871 41.910294140942035, -87.68863143156644 41.91030361619078, -87.68844250231801 41.910305738530646, -87.68722069334677 41.910320878900556, -87.6869415458578 41.91032553733003, -87.68636400491705 41.91033438683025, -87.68599735486096 41.91033824791562, -87.68583550566207 41.91033994254184, -87.6849933880201 41.910354812057655, -87.68478215250542 41.910357515995216, -87.68458972996646 41.9103599141988, -87.68382684388732 41.91037236890212, -87.6835644939163 41.91037620846685, -87.68339077028558 41.91037868295893, -87.68267429908703 41.910389663843624, -87.68234659194296 41.9103934595062, -87.68218066216373 41.910395400132145, -87.68164068225975 41.91040630494026, -87.68139635930301 41.91041122971445, -87.6806141512017 41.910426956145294, -87.68057832356085 41.91042771310151, -87.68009555681219 41.910437426468704, -87.67998606120283 41.91043894408091, -87.67990665848265 41.91044005641043, -87.67968153090735 41.91044319338225, -87.67920758399636 41.91045262398248, -87.67920508537777 41.91045266449626, -87.6787363194613 41.91046198552198, -87.67858577200643 41.91046499656453, -87.67856379826188 41.91046539274058, -87.67846972906788 41.91046727122461, -87.67839844181603 41.91046873072747, -87.6781753955325 41.910473111315156, -87.67813372567305 41.910473943875736, -87.6775860432414 41.91047273855444, -87.6775055341035 41.91053885381863, -87.67746629571172 41.910582098195, -87.67746993756167 41.91064622424384, -87.67747270145514 41.91088943388687, -87.67747444782162 41.91096287956082, -87.67748314730586 41.91133326318573, -87.6774890188308 41.911570782411516, -87.67749346425599 41.91175022576133, -87.6774977751756 41.91192486572738, -87.67749904680443 41.911976519483595, -87.67750286162179 41.91213142558998, -87.67750627702908 41.912307405171234, -87.67751068876483 41.91253682060714, -87.6775188197335 41.912912524757935, -87.67752251801134 41.913075251366855, -87.67752895014499 41.91335851997033, -87.67753510980606 41.91366481123087, -87.67753749882326 41.91379034609322, -87.67753818696835 41.91382720489476, -87.67754180121058 41.914016083576996, -87.67754237233984 41.91404641051031, -87.67754521366163 41.91417082274463, -87.67754655234228 41.914230270407344, -87.6775517264733 41.91445700077503, -87.67755510345481 41.91471571851807, -87.67755693540155 41.91485617857848, -87.67756217455818 41.91510527489929, -87.67756756301671 41.91536131475606, -87.6775700490947 41.915473787467334, -87.67757172877451 41.915553763898004, -87.67757444476528 41.91567606225867, -87.677578323991 41.91584265904772, -87.67758053649547 41.91594236952244, -87.67758575813848 41.9161788147321, -87.677586292912 41.91623784614856, -87.67758757917139 41.91637778172058, -87.6775879922483 41.91640204306182, -87.67759310412458 41.91669230188045, -87.67759765058332 41.916991119379674, -87.67760063005984 41.917188199438144, -87.67760511932958 41.91730238504324, -87.67760690174252 41.91734720847048, -87.67762151065281 41.917757801062976, -87.67737884510566 41.917763138341044, -87.67692579845803 41.917771443925815, -87.67659159946321 41.91777757360825, -87.67640351637856 41.917780970730654, -87.67616964400054 41.91778517581011, -87.67565962362893 41.91779567507008, -87.67538954604134 41.91780120781442, -87.67518695463458 41.91780410838173, -87.67495345808749 41.9178074624271, -87.67446806182092 41.91781730154843, -87.67414958421809 41.917823788753324, -87.67397575900453 41.917826989326144, -87.67366438039913 41.91783274763424, -87.67329897777908 41.91783967631504, -87.67289333391909 41.9178474151892, -87.67276154957861 41.917849895244316, -87.67240890042211 41.917856455315565, -87.67206175706994 41.91786354010969, -87.67205749414516 41.91786362539721, -87.67182629824022 41.91786833093463, -87.67154504707004 41.91787771471392, -87.67134803907837 41.917884290303476, -87.67108163609825 41.91787904942032, -87.67093921420931 41.917876252135414, -87.67075120388982 41.91787256024129, -87.67065664791185 41.91787069748458, -87.67045706766886 41.917877284142406, -87.6702005173773 41.91788570946262, -87.67000894957592 41.917892039886645, -87.66970347793563 41.91790210229568, -87.66949691419468 41.91790889397172, -87.66937565896473 41.91791288565819, -87.66937327036462 41.9179129265937, -87.66931167841581 41.91791402493701, -87.66927985337638 41.91791460920549, -87.66920793472649 41.91791589475162, -87.66918000625812 41.91791628199128, -87.66865434560209 41.917925424692285, -87.66849930054322 41.91792812215916, -87.66841900344576 41.91792952328448, -87.66834285895564 41.91793086600759, -87.66828009100198 41.91793198442902, -87.66796131456857 41.91793230546038, -87.66791818088987 41.917761803769594, -87.66789966852782 41.91770464392851, -87.66788115590953 41.91764751186774, -87.6678547414052 41.91756585494831, -87.66782717626882 41.9174818040806, -87.66780039354829 41.91740022761364, -87.66777610711763 41.91731888528408, -87.66776139004946 41.917253624706966, -87.66776202473763 41.91709707904039, -87.66776261229013 41.9169521233429, -87.66776645467293 41.91687607191229, -87.66776848660575 41.916835856875934, -87.66777548927656 41.91672061244815, -87.66778591225798 41.91655909285204, -87.66778919034894 41.91651296408949, -87.66779134912697 41.91648258640251, -87.66779331402996 41.916454937412524, -87.66779395016135 41.9164272005206, -87.66780082037299 41.916127652603095, -87.6678012696727 41.91610804851936, -87.66780858511615 41.91578909337479, -87.66781274151634 41.91560786721032, -87.66781389135167 41.915557727968945, -87.66781454445716 41.915529239183726, -87.66781526983705 41.91549763076658, -87.66780173113513 41.91520629022616, -87.66780537921991 41.91485515360873, -87.6678077794304 41.914624124367556, -87.66780880827456 41.9145250934377, -87.66780171048323 41.914328517060035, -87.66780074681274 41.91430182261121, -87.66780009937206 41.91428389108395, -87.66779897523429 41.9142527588351, -87.6677657840905 41.91333346441073, -87.66775758092368 41.9130267766375, -87.6677542720911 41.91290724618253, -87.66775265785857 41.912848922353604, -87.66774962042558 41.91273919009429, -87.6677419022509 41.91245012984875, -87.6677378772854 41.912299386679535, -87.66773023101597 41.912031066348206, -87.66772900788261 41.911987782472956, -87.66772039838206 41.91168323304521, -87.66771203357082 41.911420424422566, -87.66770255019505 41.91107904458674, -87.6677023007867 41.91107006710545, -87.66769667592354 41.910833509114845, -87.66769161879374 41.91063028748044, -87.66768568704786 41.910391898731156, -87.66768137127522 41.91021322427205, -87.66767735137105 41.910044979532294, -87.66767083234213 41.90986621003154, -87.66766111144867 41.909599606491504, -87.6676574149284 41.909470963005006, -87.66765142467962 41.90926255878198, -87.66764836359339 41.90911163587955, -87.66764459927259 41.9089258568795, -87.66764140857069 41.908818448568226, -87.66763640712368 41.90865006891185, -87.66763592125056 41.90863601569674, -87.66762543536511 41.90835777239364, -87.66761747455156 41.90814567915957, -87.6676161246612 41.908077559424925, -87.66761353345657 41.90794862030881, -87.66760545394388 41.90760524264161, -87.66760084258019 41.90740925020546, -87.66759846217076 41.90732367137494, -87.66759020993753 41.90700668786398, -87.66758021329605 41.906622688564674, -87.66757511461248 41.906416896426386, -87.66756765766254 41.906116304731555, -87.66756238829991 41.90590216911661, -87.6675523846923 41.90550375822347, -87.66754680614187 41.905298183143906, -87.66754118852016 41.90509282668294, -87.66753995427247 41.905035437055105, -87.66753447638035 41.90478068614982, -87.66752450190455 41.904432522130655, -87.66752020172403 41.90427563713363, -87.66751311917292 41.904017192618575, -87.66750649505968 41.90377550299566, -87.66750543531454 41.903720803029735, -87.66750384100841 41.903638550459604, -87.66749526006959 41.903346333265745, -87.66748452182334 41.902980645398756, -87.66747928094873 41.90284013826133, -87.6674781434096 41.90280964260174, -87.66747281507563 41.90266488056581, -87.66746855156056 41.90243173324294, -87.66746575697816 41.902278918319524, -87.66746278923742 41.90211663409148, -87.66745692269161 41.90190348299253, -87.66745457400069 41.9018183980874, -87.6674529245096 41.90177437092353, -87.66744355799014 41.90152434457466, -87.66744105798244 41.90145761744543, -87.66742950264806 41.901041620137896, -87.66741771401723 41.90061719746665, -87.66739245956693 41.89970797734181, -87.66736718571703 41.89879805216888, -87.66736091326493 41.89857230213244, -87.66734189771017 41.89788764220294, -87.66733115049138 41.897500697479266, -87.66732656251988 41.897335494963706, -87.6673220486368 41.89717298236268, -87.66731512615175 41.896923738162265, -87.66730402366355 41.89652397579102, -87.66729151678348 41.89607363950962, -87.66727839709712 41.89560125510558, -87.66726604097613 41.895156346424315, -87.66725927350328 41.89491265620562, -87.66725302470613 41.89476264740421, -87.66725128709433 41.89470794026371, -87.66724962059597 41.894655465081236, -87.66723682658133 41.89425712907128, -87.66723294193257 41.89413618584787, -87.66722783310571 41.893952731230186, -87.66722361019247 41.893800648463746, -87.66722352658311 41.89379744558928, -87.6672116708927 41.8933433385772, -87.66720527209256 41.89309823644906, -87.66720361255676 41.89304427535495, -87.66720244457163 41.893006288172195, -87.66719910345725 41.89289608758639, -87.66719562766525 41.89278144075532, -87.66719366420116 41.8927166649747, -87.66718490377521 41.89242719610412, -87.66717890017141 41.89222881834802, -87.66717259461102 41.89202115253204, -87.66716959630699 41.891922424837425, -87.6671602427243 41.89162041638548, -87.66715832089744 41.89155836346193, -87.66715515397645 41.89146012874415, -87.66715240273432 41.89137479436389, -87.66715037713497 41.89131196668549, -87.66714263628636 41.890977396650335, -87.66713694471089 41.890731372478044, -87.66713185496822 41.89056234501747, -87.66712684186922 41.89039585785955, -87.6671172050724 41.89007560403949, -87.66711157549103 41.88988677860187, -87.6671056031775 41.889686458220616, -87.66710009056072 41.889503028763166, -87.66709507134242 41.889335738024435, -87.66709001999125 41.889167980710525, -87.6670686895295 41.888851884969924)))",
         "36",
         "60622",
         "70853834.3797",
         "42527.9896789",
         "MULTIPOLYGON (((-87.6670686895295 41.888851884969924, -87.66706869824924 41.88885188522634, -87.66726460282342 41.88885812588903, -87.66741251189913 41.88885681566926, -87.66776522295798 41.88885372871873, -87.66801425025187 41.88885124749334, -87.66810930705594 41.88885028891292, -87.66844492931163 41.88884828090499, -87.66877232430892 41.888846334143295, -87.66899137108317 41.88884502183795, -87.66900734798067 41.88884492216806, -87.66932593148218 41.88883916317406, -87.66950921576822 41.888837039630836, -87.66952240156985 41.888836923755036, -87.66967563619427 41.88883555914541, -87.66992934859424 41.888831070103656, -87.6701666042103 41.88882689710277, -87.67049598414022 41.88882122451486, -87.67073731853358 41.888827502131775, -87.67075710836345 41.88882802795171, -87.6711275402639 41.888812409336566, -87.67134142200283 41.88880982806072, -87.67145587433319 41.88880842959947, -87.6716529331123 41.88880605257846, -87.67180881760875 41.888804151404756, -87.67196076094282 41.88879978522085, -87.67211292460387 41.88879541983005, -87.67235154679287 41.88879048186372, -87.67248239265196 41.88878774973105, -87.67257282781941 41.888786184499715, -87.67278550878169 41.888782495859374, -87.67298260729285 41.88877981498682, -87.67317122157252 41.88877722200911, -87.67336262684815 41.88877461745636, -87.67360905589119 41.88877120363297, -87.67383895520406 41.888768078547244, -87.674027422072 41.888765510758866, -87.67424865361637 41.888762444789684, -87.67440142219641 41.8887599461278, -87.67465873048543 41.888755714318705, -87.67489700375992 41.8887525252382, -87.67529050264818 41.8887472067211, -87.67538703591597 41.88874548211968, -87.6757336448623 41.888739262178376, -87.67616873858573 41.88873187360043, -87.67627254377062 41.88873010740408, -87.67645602129956 41.88872701325532, -87.67684593341583 41.888720433913235, -87.67685069423653 41.88890111456494, -87.67685857457421 41.88922547409201, -87.67686503629302 41.889491126235264, -87.67687397543187 41.88972644108188, -87.67688448212014 41.8900023522753, -87.67689042032941 41.89017925270058, -87.67689674925501 41.890411259507644, -87.67689709490948 41.890424131905235, -87.67690062598774 41.890592209475344, -87.67690875777055 41.89082389739924, -87.67691858973907 41.89110474431418, -87.67692057585646 41.89119056800407, -87.67692134271721 41.89122328373594, -87.6769241879273 41.8913507425329, -87.67692885591556 41.89154769598401, -87.67693519372176 41.891814719360944, -87.67693777620741 41.89190326324684, -87.6769391835973 41.891952338239356, -87.67694491360498 41.89214959967499, -87.67694842234768 41.89226965279545, -87.67695525377233 41.89250281490066, -87.67695874829448 41.892620672608885, -87.67696165850298 41.89272027777936, -87.67696542010398 41.89284790643487, -87.67697413733858 41.89317312123254, -87.67698043731681 41.89340800920218, -87.67698676667408 41.89362566357451, -87.67698784587905 41.8936637323445, -87.67699663175111 41.89396433172912, -87.67700048744119 41.89409355248425, -87.67700674968778 41.894303440249516, -87.67701004460997 41.89444080825057, -87.67701061717237 41.89446380824671, -87.67701154733479 41.89450209576691, -87.67701263886407 41.894546146905334, -87.67701602504886 41.89468178668875, -87.67701823186367 41.894799883835795, -87.67701939527102 41.894865614938766, -87.67702307626574 41.89496887431237, -87.67702388935052 41.894993494781936, -87.67703093688519 41.89520558232408, -87.67703771016704 41.895408612440335, -87.67703875604035 41.89544278425746, -87.6770410966786 41.895519114773464, -87.677044719448 41.895638811791, -87.67705235757458 41.89591163274886, -87.67748053153807 41.89590321187372, -87.67773963675614 41.89589843448405, -87.67819693461254 41.89589028683618, -87.67861874526818 41.89588273101146, -87.67896094687819 41.89587664091605, -87.67919088191115 41.895872517294656, -87.67950019533778 41.89586788492233, -87.6799815780842 41.89586066312589, -87.68010306455871 41.895858637399634, -87.6802785537664 41.89585568396731, -87.68061564485137 41.895850053702276, -87.68092658028463 41.89584482283694, -87.68119817135056 41.89584024592658, -87.68158966883958 41.895833687058534, -87.68194921232832 41.89582702779378, -87.6824265707203 41.895818208770656, -87.68265569386998 41.89581440298553, -87.68300788271176 41.89580857695689, -87.68339974652996 41.895802068876016, -87.68364279257848 41.895798037985756, -87.68395409442914 41.8957928559477, -87.68439661990548 41.89578523124323, -87.68491342639858 41.8957763228636, -87.68522432814916 41.895770723417776, -87.68553478949087 41.89576509327185, -87.68596637098 41.89575729107848, -87.6860581390029 41.895755640359454, -87.68684259394753 41.895743237171004, -87.68725021364051 41.895736804717956, -87.68750734904413 41.89573418966183, -87.68780276069361 41.89573121284457, -87.68819962840175 41.895727433169796, -87.68850054420915 41.89572497964814, -87.68930747755068 41.89571619832956, -87.68960043016418 41.895713011205046, -87.68975110927242 41.89571171520371, -87.69012079118937 41.89570846265192, -87.69054163995625 41.89570500129984, -87.69089185141523 41.89570210386571, -87.69102214628766 41.89570071959682, -87.69121228018324 41.89569870938442, -87.69177259573642 41.895702225346646, -87.69178736022366 41.89570230783274, -87.69218314846071 41.89568890358882, -87.69277411179304 41.89568355722696, -87.6931341785032 41.89567947301908, -87.693314283979 41.895677568002725, -87.6937952380963 41.89567253638266, -87.69384526930713 41.895672019178065, -87.69423713910771 41.89566843785217, -87.69463117627747 41.895664812290285, -87.69475008232412 41.89566363493873, -87.69483203518449 41.89566277333943, -87.69546751060122 41.895657852699344, -87.69595249202222 41.89565409669475, -87.69622294290356 41.89565318263837, -87.6967026312377 41.89565351032097, -87.69698600387491 41.89565332458404, -87.69729151476898 41.895654111620594, -87.69794554207051 41.89564881342985, -87.6982463833613 41.89564638877014, -87.69860721820649 41.8956425933762, -87.6989443633925 41.89563866604828, -87.69916127847834 41.89563610469661, -87.69929701095131 41.895634521527256, -87.69991108059354 41.89562874466987, -87.70055740188933 41.89562264821884, -87.70098089837224 41.89561504683304, -87.70154184178983 41.895603287979625, -87.70154301744239 41.89560326700539, -87.70160896109736 41.89560187354779, -87.70176607789364 41.895599499634784, -87.70189872908834 41.895597484807205, -87.70203548415417 41.89559648045101, -87.7022040528938 41.89559488226004, -87.70235487948031 41.89559346082791, -87.70245637627642 41.89559220734686, -87.70261154213938 41.8955902604314, -87.70331177699859 41.895584719073405, -87.70384076941478 41.89558372327586, -87.7039006120706 41.89558273399895, -87.70412940217807 41.89557896599997, -87.70433839192958 41.89557550052217, -87.70444642453268 41.8955744731093, -87.70465191031364 41.89557249727208, -87.70486566101461 41.89557045659887, -87.70532586216409 41.895565317778335, -87.7055155924838 41.895563199277184, -87.70593314073481 41.895559032495775, -87.70616940741884 41.89555692010731, -87.7063538801624 41.895555320491965, -87.70655631674127 41.89555340699404, -87.7065665657065 41.895865043972485, -87.70657129766326 41.895985898624986, -87.70657141014 41.89598941193485, -87.7065859352481 41.8963596067972, -87.70659803219046 41.89675651734592, -87.70660076390298 41.89684528089963, -87.70660245254255 41.896901739263804, -87.70660426454674 41.89696434519174, -87.70662160100568 41.89755796386407, -87.70662385018686 41.89763596749055, -87.70662811654775 41.89775937184283, -87.70664106296374 41.89813331764647, -87.7066463811839 41.89831067939897, -87.70665299009751 41.8985326145613, -87.70665902411004 41.898723207438586, -87.70666146908202 41.89879997720978, -87.70666954632166 41.899055839155736, -87.70667446277497 41.8991954105208, -87.70667857206145 41.899312364951825, -87.70668376912563 41.89950964910829, -87.70669760224233 41.89995451074918, -87.70670401749851 41.9001361595789, -87.70670822025377 41.90025481579051, -87.70671621304238 41.900541879331655, -87.70672552719215 41.900832819443806, -87.70673107039734 41.90100601102802, -87.70673572091233 41.90115027347053, -87.70674318797779 41.90137465571095, -87.70675642070566 41.90177953031924, -87.70675897347034 41.90187161341215, -87.70676268393628 41.901995563415525, -87.70676637441707 41.902159112787444, -87.70677559607344 41.90237689074347, -87.70678607892489 41.90268358898766, -87.70678881836345 41.902805420749566, -87.70678940431327 41.902831905764145, -87.7067898123727 41.90285029430917, -87.7067935461862 41.903016944880264, -87.70680658698764 41.90338139571611, -87.70681403034244 41.903604487945636, -87.70681842870913 41.90375953372554, -87.7068222751388 41.90389591588819, -87.70683307166699 41.9042118912782, -87.7068437804618 41.90452182885203, -87.70684832673125 41.9046655144134, -87.70685464646986 41.90486453344331, -87.70686337041248 41.90517462487467, -87.70687512918116 41.90550117067974, -87.70687734607573 41.90557127055179, -87.70688129203556 41.90569747203062, -87.70688874783355 41.90596817658212, -87.7068974490988 41.90630691757604, -87.70690349706997 41.906477395087535, -87.70690871673614 41.90662360896823, -87.70691857894013 41.90691499069171, -87.70692710567765 41.907237786740644, -87.70693209476917 41.90738130999337, -87.70693670763829 41.90751445791434, -87.70694531540822 41.90777260013618, -87.70695683064949 41.90813918297629, -87.70696129194941 41.90828783504474, -87.7069638672588 41.90837390821166, -87.70697068798718 41.90864573444263, -87.7069785751421 41.908857357982775, -87.7069835673209 41.90899306000622, -87.7069909627329 41.90919109689286, -87.7069950718806 41.909300641611615, -87.70700481227779 41.90957072734467, -87.7070003097536 41.90985470366314, -87.70699232033675 41.91001053241249, -87.70698625731963 41.91006327095112, -87.706960472597 41.91011532575941, -87.70654091255122 41.910116411684484, -87.70566226210028 41.91012607436352, -87.70532937867591 41.910129742678336, -87.70451462991946 41.91014915869177, -87.70446248602138 41.910150437275156, -87.70401321332834 41.91015434251711, -87.7033775250078 41.91016262966947, -87.7026619209758 41.910171956156596, -87.70221558288543 41.910172577539306, -87.70190932957924 41.9101729793816, -87.70186597773413 41.91017304292164, -87.70167254879512 41.91017329634622, -87.70151724271976 41.91017471948977, -87.7002368024005 41.91018638267628, -87.70013392620835 41.910187324825905, -87.69908027641858 41.91019835940952, -87.6987967382077 41.910201348360935, -87.69851566211798 41.91020426789682, -87.69801370105675 41.910208709078454, -87.69703487360627 41.910217339794336, -87.69689180235365 41.910218605076054, -87.69575974514534 41.91023035453266, -87.69526677809546 41.910235464885005, -87.69454142148658 41.91024260087958, -87.69364062266534 41.91025144461111, -87.69332225670009 41.910254390670005, -87.69211063032151 41.91026544108824, -87.69199856846967 41.91026646179621, -87.69090162511598 41.91027885349327, -87.69089321106713 41.91027894376738, -87.69032804872565 41.9102881020025, -87.68966710417871 41.910294140942035, -87.68863143156644 41.91030361619078, -87.68844250231801 41.910305738530646, -87.68722069334677 41.910320878900556, -87.6869415458578 41.91032553733003, -87.68636400491705 41.91033438683025, -87.68599735486096 41.91033824791562, -87.68583550566207 41.91033994254184, -87.6849933880201 41.910354812057655, -87.68478215250542 41.910357515995216, -87.68458972996646 41.9103599141988, -87.68382684388732 41.91037236890212, -87.6835644939163 41.91037620846685, -87.68339077028558 41.91037868295893, -87.68267429908703 41.910389663843624, -87.68234659194296 41.9103934595062, -87.68218066216373 41.910395400132145, -87.68164068225975 41.91040630494026, -87.68139635930301 41.91041122971445, -87.6806141512017 41.910426956145294, -87.68057832356085 41.91042771310151, -87.68009555681219 41.910437426468704, -87.67998606120283 41.91043894408091, -87.67990665848265 41.91044005641043, -87.67968153090735 41.91044319338225, -87.67920758399636 41.91045262398248, -87.67920508537777 41.91045266449626, -87.6787363194613 41.91046198552198, -87.67858577200643 41.91046499656453, -87.67856379826188 41.91046539274058, -87.67846972906788 41.91046727122461, -87.67839844181603 41.91046873072747, -87.6781753955325 41.910473111315156, -87.67813372567305 41.910473943875736, -87.6775860432414 41.91047273855444, -87.6775055341035 41.91053885381863, -87.67746629571172 41.910582098195, -87.67746993756167 41.91064622424384, -87.67747270145514 41.91088943388687, -87.67747444782162 41.91096287956082, -87.67748314730586 41.91133326318573, -87.6774890188308 41.911570782411516, -87.67749346425599 41.91175022576133, -87.6774977751756 41.91192486572738, -87.67749904680443 41.911976519483595, -87.67750286162179 41.91213142558998, -87.67750627702908 41.912307405171234, -87.67751068876483 41.91253682060714, -87.6775188197335 41.912912524757935, -87.67752251801134 41.913075251366855, -87.67752895014499 41.91335851997033, -87.67753510980606 41.91366481123087, -87.67753749882326 41.91379034609322, -87.67753818696835 41.91382720489476, -87.67754180121058 41.914016083576996, -87.67754237233984 41.91404641051031, -87.67754521366163 41.91417082274463, -87.67754655234228 41.914230270407344, -87.6775517264733 41.91445700077503, -87.67755510345481 41.91471571851807, -87.67755693540155 41.91485617857848, -87.67756217455818 41.91510527489929, -87.67756756301671 41.91536131475606, -87.6775700490947 41.915473787467334, -87.67757172877451 41.915553763898004, -87.67757444476528 41.91567606225867, -87.677578323991 41.91584265904772, -87.67758053649547 41.91594236952244, -87.67758575813848 41.9161788147321, -87.677586292912 41.91623784614856, -87.67758757917139 41.91637778172058, -87.6775879922483 41.91640204306182, -87.67759310412458 41.91669230188045, -87.67759765058332 41.916991119379674, -87.67760063005984 41.917188199438144, -87.67760511932958 41.91730238504324, -87.67760690174252 41.91734720847048, -87.67762151065281 41.917757801062976, -87.67737884510566 41.917763138341044, -87.67692579845803 41.917771443925815, -87.67659159946321 41.91777757360825, -87.67640351637856 41.917780970730654, -87.67616964400054 41.91778517581011, -87.67565962362893 41.91779567507008, -87.67538954604134 41.91780120781442, -87.67518695463458 41.91780410838173, -87.67495345808749 41.9178074624271, -87.67446806182092 41.91781730154843, -87.67414958421809 41.917823788753324, -87.67397575900453 41.917826989326144, -87.67366438039913 41.91783274763424, -87.67329897777908 41.91783967631504, -87.67289333391909 41.9178474151892, -87.67276154957861 41.917849895244316, -87.67240890042211 41.917856455315565, -87.67206175706994 41.91786354010969, -87.67205749414516 41.91786362539721, -87.67182629824022 41.91786833093463, -87.67154504707004 41.91787771471392, -87.67134803907837 41.917884290303476, -87.67108163609825 41.91787904942032, -87.67093921420931 41.917876252135414, -87.67075120388982 41.91787256024129, -87.67065664791185 41.91787069748458, -87.67045706766886 41.917877284142406, -87.6702005173773 41.91788570946262, -87.67000894957592 41.917892039886645, -87.66970347793563 41.91790210229568, -87.66949691419468 41.91790889397172, -87.66937565896473 41.91791288565819, -87.66937327036462 41.9179129265937, -87.66931167841581 41.91791402493701, -87.66927985337638 41.91791460920549, -87.66920793472649 41.91791589475162, -87.66918000625812 41.91791628199128, -87.66865434560209 41.917925424692285, -87.66849930054322 41.91792812215916, -87.66841900344576 41.91792952328448, -87.66834285895564 41.91793086600759, -87.66828009100198 41.91793198442902, -87.66796131456857 41.91793230546038, -87.66791818088987 41.917761803769594, -87.66789966852782 41.91770464392851, -87.66788115590953 41.91764751186774, -87.6678547414052 41.91756585494831, -87.66782717626882 41.9174818040806, -87.66780039354829 41.91740022761364, -87.66777610711763 41.91731888528408, -87.66776139004946 41.917253624706966, -87.66776202473763 41.91709707904039, -87.66776261229013 41.9169521233429, -87.66776645467293 41.91687607191229, -87.66776848660575 41.916835856875934, -87.66777548927656 41.91672061244815, -87.66778591225798 41.91655909285204, -87.66778919034894 41.91651296408949, -87.66779134912697 41.91648258640251, -87.66779331402996 41.916454937412524, -87.66779395016135 41.9164272005206, -87.66780082037299 41.916127652603095, -87.6678012696727 41.91610804851936, -87.66780858511615 41.91578909337479, -87.66781274151634 41.91560786721032, -87.66781389135167 41.915557727968945, -87.66781454445716 41.915529239183726, -87.66781526983705 41.91549763076658, -87.66780173113513 41.91520629022616, -87.66780537921991 41.91485515360873, -87.6678077794304 41.914624124367556, -87.66780880827456 41.9145250934377, -87.66780171048323 41.914328517060035, -87.66780074681274 41.91430182261121, -87.66780009937206 41.91428389108395, -87.66779897523429 41.9142527588351, -87.6677657840905 41.91333346441073, -87.66775758092368 41.9130267766375, -87.6677542720911 41.91290724618253, -87.66775265785857 41.912848922353604, -87.66774962042558 41.91273919009429, -87.6677419022509 41.91245012984875, -87.6677378772854 41.912299386679535, -87.66773023101597 41.912031066348206, -87.66772900788261 41.911987782472956, -87.66772039838206 41.91168323304521, -87.66771203357082 41.911420424422566, -87.66770255019505 41.91107904458674, -87.6677023007867 41.91107006710545, -87.66769667592354 41.910833509114845, -87.66769161879374 41.91063028748044, -87.66768568704786 41.910391898731156, -87.66768137127522 41.91021322427205, -87.66767735137105 41.910044979532294, -87.66767083234213 41.90986621003154, -87.66766111144867 41.909599606491504, -87.6676574149284 41.909470963005006, -87.66765142467962 41.90926255878198, -87.66764836359339 41.90911163587955, -87.66764459927259 41.9089258568795, -87.66764140857069 41.908818448568226, -87.66763640712368 41.90865006891185, -87.66763592125056 41.90863601569674, -87.66762543536511 41.90835777239364, -87.66761747455156 41.90814567915957, -87.6676161246612 41.908077559424925, -87.66761353345657 41.90794862030881, -87.66760545394388 41.90760524264161, -87.66760084258019 41.90740925020546, -87.66759846217076 41.90732367137494, -87.66759020993753 41.90700668786398, -87.66758021329605 41.906622688564674, -87.66757511461248 41.906416896426386, -87.66756765766254 41.906116304731555, -87.66756238829991 41.90590216911661, -87.6675523846923 41.90550375822347, -87.66754680614187 41.905298183143906, -87.66754118852016 41.90509282668294, -87.66753995427247 41.905035437055105, -87.66753447638035 41.90478068614982, -87.66752450190455 41.904432522130655, -87.66752020172403 41.90427563713363, -87.66751311917292 41.904017192618575, -87.66750649505968 41.90377550299566, -87.66750543531454 41.903720803029735, -87.66750384100841 41.903638550459604, -87.66749526006959 41.903346333265745, -87.66748452182334 41.902980645398756, -87.66747928094873 41.90284013826133, -87.6674781434096 41.90280964260174, -87.66747281507563 41.90266488056581, -87.66746855156056 41.90243173324294, -87.66746575697816 41.902278918319524, -87.66746278923742 41.90211663409148, -87.66745692269161 41.90190348299253, -87.66745457400069 41.9018183980874, -87.6674529245096 41.90177437092353, -87.66744355799014 41.90152434457466, -87.66744105798244 41.90145761744543, -87.66742950264806 41.901041620137896, -87.66741771401723 41.90061719746665, -87.66739245956693 41.89970797734181, -87.66736718571703 41.89879805216888, -87.66736091326493 41.89857230213244, -87.66734189771017 41.89788764220294, -87.66733115049138 41.897500697479266, -87.66732656251988 41.897335494963706, -87.6673220486368 41.89717298236268, -87.66731512615175 41.896923738162265, -87.66730402366355 41.89652397579102, -87.66729151678348 41.89607363950962, -87.66727839709712 41.89560125510558, -87.66726604097613 41.895156346424315, -87.66725927350328 41.89491265620562, -87.66725302470613 41.89476264740421, -87.66725128709433 41.89470794026371, -87.66724962059597 41.894655465081236, -87.66723682658133 41.89425712907128, -87.66723294193257 41.89413618584787, -87.66722783310571 41.893952731230186, -87.66722361019247 41.893800648463746, -87.66722352658311 41.89379744558928, -87.6672116708927 41.8933433385772, -87.66720527209256 41.89309823644906, -87.66720361255676 41.89304427535495, -87.66720244457163 41.893006288172195, -87.66719910345725 41.89289608758639, -87.66719562766525 41.89278144075532, -87.66719366420116 41.8927166649747, -87.66718490377521 41.89242719610412, -87.66717890017141 41.89222881834802, -87.66717259461102 41.89202115253204, -87.66716959630699 41.891922424837425, -87.6671602427243 41.89162041638548, -87.66715832089744 41.89155836346193, -87.66715515397645 41.89146012874415, -87.66715240273432 41.89137479436389, -87.66715037713497 41.89131196668549, -87.66714263628636 41.890977396650335, -87.66713694471089 41.890731372478044, -87.66713185496822 41.89056234501747, -87.66712684186922 41.89039585785955, -87.6671172050724 41.89007560403949, -87.66711157549103 41.88988677860187, -87.6671056031775 41.889686458220616, -87.66710009056072 41.889503028763166, -87.66709507134242 41.889335738024435, -87.66709001999125 41.889167980710525, -87.6670686895295 41.888851884969924)))"
        ],
        [
         "4",
         "MULTIPOLYGON (((-87.70655631674127 41.89555340699404, -87.70672055100675 41.89555183346755, -87.7070454211768 41.89554855617816, -87.70755344521648 41.89554331255511, -87.70777674467666 41.89554137345066, -87.70784826366928 41.895540747657186, -87.70822007130431 41.89553777764934, -87.70862729739393 41.89553370932865, -87.70885052754396 41.895531328611774, -87.70899948170631 41.89552977843048, -87.70931950436903 41.89552641360396, -87.70977731277165 41.895521765482144, -87.70990668697456 41.8955205468806, -87.71021612670519 41.89551764364351, -87.71036232464539 41.8955162688351, -87.71073729489575 41.89551289619685, -87.71126922517304 41.8955080951201, -87.71143591916352 41.895506610431866, -87.71182789539509 41.89550321662736, -87.71205909506921 41.89550090031568, -87.71265535010767 41.89549495871187, -87.71281135643768 41.895493414396846, -87.71314378833233 41.89549054511253, -87.71326570607943 41.895489337409, -87.71367653055464 41.89548532549501, -87.71387287020163 41.89548333875507, -87.71401833463676 41.895481845565044, -87.71451845360835 41.89547735176363, -87.71495141701004 41.895474250417095, -87.7150938666367 41.89547304163344, -87.71535268267273 41.89547114165282, -87.71569434167871 41.895467463924554, -87.71611236945922 41.89546296070076, -87.71631407242701 41.89546088870657, -87.71654993765243 41.8954584510713, -87.71692634232116 41.89545479163856, -87.71720474319984 41.895452086940665, -87.71753324311129 41.89544937594796, -87.71784091596032 41.89544682660622, -87.71875484668018 41.895436930085225, -87.71893395954343 41.895434979568975, -87.71960785940853 41.895429115528444, -87.71997257240822 41.89542664597437, -87.72010616725586 41.89542571291654, -87.72086590415789 41.89541601889047, -87.72119187217548 41.89541303687621, -87.7214417293312 41.89541077340951, -87.72220225652278 41.89540288588258, -87.72241177686278 41.895401421206905, -87.72262992919748 41.895399892216915, -87.72340633395766 41.89539090119699, -87.72363748278832 41.895389988032, -87.72409375627726 41.89538818364222, -87.72453596971228 41.895381747185404, -87.72471013607459 41.89537849928921, -87.72486294199953 41.89537738802111, -87.72500836494781 41.89537634727756, -87.72533344880672 41.89537359587209, -87.72588061068858 41.89536976802654, -87.72608047720799 41.89536764185595, -87.72623824682245 41.89536597878366, -87.72668242344209 41.89535776075019, -87.7271832470326 41.89534849541133, -87.72731590511351 41.89534560067721, -87.72746186257446 41.89534239162751, -87.72778741696624 41.89533647981018, -87.72841227381075 41.89532358214683, -87.72854855128973 41.89532246130058, -87.72866091636433 41.89532151631734, -87.72914738372218 41.89531164534135, -87.72957373800702 41.89530422801974, -87.72978203329592 41.895300191240565, -87.72989929569687 41.895297926037706, -87.73047161454983 41.89528649725525, -87.7308562905617 41.89527800564495, -87.73101826408279 41.89527454686039, -87.73112131153675 41.895272343199615, -87.73147870263095 41.89526719153272, -87.73160069851697 41.89526538854782, -87.73210687357582 41.89525714507429, -87.73221678702348 41.895255195779704, -87.73252819601183 41.895249662994374, -87.73292515632289 41.8952432594612, -87.73322092147126 41.895237395952485, -87.73348125166463 41.895230550895974, -87.73366711261353 41.89522567644373, -87.73371982799213 41.895224771549586, -87.73382118171534 41.895222995700465, -87.73405092629123 41.89521898075799, -87.73436927040795 41.89521413785762, -87.73471472773147 41.89520855705207, -87.73498778030613 41.89520413494717, -87.73523556930228 41.89519900425515, -87.73569459331254 41.895189621219316, -87.7359435884406 41.89518512658927, -87.73618865280737 41.89518069303207, -87.73647301539799 41.89517651830381, -87.73687815299549 41.8951714883525, -87.73714251783873 41.8951651772191, -87.73749754431822 41.89515746983783, -87.73779760431967 41.89515178168408, -87.73822128240641 41.89514360480013, -87.73841296829245 41.89514028955886, -87.7386456873419 41.89513628096917, -87.7390886529493 41.89512759703257, -87.73933577974331 41.89512253646068, -87.73951868730933 41.89511917396613, -87.73967605794643 41.895116886563876, -87.73983211129278 41.89511407073172, -87.73995461815016 41.89511256337799, -87.7400786746121 41.89511032288498, -87.74023602263597 41.89510652526507, -87.74023852088693 41.89510645597791, -87.74041477556858 41.895103606474954, -87.74062012391413 41.89510035809033, -87.74064451640997 41.89509990776575, -87.74079638161193 41.895097178776666, -87.74102711854036 41.89509299040935, -87.74107090755072 41.89509220089025, -87.74112346351177 41.89509263659069, -87.74116445047058 41.8950929850988, -87.74122619050203 41.895093248709124, -87.74123537226882 41.8950932960514, -87.74123919196018 41.89509331574596, -87.74150484586275 41.89509452050756, -87.74163134468948 41.89509028748995, -87.74184369154956 41.89508087098943, -87.74207479419789 41.895072867903274, -87.74239305304185 41.89506520312067, -87.74274691863147 41.895059778902954, -87.74290381065585 41.89505756687385, -87.74291049646895 41.89505746410555, -87.74320069748129 41.895053357480656, -87.74352438013656 41.895046979786315, -87.7438162493146 41.89504120632272, -87.74415641810334 41.895035405510896, -87.74425979018224 41.89503374029774, -87.744412901259 41.8950312874776, -87.74463269672042 41.8950266515576, -87.74483497313874 41.895021870484356, -87.74505867107719 41.89501621093571, -87.74514757069214 41.89501466308592, -87.74553939035225 41.89500783285845, -87.7458072189814 41.89500415411394, -87.74603566834375 41.895001014232136, -87.74640107736802 41.894998409198756, -87.74645139995589 41.894998062657564, -87.746480344713 41.8949978538975, -87.74668523730577 41.89499615648618, -87.74692487882392 41.89499416977677, -87.74719864411513 41.894991945108494, -87.74764265521206 41.894989215955725, -87.7479051763531 41.894987535987504, -87.7482578043388 41.89498480513931, -87.74847973957253 41.894983081654296, -87.74874365859701 41.89498115983795, -87.74906058372203 41.89497862896068, -87.74935084120865 41.894976318279106, -87.74967522288665 41.894973741365966, -87.74998164397815 41.89497112704736, -87.75034209680732 41.894968237450314, -87.7507058280251 41.89496429310019, -87.7508521359187 41.89496270263946, -87.75115803412415 41.89496104315149, -87.75134896711083 41.89495959602445, -87.75172407406698 41.8949567764238, -87.75193114316879 41.89495403779386, -87.75204263049855 41.89495254400977, -87.75208714426823 41.89495282428143, -87.75230874608656 41.89495139350599, -87.75251106425011 41.89495005700434, -87.75294923202189 41.894947634527966, -87.75315576229643 41.894955703421715, -87.75330200394134 41.89496143677122, -87.75353981311011 41.89495896041085, -87.75368130828572 41.89495747939541, -87.75376612305405 41.89495678227416, -87.75416117822577 41.89495350653918, -87.75437793643633 41.8949515533091, -87.75465196065535 41.89494909263617, -87.75478717438168 41.89494771574765, -87.75499622046941 41.8949456402373, -87.75502277829574 41.89494536234921, -87.7553278356547 41.89494324843914, -87.75559881682571 41.89493610497607, -87.7558326927908 41.89492987190789, -87.75596835032287 41.89492813897142, -87.75617280847658 41.894925681568715, -87.75621090024117 41.8949253242311, -87.75668519088694 41.89492090114998, -87.75682531890662 41.894920342300445, -87.75701360084182 41.894919585948095, -87.75720703092561 41.89491816912302, -87.75727593854734 41.89491782868116, -87.75743564846249 41.89491668139173, -87.75752027835786 41.89491609040861, -87.75782375849157 41.89491371490823, -87.7580507397594 41.89491037917737, -87.75819595014231 41.89490827982841, -87.75838139843974 41.89490813835447, -87.7585671038356 41.89490799773063, -87.75869488597257 41.89490797853958, -87.75875776684231 41.89490796393913, -87.75912041065867 41.89490231343531, -87.75933621046906 41.89490073038402, -87.75949243128782 41.894899562656455, -87.75979498911248 41.894897616484734, -87.75985989476538 41.89489708984989, -87.75997736404962 41.89489613977791, -87.76013325494863 41.894894887272514, -87.76034020578096 41.894892983671355, -87.76064287997835 41.89489034971659, -87.76082543941902 41.894888762675926, -87.76118078660102 41.89488581366813, -87.76123008169306 41.89488534582944, -87.76127011981647 41.89488499630426, -87.76142527744166 41.89488360124827, -87.76155633877218 41.89488241524782, -87.76186224275068 41.89488004121069, -87.7621338020542 41.89487796184633, -87.76233329287804 41.89487645683083, -87.76259694331377 41.89487573674681, -87.76283658489955 41.89487363443294, -87.76288139820947 41.894873253183846, -87.76309386129056 41.89487101531882, -87.76332432178322 41.8948687566948, -87.76356799793821 41.89486727661439, -87.76381850646813 41.894865747642854, -87.76409047911513 41.894862595582936, -87.76431300367699 41.894860597433784, -87.76450048374468 41.894859138633265, -87.7645984846141 41.894858389125496, -87.76478576950194 41.89485821896156, -87.76487961419494 41.89485810711794, -87.76516221027741 41.89485810617091, -87.76539492990615 41.89485374143207, -87.76558735091884 41.89485010996661, -87.7656762096111 41.894848957656635, -87.76595288937763 41.89484513832395, -87.7660149699279 41.89484426507943, -87.76618842822528 41.89484177383382, -87.76639995039773 41.89483793361145, -87.76663858070779 41.89483384258286, -87.76677054909572 41.894833890016706, -87.76696535212133 41.89483084428522, -87.76708631810016 41.894829053401764, -87.76722627159661 41.89482741074336, -87.76730737864213 41.894826438496786, -87.76731968458377 41.894826279544226, -87.7674969232541 41.894824079447936, -87.76769161356508 41.89482133386433, -87.76782675778003 41.89481941980298, -87.76795084516202 41.894817670822455, -87.7681699269764 41.89481455048219, -87.76832792935558 41.89481123912827, -87.76843879639307 41.89480923247672, -87.76857684756948 41.8948067280986, -87.76891168250022 41.894801458889795, -87.76904473470836 41.89479936845788, -87.76914090560537 41.894797865203515, -87.76936604402898 41.894795156462806, -87.76956709073832 41.89479210967506, -87.76965235071128 41.894790854224624, -87.76997300341435 41.894786088527745, -87.77014193391034 41.8947847218167, -87.77026190068577 41.89478374582327, -87.77045338928015 41.89478166591879, -87.77052244262656 41.89478142814866, -87.7707291796066 41.89477870894376, -87.77088515286584 41.89477639950004, -87.77105699797609 41.894773536246525, -87.77133169989395 41.894769035649645, -87.77152120993603 41.8947663955697, -87.77172805765771 41.894763592780734, -87.77198637006514 41.89475999852833, -87.77229182122491 41.89475471296642, -87.77241238518471 41.894752640014616, -87.77260490203534 41.894750561407356, -87.77294980603334 41.8947446161533, -87.77324180342413 41.894740552068214, -87.7737409437682 41.89473349037326, -87.77446372749468 41.89472241083574, -87.77512939136761 41.89471192726698, -87.77515506771644 41.89548779511894, -87.77515966158083 41.89561827881155, -87.77516461946465 41.89575754591976, -87.77517464978759 41.896031387888144, -87.77517613849226 41.89607555000739, -87.7751862381295 41.89637518811881, -87.77519173014221 41.89653328324644, -87.77520313588404 41.89686009569128, -87.77520752775264 41.89698846543925, -87.77521548606342 41.89722190187739, -87.7752238596219 41.897445598466305, -87.77523595634193 41.89776903893319, -87.77523939462752 41.897901465230625, -87.77524622447368 41.89816327189112, -87.7752493076086 41.898357606569995, -87.77525266250171 41.89857134449574, -87.77525968955821 41.89881051201421, -87.77526222719327 41.89889452554141, -87.77527770366545 41.899390924429404, -87.7752910973737 41.89981014513398, -87.77529772380137 41.9000278506116, -87.77530240832684 41.90016906462307, -87.77531065141112 41.900416251167954, -87.77532169674078 41.90075928009944, -87.77533332592064 41.901128080342474, -87.7753445182873 41.90147111001288, -87.77535619188093 41.90183483364684, -87.7753617158123 41.901997786011094, -87.77536980802795 41.902237040816125, -87.77537345795503 41.902349435146476, -87.77542204138227 41.903811198811304, -87.77548229057022 41.90562524202445, -87.77554257714388 41.90743955910863, -87.77559052514735 41.90888219093098, -87.7755979847104 41.909211151560754, -87.77559930561439 41.90925355631019, -87.77515252662948 41.9092591515988, -87.77502032982525 41.9092608140794, -87.77474693636114 41.90926406743087, -87.77439226885583 41.90926846125683, -87.77406703169672 41.9092724759237, -87.77396610299895 41.90927365836868, -87.7735906425539 41.90927800331283, -87.77317898902196 41.90928304849856, -87.772971913272 41.90928557823276, -87.77271629576934 41.90928938008227, -87.7723843643053 41.909294290271774, -87.77196951172535 41.909299672381515, -87.77173245276818 41.90930276679982, -87.77145821868565 41.9093054866667, -87.77089497946763 41.90931118153295, -87.7707539648612 41.90931290568051, -87.77032570369344 41.90931816141024, -87.77027948263357 41.909318730539546, -87.76982432678234 41.9093242914614, -87.76954854232238 41.90932782249856, -87.76909547849368 41.90933361034136, -87.76873463650064 41.90933823077451, -87.76833062892204 41.909342692644394, -87.76791596670267 41.90934723777315, -87.76747830416329 41.90935207970137, -87.76712156132812 41.90935841655442, -87.76673931854285 41.90936520297481, -87.76634138644249 41.90937223982584, -87.76572417133315 41.909378740628775, -87.76515016393033 41.90938476572017, -87.76465551855807 41.90938983625537, -87.76421657235164 41.90939435745824, -87.7639454959048 41.90939718493757, -87.76341953597638 41.909403796295344, -87.7629950934247 41.9094091807771, -87.76261859922326 41.90941392385297, -87.76217729464862 41.90941919385581, -87.76177034364218 41.90942405707876, -87.76147754919675 41.909427538945444, -87.76114025999075 41.909431621696584, -87.76093553479322 41.90943411399268, -87.76054629234339 41.909438841404146, -87.76025603234692 41.90944236030895, -87.75968391724561 41.90945028855036, -87.75933027207402 41.909455189734864, -87.7590502220074 41.909459058493795, -87.75843585600656 41.909467235654866, -87.7581029348691 41.909471660523245, -87.75762594793859 41.909477996832464, -87.757192243501 41.90948369741373, -87.75688114730139 41.90948781681156, -87.75657284403799 41.90949186679326, -87.75579564418281 41.90950127014805, -87.75514997990342 41.9095090801409, -87.75471245095284 41.90951516393896, -87.7540923120807 41.90952378259347, -87.75349144027192 41.90953054705785, -87.75286947886408 41.909537558247315, -87.75264714983739 41.90954068785609, -87.75226047159653 41.90954611378249, -87.75195473700701 41.90955041134292, -87.75159848126303 41.9095554127751, -87.7512199644789 41.90956021792692, -87.75103537234281 41.90956254778651, -87.75015789744351 41.90957368201802, -87.74950271437486 41.90958176859199, -87.74920146582643 41.90958558787255, -87.74884730866937 41.909590070107214, -87.74867447347937 41.90959229122259, -87.7480611368782 41.90960011610637, -87.74712596845245 41.90961279917336, -87.74611445580064 41.90962577036245, -87.74577547220419 41.909630128482306, -87.74564863808008 41.909631757141554, -87.74519020920842 41.90963723109742, -87.74484398134514 41.90964231788557, -87.74465618843423 41.9096450875366, -87.74439219058179 41.90964900269608, -87.74360105390787 41.90965150099586, -87.74197536917217 41.90967494606703, -87.74159012107245 41.90968048070206, -87.74140240195021 41.90968319045795, -87.74139931560471 41.909683229501425, -87.74112113563888 41.90968725612733, -87.74056863428235 41.909695190269765, -87.74055952193605 41.9096953353265, -87.73976394483559 41.909705138815056, -87.73880850287122 41.909716880949524, -87.73854714894377 41.90972087875345, -87.73626312239267 41.90975556747178, -87.73555912366866 41.90976622980445, -87.73552076461246 41.90976671603037, -87.73487395684401 41.909774515951675, -87.73387637163988 41.90978657368306, -87.73365533103419 41.90978923395757, -87.73264536334638 41.9098014358651, -87.73243328801833 41.90980397623712, -87.73229995065822 41.90980561086568, -87.73142117898259 41.909817253726914, -87.73120946817998 41.90982006810403, -87.73019654901576 41.90983349534146, -87.72999909462929 41.909836107806846, -87.72898826921164 41.9098495080115, -87.7289728739057 41.90984972891909, -87.72877152324601 41.90985253830531, -87.72774408231376 41.90986693763216, -87.727555444623 41.90986956508742, -87.72633069402355 41.909886697801674, -87.72633029010925 41.90988669566652, -87.7256798304519 41.90989579653555, -87.72530069392464 41.909899689617106, -87.72510923355887 41.90990163949037, -87.72409296065422 41.90991205878385, -87.72389444549592 41.90991410634396, -87.72287933742246 41.90992561883955, -87.7226681836691 41.909927761743134, -87.7216732720839 41.90993635218476, -87.72155176293684 41.90993809242642, -87.72144336867963 41.90993987484644, -87.72130774722064 41.90994208847512, -87.72099816702848 41.90994474640109, -87.72058532100633 41.90993922358818, -87.72045120028223 41.9099458622933, -87.72019928763528 41.9099497041362, -87.71923348734214 41.90996435655712, -87.71897287950337 41.90996694153813, -87.71820141752781 41.90997455682273, -87.71801667474945 41.90997702467916, -87.71776230425327 41.909980436369175, -87.71706426571284 41.90998967243399, -87.7167006260938 41.909994141826694, -87.71596008242416 41.91000325261679, -87.71493275130045 41.910013366718616, -87.71484567349734 41.91001424233952, -87.71435949148969 41.91002084326447, -87.7133051536952 41.910035133111364, -87.71316946176711 41.910037007506574, -87.71204369656562 41.91005213475009, -87.71194566946066 41.91005316867321, -87.71188060001978 41.91005380439001, -87.71181156183188 41.91005455580037, -87.7109156498234 41.910063836012675, -87.71006958551172 41.91007368139902, -87.70977171603575 41.9100771412079, -87.70947024086689 41.91008112922656, -87.70863000604577 41.91009214852841, -87.70843934349718 41.91009506266161, -87.70748940982845 41.910109702634266, -87.706960472597 41.91011532575941, -87.70698625731963 41.91006327095112, -87.70699232033675 41.91001053241249, -87.7070003097536 41.90985470366314, -87.70700481227779 41.90957072734467, -87.7069950718806 41.909300641611615, -87.7069909627329 41.90919109689286, -87.7069835673209 41.90899306000622, -87.7069785751421 41.908857357982775, -87.70697068798718 41.90864573444263, -87.7069638672588 41.90837390821166, -87.70696129194941 41.90828783504474, -87.70695683064949 41.90813918297629, -87.70694531540822 41.90777260013618, -87.70693670763829 41.90751445791434, -87.70693209476917 41.90738130999337, -87.70692710567765 41.907237786740644, -87.70691857894013 41.90691499069171, -87.70690871673614 41.90662360896823, -87.70690349706997 41.906477395087535, -87.7068974490988 41.90630691757604, -87.70688874783355 41.90596817658212, -87.70688129203556 41.90569747203062, -87.70687734607573 41.90557127055179, -87.70687512918116 41.90550117067974, -87.70686337041248 41.90517462487467, -87.70685464646986 41.90486453344331, -87.70684832673125 41.9046655144134, -87.7068437804618 41.90452182885203, -87.70683307166699 41.9042118912782, -87.7068222751388 41.90389591588819, -87.70681842870913 41.90375953372554, -87.70681403034244 41.903604487945636, -87.70680658698764 41.90338139571611, -87.7067935461862 41.903016944880264, -87.7067898123727 41.90285029430917, -87.70678940431327 41.902831905764145, -87.70678881836345 41.902805420749566, -87.70678607892489 41.90268358898766, -87.70677559607344 41.90237689074347, -87.70676637441707 41.902159112787444, -87.70676268393628 41.901995563415525, -87.70675897347034 41.90187161341215, -87.70675642070566 41.90177953031924, -87.70674318797779 41.90137465571095, -87.70673572091233 41.90115027347053, -87.70673107039734 41.90100601102802, -87.70672552719215 41.900832819443806, -87.70671621304238 41.900541879331655, -87.70670822025377 41.90025481579051, -87.70670401749851 41.9001361595789, -87.70669760224233 41.89995451074918, -87.70668376912563 41.89950964910829, -87.70667857206145 41.899312364951825, -87.70667446277497 41.8991954105208, -87.70666954632166 41.899055839155736, -87.70666146908202 41.89879997720978, -87.70665902411004 41.898723207438586, -87.70665299009751 41.8985326145613, -87.7066463811839 41.89831067939897, -87.70664106296374 41.89813331764647, -87.70662811654775 41.89775937184283, -87.70662385018686 41.89763596749055, -87.70662160100568 41.89755796386407, -87.70660426454674 41.89696434519174, -87.70660245254255 41.896901739263804, -87.70660076390298 41.89684528089963, -87.70659803219046 41.89675651734592, -87.7065859352481 41.8963596067972, -87.70657141014 41.89598941193485, -87.70657129766326 41.895985898624986, -87.7065665657065 41.895865043972485, -87.70655631674127 41.89555340699404)))",
         "37",
         "60651",
         "99039621.2518",
         "47970.1401531",
         "MULTIPOLYGON (((-87.70655631674127 41.89555340699404, -87.70672055100675 41.89555183346755, -87.7070454211768 41.89554855617816, -87.70755344521648 41.89554331255511, -87.70777674467666 41.89554137345066, -87.70784826366928 41.895540747657186, -87.70822007130431 41.89553777764934, -87.70862729739393 41.89553370932865, -87.70885052754396 41.895531328611774, -87.70899948170631 41.89552977843048, -87.70931950436903 41.89552641360396, -87.70977731277165 41.895521765482144, -87.70990668697456 41.8955205468806, -87.71021612670519 41.89551764364351, -87.71036232464539 41.8955162688351, -87.71073729489575 41.89551289619685, -87.71126922517304 41.8955080951201, -87.71143591916352 41.895506610431866, -87.71182789539509 41.89550321662736, -87.71205909506921 41.89550090031568, -87.71265535010767 41.89549495871187, -87.71281135643768 41.895493414396846, -87.71314378833233 41.89549054511253, -87.71326570607943 41.895489337409, -87.71367653055464 41.89548532549501, -87.71387287020163 41.89548333875507, -87.71401833463676 41.895481845565044, -87.71451845360835 41.89547735176363, -87.71495141701004 41.895474250417095, -87.7150938666367 41.89547304163344, -87.71535268267273 41.89547114165282, -87.71569434167871 41.895467463924554, -87.71611236945922 41.89546296070076, -87.71631407242701 41.89546088870657, -87.71654993765243 41.8954584510713, -87.71692634232116 41.89545479163856, -87.71720474319984 41.895452086940665, -87.71753324311129 41.89544937594796, -87.71784091596032 41.89544682660622, -87.71875484668018 41.895436930085225, -87.71893395954343 41.895434979568975, -87.71960785940853 41.895429115528444, -87.71997257240822 41.89542664597437, -87.72010616725586 41.89542571291654, -87.72086590415789 41.89541601889047, -87.72119187217548 41.89541303687621, -87.7214417293312 41.89541077340951, -87.72220225652278 41.89540288588258, -87.72241177686278 41.895401421206905, -87.72262992919748 41.895399892216915, -87.72340633395766 41.89539090119699, -87.72363748278832 41.895389988032, -87.72409375627726 41.89538818364222, -87.72453596971228 41.895381747185404, -87.72471013607459 41.89537849928921, -87.72486294199953 41.89537738802111, -87.72500836494781 41.89537634727756, -87.72533344880672 41.89537359587209, -87.72588061068858 41.89536976802654, -87.72608047720799 41.89536764185595, -87.72623824682245 41.89536597878366, -87.72668242344209 41.89535776075019, -87.7271832470326 41.89534849541133, -87.72731590511351 41.89534560067721, -87.72746186257446 41.89534239162751, -87.72778741696624 41.89533647981018, -87.72841227381075 41.89532358214683, -87.72854855128973 41.89532246130058, -87.72866091636433 41.89532151631734, -87.72914738372218 41.89531164534135, -87.72957373800702 41.89530422801974, -87.72978203329592 41.895300191240565, -87.72989929569687 41.895297926037706, -87.73047161454983 41.89528649725525, -87.7308562905617 41.89527800564495, -87.73101826408279 41.89527454686039, -87.73112131153675 41.895272343199615, -87.73147870263095 41.89526719153272, -87.73160069851697 41.89526538854782, -87.73210687357582 41.89525714507429, -87.73221678702348 41.895255195779704, -87.73252819601183 41.895249662994374, -87.73292515632289 41.8952432594612, -87.73322092147126 41.895237395952485, -87.73348125166463 41.895230550895974, -87.73366711261353 41.89522567644373, -87.73371982799213 41.895224771549586, -87.73382118171534 41.895222995700465, -87.73405092629123 41.89521898075799, -87.73436927040795 41.89521413785762, -87.73471472773147 41.89520855705207, -87.73498778030613 41.89520413494717, -87.73523556930228 41.89519900425515, -87.73569459331254 41.895189621219316, -87.7359435884406 41.89518512658927, -87.73618865280737 41.89518069303207, -87.73647301539799 41.89517651830381, -87.73687815299549 41.8951714883525, -87.73714251783873 41.8951651772191, -87.73749754431822 41.89515746983783, -87.73779760431967 41.89515178168408, -87.73822128240641 41.89514360480013, -87.73841296829245 41.89514028955886, -87.7386456873419 41.89513628096917, -87.7390886529493 41.89512759703257, -87.73933577974331 41.89512253646068, -87.73951868730933 41.89511917396613, -87.73967605794643 41.895116886563876, -87.73983211129278 41.89511407073172, -87.73995461815016 41.89511256337799, -87.7400786746121 41.89511032288498, -87.74023602263597 41.89510652526507, -87.74023852088693 41.89510645597791, -87.74041477556858 41.895103606474954, -87.74062012391413 41.89510035809033, -87.74064451640997 41.89509990776575, -87.74079638161193 41.895097178776666, -87.74102711854036 41.89509299040935, -87.74107090755072 41.89509220089025, -87.74112346351177 41.89509263659069, -87.74116445047058 41.8950929850988, -87.74122619050203 41.895093248709124, -87.74123537226882 41.8950932960514, -87.74123919196018 41.89509331574596, -87.74150484586275 41.89509452050756, -87.74163134468948 41.89509028748995, -87.74184369154956 41.89508087098943, -87.74207479419789 41.895072867903274, -87.74239305304185 41.89506520312067, -87.74274691863147 41.895059778902954, -87.74290381065585 41.89505756687385, -87.74291049646895 41.89505746410555, -87.74320069748129 41.895053357480656, -87.74352438013656 41.895046979786315, -87.7438162493146 41.89504120632272, -87.74415641810334 41.895035405510896, -87.74425979018224 41.89503374029774, -87.744412901259 41.8950312874776, -87.74463269672042 41.8950266515576, -87.74483497313874 41.895021870484356, -87.74505867107719 41.89501621093571, -87.74514757069214 41.89501466308592, -87.74553939035225 41.89500783285845, -87.7458072189814 41.89500415411394, -87.74603566834375 41.895001014232136, -87.74640107736802 41.894998409198756, -87.74645139995589 41.894998062657564, -87.746480344713 41.8949978538975, -87.74668523730577 41.89499615648618, -87.74692487882392 41.89499416977677, -87.74719864411513 41.894991945108494, -87.74764265521206 41.894989215955725, -87.7479051763531 41.894987535987504, -87.7482578043388 41.89498480513931, -87.74847973957253 41.894983081654296, -87.74874365859701 41.89498115983795, -87.74906058372203 41.89497862896068, -87.74935084120865 41.894976318279106, -87.74967522288665 41.894973741365966, -87.74998164397815 41.89497112704736, -87.75034209680732 41.894968237450314, -87.7507058280251 41.89496429310019, -87.7508521359187 41.89496270263946, -87.75115803412415 41.89496104315149, -87.75134896711083 41.89495959602445, -87.75172407406698 41.8949567764238, -87.75193114316879 41.89495403779386, -87.75204263049855 41.89495254400977, -87.75208714426823 41.89495282428143, -87.75230874608656 41.89495139350599, -87.75251106425011 41.89495005700434, -87.75294923202189 41.894947634527966, -87.75315576229643 41.894955703421715, -87.75330200394134 41.89496143677122, -87.75353981311011 41.89495896041085, -87.75368130828572 41.89495747939541, -87.75376612305405 41.89495678227416, -87.75416117822577 41.89495350653918, -87.75437793643633 41.8949515533091, -87.75465196065535 41.89494909263617, -87.75478717438168 41.89494771574765, -87.75499622046941 41.8949456402373, -87.75502277829574 41.89494536234921, -87.7553278356547 41.89494324843914, -87.75559881682571 41.89493610497607, -87.7558326927908 41.89492987190789, -87.75596835032287 41.89492813897142, -87.75617280847658 41.894925681568715, -87.75621090024117 41.8949253242311, -87.75668519088694 41.89492090114998, -87.75682531890662 41.894920342300445, -87.75701360084182 41.894919585948095, -87.75720703092561 41.89491816912302, -87.75727593854734 41.89491782868116, -87.75743564846249 41.89491668139173, -87.75752027835786 41.89491609040861, -87.75782375849157 41.89491371490823, -87.7580507397594 41.89491037917737, -87.75819595014231 41.89490827982841, -87.75838139843974 41.89490813835447, -87.7585671038356 41.89490799773063, -87.75869488597257 41.89490797853958, -87.75875776684231 41.89490796393913, -87.75912041065867 41.89490231343531, -87.75933621046906 41.89490073038402, -87.75949243128782 41.894899562656455, -87.75979498911248 41.894897616484734, -87.75985989476538 41.89489708984989, -87.75997736404962 41.89489613977791, -87.76013325494863 41.894894887272514, -87.76034020578096 41.894892983671355, -87.76064287997835 41.89489034971659, -87.76082543941902 41.894888762675926, -87.76118078660102 41.89488581366813, -87.76123008169306 41.89488534582944, -87.76127011981647 41.89488499630426, -87.76142527744166 41.89488360124827, -87.76155633877218 41.89488241524782, -87.76186224275068 41.89488004121069, -87.7621338020542 41.89487796184633, -87.76233329287804 41.89487645683083, -87.76259694331377 41.89487573674681, -87.76283658489955 41.89487363443294, -87.76288139820947 41.894873253183846, -87.76309386129056 41.89487101531882, -87.76332432178322 41.8948687566948, -87.76356799793821 41.89486727661439, -87.76381850646813 41.894865747642854, -87.76409047911513 41.894862595582936, -87.76431300367699 41.894860597433784, -87.76450048374468 41.894859138633265, -87.7645984846141 41.894858389125496, -87.76478576950194 41.89485821896156, -87.76487961419494 41.89485810711794, -87.76516221027741 41.89485810617091, -87.76539492990615 41.89485374143207, -87.76558735091884 41.89485010996661, -87.7656762096111 41.894848957656635, -87.76595288937763 41.89484513832395, -87.7660149699279 41.89484426507943, -87.76618842822528 41.89484177383382, -87.76639995039773 41.89483793361145, -87.76663858070779 41.89483384258286, -87.76677054909572 41.894833890016706, -87.76696535212133 41.89483084428522, -87.76708631810016 41.894829053401764, -87.76722627159661 41.89482741074336, -87.76730737864213 41.894826438496786, -87.76731968458377 41.894826279544226, -87.7674969232541 41.894824079447936, -87.76769161356508 41.89482133386433, -87.76782675778003 41.89481941980298, -87.76795084516202 41.894817670822455, -87.7681699269764 41.89481455048219, -87.76832792935558 41.89481123912827, -87.76843879639307 41.89480923247672, -87.76857684756948 41.8948067280986, -87.76891168250022 41.894801458889795, -87.76904473470836 41.89479936845788, -87.76914090560537 41.894797865203515, -87.76936604402898 41.894795156462806, -87.76956709073832 41.89479210967506, -87.76965235071128 41.894790854224624, -87.76997300341435 41.894786088527745, -87.77014193391034 41.8947847218167, -87.77026190068577 41.89478374582327, -87.77045338928015 41.89478166591879, -87.77052244262656 41.89478142814866, -87.7707291796066 41.89477870894376, -87.77088515286584 41.89477639950004, -87.77105699797609 41.894773536246525, -87.77133169989395 41.894769035649645, -87.77152120993603 41.8947663955697, -87.77172805765771 41.894763592780734, -87.77198637006514 41.89475999852833, -87.77229182122491 41.89475471296642, -87.77241238518471 41.894752640014616, -87.77260490203534 41.894750561407356, -87.77294980603334 41.8947446161533, -87.77324180342413 41.894740552068214, -87.7737409437682 41.89473349037326, -87.77446372749468 41.89472241083574, -87.77512939136761 41.89471192726698, -87.77515506771644 41.89548779511894, -87.77515966158083 41.89561827881155, -87.77516461946465 41.89575754591976, -87.77517464978759 41.896031387888144, -87.77517613849226 41.89607555000739, -87.7751862381295 41.89637518811881, -87.77519173014221 41.89653328324644, -87.77520313588404 41.89686009569128, -87.77520752775264 41.89698846543925, -87.77521548606342 41.89722190187739, -87.7752238596219 41.897445598466305, -87.77523595634193 41.89776903893319, -87.77523939462752 41.897901465230625, -87.77524622447368 41.89816327189112, -87.7752493076086 41.898357606569995, -87.77525266250171 41.89857134449574, -87.77525968955821 41.89881051201421, -87.77526222719327 41.89889452554141, -87.77527770366545 41.899390924429404, -87.7752910973737 41.89981014513398, -87.77529772380137 41.9000278506116, -87.77530240832684 41.90016906462307, -87.77531065141112 41.900416251167954, -87.77532169674078 41.90075928009944, -87.77533332592064 41.901128080342474, -87.7753445182873 41.90147111001288, -87.77535619188093 41.90183483364684, -87.7753617158123 41.901997786011094, -87.77536980802795 41.902237040816125, -87.77537345795503 41.902349435146476, -87.77542204138227 41.903811198811304, -87.77548229057022 41.90562524202445, -87.77554257714388 41.90743955910863, -87.77559052514735 41.90888219093098, -87.7755979847104 41.909211151560754, -87.77559930561439 41.90925355631019, -87.77515252662948 41.9092591515988, -87.77502032982525 41.9092608140794, -87.77474693636114 41.90926406743087, -87.77439226885583 41.90926846125683, -87.77406703169672 41.9092724759237, -87.77396610299895 41.90927365836868, -87.7735906425539 41.90927800331283, -87.77317898902196 41.90928304849856, -87.772971913272 41.90928557823276, -87.77271629576934 41.90928938008227, -87.7723843643053 41.909294290271774, -87.77196951172535 41.909299672381515, -87.77173245276818 41.90930276679982, -87.77145821868565 41.9093054866667, -87.77089497946763 41.90931118153295, -87.7707539648612 41.90931290568051, -87.77032570369344 41.90931816141024, -87.77027948263357 41.909318730539546, -87.76982432678234 41.9093242914614, -87.76954854232238 41.90932782249856, -87.76909547849368 41.90933361034136, -87.76873463650064 41.90933823077451, -87.76833062892204 41.909342692644394, -87.76791596670267 41.90934723777315, -87.76747830416329 41.90935207970137, -87.76712156132812 41.90935841655442, -87.76673931854285 41.90936520297481, -87.76634138644249 41.90937223982584, -87.76572417133315 41.909378740628775, -87.76515016393033 41.90938476572017, -87.76465551855807 41.90938983625537, -87.76421657235164 41.90939435745824, -87.7639454959048 41.90939718493757, -87.76341953597638 41.909403796295344, -87.7629950934247 41.9094091807771, -87.76261859922326 41.90941392385297, -87.76217729464862 41.90941919385581, -87.76177034364218 41.90942405707876, -87.76147754919675 41.909427538945444, -87.76114025999075 41.909431621696584, -87.76093553479322 41.90943411399268, -87.76054629234339 41.909438841404146, -87.76025603234692 41.90944236030895, -87.75968391724561 41.90945028855036, -87.75933027207402 41.909455189734864, -87.7590502220074 41.909459058493795, -87.75843585600656 41.909467235654866, -87.7581029348691 41.909471660523245, -87.75762594793859 41.909477996832464, -87.757192243501 41.90948369741373, -87.75688114730139 41.90948781681156, -87.75657284403799 41.90949186679326, -87.75579564418281 41.90950127014805, -87.75514997990342 41.9095090801409, -87.75471245095284 41.90951516393896, -87.7540923120807 41.90952378259347, -87.75349144027192 41.90953054705785, -87.75286947886408 41.909537558247315, -87.75264714983739 41.90954068785609, -87.75226047159653 41.90954611378249, -87.75195473700701 41.90955041134292, -87.75159848126303 41.9095554127751, -87.7512199644789 41.90956021792692, -87.75103537234281 41.90956254778651, -87.75015789744351 41.90957368201802, -87.74950271437486 41.90958176859199, -87.74920146582643 41.90958558787255, -87.74884730866937 41.909590070107214, -87.74867447347937 41.90959229122259, -87.7480611368782 41.90960011610637, -87.74712596845245 41.90961279917336, -87.74611445580064 41.90962577036245, -87.74577547220419 41.909630128482306, -87.74564863808008 41.909631757141554, -87.74519020920842 41.90963723109742, -87.74484398134514 41.90964231788557, -87.74465618843423 41.9096450875366, -87.74439219058179 41.90964900269608, -87.74360105390787 41.90965150099586, -87.74197536917217 41.90967494606703, -87.74159012107245 41.90968048070206, -87.74140240195021 41.90968319045795, -87.74139931560471 41.909683229501425, -87.74112113563888 41.90968725612733, -87.74056863428235 41.909695190269765, -87.74055952193605 41.9096953353265, -87.73976394483559 41.909705138815056, -87.73880850287122 41.909716880949524, -87.73854714894377 41.90972087875345, -87.73626312239267 41.90975556747178, -87.73555912366866 41.90976622980445, -87.73552076461246 41.90976671603037, -87.73487395684401 41.909774515951675, -87.73387637163988 41.90978657368306, -87.73365533103419 41.90978923395757, -87.73264536334638 41.9098014358651, -87.73243328801833 41.90980397623712, -87.73229995065822 41.90980561086568, -87.73142117898259 41.909817253726914, -87.73120946817998 41.90982006810403, -87.73019654901576 41.90983349534146, -87.72999909462929 41.909836107806846, -87.72898826921164 41.9098495080115, -87.7289728739057 41.90984972891909, -87.72877152324601 41.90985253830531, -87.72774408231376 41.90986693763216, -87.727555444623 41.90986956508742, -87.72633069402355 41.909886697801674, -87.72633029010925 41.90988669566652, -87.7256798304519 41.90989579653555, -87.72530069392464 41.909899689617106, -87.72510923355887 41.90990163949037, -87.72409296065422 41.90991205878385, -87.72389444549592 41.90991410634396, -87.72287933742246 41.90992561883955, -87.7226681836691 41.909927761743134, -87.7216732720839 41.90993635218476, -87.72155176293684 41.90993809242642, -87.72144336867963 41.90993987484644, -87.72130774722064 41.90994208847512, -87.72099816702848 41.90994474640109, -87.72058532100633 41.90993922358818, -87.72045120028223 41.9099458622933, -87.72019928763528 41.9099497041362, -87.71923348734214 41.90996435655712, -87.71897287950337 41.90996694153813, -87.71820141752781 41.90997455682273, -87.71801667474945 41.90997702467916, -87.71776230425327 41.909980436369175, -87.71706426571284 41.90998967243399, -87.7167006260938 41.909994141826694, -87.71596008242416 41.91000325261679, -87.71493275130045 41.910013366718616, -87.71484567349734 41.91001424233952, -87.71435949148969 41.91002084326447, -87.7133051536952 41.910035133111364, -87.71316946176711 41.910037007506574, -87.71204369656562 41.91005213475009, -87.71194566946066 41.91005316867321, -87.71188060001978 41.91005380439001, -87.71181156183188 41.91005455580037, -87.7109156498234 41.910063836012675, -87.71006958551172 41.91007368139902, -87.70977171603575 41.9100771412079, -87.70947024086689 41.91008112922656, -87.70863000604577 41.91009214852841, -87.70843934349718 41.91009506266161, -87.70748940982845 41.910109702634266, -87.706960472597 41.91011532575941, -87.70698625731963 41.91006327095112, -87.70699232033675 41.91001053241249, -87.7070003097536 41.90985470366314, -87.70700481227779 41.90957072734467, -87.7069950718806 41.909300641611615, -87.7069909627329 41.90919109689286, -87.7069835673209 41.90899306000622, -87.7069785751421 41.908857357982775, -87.70697068798718 41.90864573444263, -87.7069638672588 41.90837390821166, -87.70696129194941 41.90828783504474, -87.70695683064949 41.90813918297629, -87.70694531540822 41.90777260013618, -87.70693670763829 41.90751445791434, -87.70693209476917 41.90738130999337, -87.70692710567765 41.907237786740644, -87.70691857894013 41.90691499069171, -87.70690871673614 41.90662360896823, -87.70690349706997 41.906477395087535, -87.7068974490988 41.90630691757604, -87.70688874783355 41.90596817658212, -87.70688129203556 41.90569747203062, -87.70687734607573 41.90557127055179, -87.70687512918116 41.90550117067974, -87.70686337041248 41.90517462487467, -87.70685464646986 41.90486453344331, -87.70684832673125 41.9046655144134, -87.7068437804618 41.90452182885203, -87.70683307166699 41.9042118912782, -87.7068222751388 41.90389591588819, -87.70681842870913 41.90375953372554, -87.70681403034244 41.903604487945636, -87.70680658698764 41.90338139571611, -87.7067935461862 41.903016944880264, -87.7067898123727 41.90285029430917, -87.70678940431327 41.902831905764145, -87.70678881836345 41.902805420749566, -87.70678607892489 41.90268358898766, -87.70677559607344 41.90237689074347, -87.70676637441707 41.902159112787444, -87.70676268393628 41.901995563415525, -87.70675897347034 41.90187161341215, -87.70675642070566 41.90177953031924, -87.70674318797779 41.90137465571095, -87.70673572091233 41.90115027347053, -87.70673107039734 41.90100601102802, -87.70672552719215 41.900832819443806, -87.70671621304238 41.900541879331655, -87.70670822025377 41.90025481579051, -87.70670401749851 41.9001361595789, -87.70669760224233 41.89995451074918, -87.70668376912563 41.89950964910829, -87.70667857206145 41.899312364951825, -87.70667446277497 41.8991954105208, -87.70666954632166 41.899055839155736, -87.70666146908202 41.89879997720978, -87.70665902411004 41.898723207438586, -87.70665299009751 41.8985326145613, -87.7066463811839 41.89831067939897, -87.70664106296374 41.89813331764647, -87.70662811654775 41.89775937184283, -87.70662385018686 41.89763596749055, -87.70662160100568 41.89755796386407, -87.70660426454674 41.89696434519174, -87.70660245254255 41.896901739263804, -87.70660076390298 41.89684528089963, -87.70659803219046 41.89675651734592, -87.7065859352481 41.8963596067972, -87.70657141014 41.89598941193485, -87.70657129766326 41.895985898624986, -87.7065665657065 41.895865043972485, -87.70655631674127 41.89555340699404)))"
        ]
       ],
       "shape": {
        "columns": 6,
        "rows": 5
       }
      },
      "text/html": [
       "<div>\n",
       "<style scoped>\n",
       "    .dataframe tbody tr th:only-of-type {\n",
       "        vertical-align: middle;\n",
       "    }\n",
       "\n",
       "    .dataframe tbody tr th {\n",
       "        vertical-align: top;\n",
       "    }\n",
       "\n",
       "    .dataframe thead th {\n",
       "        text-align: right;\n",
       "    }\n",
       "</style>\n",
       "<table border=\"1\" class=\"dataframe\">\n",
       "  <thead>\n",
       "    <tr style=\"text-align: right;\">\n",
       "      <th></th>\n",
       "      <th>the_geom</th>\n",
       "      <th>OBJECTID</th>\n",
       "      <th>ZIP</th>\n",
       "      <th>SHAPE_AREA</th>\n",
       "      <th>SHAPE_LEN</th>\n",
       "      <th>geometry</th>\n",
       "    </tr>\n",
       "  </thead>\n",
       "  <tbody>\n",
       "    <tr>\n",
       "      <th>0</th>\n",
       "      <td>MULTIPOLYGON (((-87.67762151065281 41.91775780...</td>\n",
       "      <td>33</td>\n",
       "      <td>60647</td>\n",
       "      <td>106052287.488</td>\n",
       "      <td>42720.0444058</td>\n",
       "      <td>MULTIPOLYGON (((-87.67762151065281 41.91775780...</td>\n",
       "    </tr>\n",
       "    <tr>\n",
       "      <th>1</th>\n",
       "      <td>MULTIPOLYGON (((-87.72683253163021 41.92264626...</td>\n",
       "      <td>34</td>\n",
       "      <td>60639</td>\n",
       "      <td>127476050.762</td>\n",
       "      <td>48103.7827213</td>\n",
       "      <td>MULTIPOLYGON (((-87.72683253163021 41.92264626...</td>\n",
       "    </tr>\n",
       "    <tr>\n",
       "      <th>2</th>\n",
       "      <td>MULTIPOLYGON (((-87.78500237831095 41.90914785...</td>\n",
       "      <td>35</td>\n",
       "      <td>60707</td>\n",
       "      <td>45069038.4783</td>\n",
       "      <td>27288.6096123</td>\n",
       "      <td>MULTIPOLYGON (((-87.78500237831095 41.90914785...</td>\n",
       "    </tr>\n",
       "    <tr>\n",
       "      <th>3</th>\n",
       "      <td>MULTIPOLYGON (((-87.6670686895295 41.888851884...</td>\n",
       "      <td>36</td>\n",
       "      <td>60622</td>\n",
       "      <td>70853834.3797</td>\n",
       "      <td>42527.9896789</td>\n",
       "      <td>MULTIPOLYGON (((-87.6670686895295 41.888851884...</td>\n",
       "    </tr>\n",
       "    <tr>\n",
       "      <th>4</th>\n",
       "      <td>MULTIPOLYGON (((-87.70655631674127 41.89555340...</td>\n",
       "      <td>37</td>\n",
       "      <td>60651</td>\n",
       "      <td>99039621.2518</td>\n",
       "      <td>47970.1401531</td>\n",
       "      <td>MULTIPOLYGON (((-87.70655631674127 41.89555340...</td>\n",
       "    </tr>\n",
       "  </tbody>\n",
       "</table>\n",
       "</div>"
      ],
      "text/plain": [
       "                                            the_geom OBJECTID    ZIP  \\\n",
       "0  MULTIPOLYGON (((-87.67762151065281 41.91775780...       33  60647   \n",
       "1  MULTIPOLYGON (((-87.72683253163021 41.92264626...       34  60639   \n",
       "2  MULTIPOLYGON (((-87.78500237831095 41.90914785...       35  60707   \n",
       "3  MULTIPOLYGON (((-87.6670686895295 41.888851884...       36  60622   \n",
       "4  MULTIPOLYGON (((-87.70655631674127 41.89555340...       37  60651   \n",
       "\n",
       "      SHAPE_AREA      SHAPE_LEN  \\\n",
       "0  106052287.488  42720.0444058   \n",
       "1  127476050.762  48103.7827213   \n",
       "2  45069038.4783  27288.6096123   \n",
       "3  70853834.3797  42527.9896789   \n",
       "4  99039621.2518  47970.1401531   \n",
       "\n",
       "                                            geometry  \n",
       "0  MULTIPOLYGON (((-87.67762151065281 41.91775780...  \n",
       "1  MULTIPOLYGON (((-87.72683253163021 41.92264626...  \n",
       "2  MULTIPOLYGON (((-87.78500237831095 41.90914785...  \n",
       "3  MULTIPOLYGON (((-87.6670686895295 41.888851884...  \n",
       "4  MULTIPOLYGON (((-87.70655631674127 41.89555340...  "
      ]
     },
     "metadata": {},
     "output_type": "display_data"
    },
    {
     "data": {
      "application/vnd.microsoft.datawrangler.viewer.v0+json": {
       "columns": [
        {
         "name": "index",
         "rawType": "int64",
         "type": "integer"
        },
        {
         "name": "ILLINOIS",
         "rawType": "object",
         "type": "unknown"
        },
        {
         "name": "Unnamed: 1",
         "rawType": "object",
         "type": "unknown"
        },
        {
         "name": "Unnamed: 2",
         "rawType": "object",
         "type": "unknown"
        },
        {
         "name": "Unnamed: 3",
         "rawType": "object",
         "type": "unknown"
        },
        {
         "name": "Unnamed: 4",
         "rawType": "object",
         "type": "unknown"
        },
        {
         "name": "Unnamed: 5",
         "rawType": "object",
         "type": "unknown"
        },
        {
         "name": "Unnamed: 6",
         "rawType": "object",
         "type": "unknown"
        },
        {
         "name": "Unnamed: 7",
         "rawType": "object",
         "type": "unknown"
        },
        {
         "name": "Unnamed: 8",
         "rawType": "object",
         "type": "unknown"
        },
        {
         "name": "Unnamed: 9",
         "rawType": "object",
         "type": "unknown"
        },
        {
         "name": "Unnamed: 10",
         "rawType": "object",
         "type": "unknown"
        },
        {
         "name": "Unnamed: 11",
         "rawType": "object",
         "type": "unknown"
        },
        {
         "name": "Unnamed: 12",
         "rawType": "object",
         "type": "unknown"
        },
        {
         "name": "Unnamed: 13",
         "rawType": "object",
         "type": "unknown"
        },
        {
         "name": "Unnamed: 14",
         "rawType": "object",
         "type": "unknown"
        },
        {
         "name": "Unnamed: 15",
         "rawType": "object",
         "type": "unknown"
        },
        {
         "name": "Unnamed: 16",
         "rawType": "object",
         "type": "unknown"
        },
        {
         "name": "Unnamed: 17",
         "rawType": "object",
         "type": "unknown"
        },
        {
         "name": "Unnamed: 18",
         "rawType": "object",
         "type": "unknown"
        },
        {
         "name": "Unnamed: 19",
         "rawType": "object",
         "type": "unknown"
        },
        {
         "name": "Unnamed: 20",
         "rawType": "object",
         "type": "unknown"
        },
        {
         "name": "Unnamed: 21",
         "rawType": "object",
         "type": "unknown"
        },
        {
         "name": "Unnamed: 22",
         "rawType": "object",
         "type": "unknown"
        },
        {
         "name": "Unnamed: 23",
         "rawType": "object",
         "type": "unknown"
        },
        {
         "name": "Unnamed: 24",
         "rawType": "object",
         "type": "unknown"
        },
        {
         "name": "Unnamed: 25",
         "rawType": "object",
         "type": "unknown"
        },
        {
         "name": "Unnamed: 26",
         "rawType": "object",
         "type": "unknown"
        },
        {
         "name": "Unnamed: 27",
         "rawType": "object",
         "type": "unknown"
        },
        {
         "name": "Unnamed: 28",
         "rawType": "object",
         "type": "unknown"
        },
        {
         "name": "Unnamed: 29",
         "rawType": "object",
         "type": "unknown"
        },
        {
         "name": "Unnamed: 30",
         "rawType": "object",
         "type": "unknown"
        },
        {
         "name": "Unnamed: 31",
         "rawType": "object",
         "type": "unknown"
        },
        {
         "name": "Unnamed: 32",
         "rawType": "object",
         "type": "unknown"
        },
        {
         "name": "Unnamed: 33",
         "rawType": "object",
         "type": "unknown"
        },
        {
         "name": "Unnamed: 34",
         "rawType": "object",
         "type": "unknown"
        },
        {
         "name": "Unnamed: 35",
         "rawType": "object",
         "type": "unknown"
        },
        {
         "name": "Unnamed: 36",
         "rawType": "object",
         "type": "unknown"
        },
        {
         "name": "Unnamed: 37",
         "rawType": "object",
         "type": "unknown"
        },
        {
         "name": "Unnamed: 38",
         "rawType": "object",
         "type": "unknown"
        },
        {
         "name": "Unnamed: 39",
         "rawType": "object",
         "type": "unknown"
        },
        {
         "name": "Unnamed: 40",
         "rawType": "object",
         "type": "unknown"
        },
        {
         "name": "Unnamed: 41",
         "rawType": "object",
         "type": "unknown"
        },
        {
         "name": "Unnamed: 42",
         "rawType": "object",
         "type": "unknown"
        },
        {
         "name": "Unnamed: 43",
         "rawType": "object",
         "type": "unknown"
        },
        {
         "name": "Unnamed: 44",
         "rawType": "object",
         "type": "unknown"
        },
        {
         "name": "Unnamed: 45",
         "rawType": "object",
         "type": "unknown"
        },
        {
         "name": "Unnamed: 46",
         "rawType": "object",
         "type": "unknown"
        },
        {
         "name": "Unnamed: 47",
         "rawType": "object",
         "type": "unknown"
        },
        {
         "name": "Unnamed: 48",
         "rawType": "object",
         "type": "unknown"
        },
        {
         "name": "Unnamed: 49",
         "rawType": "object",
         "type": "unknown"
        },
        {
         "name": "Unnamed: 50",
         "rawType": "object",
         "type": "unknown"
        },
        {
         "name": "Unnamed: 51",
         "rawType": "object",
         "type": "unknown"
        },
        {
         "name": "Unnamed: 52",
         "rawType": "object",
         "type": "unknown"
        },
        {
         "name": "Unnamed: 53",
         "rawType": "object",
         "type": "unknown"
        },
        {
         "name": "Unnamed: 54",
         "rawType": "object",
         "type": "unknown"
        },
        {
         "name": "Unnamed: 55",
         "rawType": "object",
         "type": "unknown"
        },
        {
         "name": "Unnamed: 56",
         "rawType": "object",
         "type": "unknown"
        },
        {
         "name": "Unnamed: 57",
         "rawType": "object",
         "type": "unknown"
        },
        {
         "name": "Unnamed: 58",
         "rawType": "object",
         "type": "unknown"
        },
        {
         "name": "Unnamed: 59",
         "rawType": "object",
         "type": "unknown"
        },
        {
         "name": "Unnamed: 60",
         "rawType": "object",
         "type": "unknown"
        },
        {
         "name": "Unnamed: 61",
         "rawType": "object",
         "type": "unknown"
        },
        {
         "name": "Unnamed: 62",
         "rawType": "object",
         "type": "unknown"
        },
        {
         "name": "Unnamed: 63",
         "rawType": "object",
         "type": "unknown"
        },
        {
         "name": "Unnamed: 64",
         "rawType": "object",
         "type": "unknown"
        },
        {
         "name": "Unnamed: 65",
         "rawType": "object",
         "type": "unknown"
        },
        {
         "name": "Unnamed: 66",
         "rawType": "object",
         "type": "unknown"
        },
        {
         "name": "Unnamed: 67",
         "rawType": "object",
         "type": "unknown"
        },
        {
         "name": "Unnamed: 68",
         "rawType": "object",
         "type": "unknown"
        },
        {
         "name": "Unnamed: 69",
         "rawType": "object",
         "type": "unknown"
        },
        {
         "name": "Unnamed: 70",
         "rawType": "object",
         "type": "unknown"
        },
        {
         "name": "Unnamed: 71",
         "rawType": "object",
         "type": "unknown"
        },
        {
         "name": "Unnamed: 72",
         "rawType": "object",
         "type": "unknown"
        },
        {
         "name": "Unnamed: 73",
         "rawType": "object",
         "type": "unknown"
        },
        {
         "name": "Unnamed: 74",
         "rawType": "object",
         "type": "unknown"
        },
        {
         "name": "Unnamed: 75",
         "rawType": "object",
         "type": "unknown"
        },
        {
         "name": "Unnamed: 76",
         "rawType": "object",
         "type": "unknown"
        },
        {
         "name": "Unnamed: 77",
         "rawType": "object",
         "type": "unknown"
        },
        {
         "name": "Unnamed: 78",
         "rawType": "object",
         "type": "unknown"
        },
        {
         "name": "Unnamed: 79",
         "rawType": "object",
         "type": "unknown"
        },
        {
         "name": "Unnamed: 80",
         "rawType": "object",
         "type": "unknown"
        },
        {
         "name": "Unnamed: 81",
         "rawType": "object",
         "type": "unknown"
        },
        {
         "name": "Unnamed: 82",
         "rawType": "object",
         "type": "unknown"
        },
        {
         "name": "Unnamed: 83",
         "rawType": "object",
         "type": "unknown"
        },
        {
         "name": "Unnamed: 84",
         "rawType": "object",
         "type": "unknown"
        },
        {
         "name": "Unnamed: 85",
         "rawType": "object",
         "type": "unknown"
        },
        {
         "name": "Unnamed: 86",
         "rawType": "object",
         "type": "unknown"
        },
        {
         "name": "Unnamed: 87",
         "rawType": "object",
         "type": "unknown"
        },
        {
         "name": "Unnamed: 88",
         "rawType": "object",
         "type": "unknown"
        },
        {
         "name": "Unnamed: 89",
         "rawType": "object",
         "type": "unknown"
        },
        {
         "name": "Unnamed: 90",
         "rawType": "object",
         "type": "unknown"
        },
        {
         "name": "Unnamed: 91",
         "rawType": "object",
         "type": "unknown"
        },
        {
         "name": "Unnamed: 92",
         "rawType": "object",
         "type": "unknown"
        },
        {
         "name": "Unnamed: 93",
         "rawType": "object",
         "type": "unknown"
        },
        {
         "name": "Unnamed: 94",
         "rawType": "object",
         "type": "unknown"
        },
        {
         "name": "Unnamed: 95",
         "rawType": "object",
         "type": "unknown"
        },
        {
         "name": "Unnamed: 96",
         "rawType": "object",
         "type": "unknown"
        },
        {
         "name": "Unnamed: 97",
         "rawType": "object",
         "type": "unknown"
        },
        {
         "name": "Unnamed: 98",
         "rawType": "object",
         "type": "unknown"
        },
        {
         "name": "Unnamed: 99",
         "rawType": "object",
         "type": "unknown"
        },
        {
         "name": "Unnamed: 100",
         "rawType": "object",
         "type": "unknown"
        },
        {
         "name": "Unnamed: 101",
         "rawType": "object",
         "type": "unknown"
        },
        {
         "name": "Unnamed: 102",
         "rawType": "object",
         "type": "unknown"
        },
        {
         "name": "Unnamed: 103",
         "rawType": "object",
         "type": "unknown"
        },
        {
         "name": "Unnamed: 104",
         "rawType": "object",
         "type": "unknown"
        },
        {
         "name": "Unnamed: 105",
         "rawType": "object",
         "type": "unknown"
        },
        {
         "name": "Unnamed: 106",
         "rawType": "object",
         "type": "unknown"
        },
        {
         "name": "Unnamed: 107",
         "rawType": "object",
         "type": "unknown"
        },
        {
         "name": "Unnamed: 108",
         "rawType": "object",
         "type": "unknown"
        },
        {
         "name": "Unnamed: 109",
         "rawType": "object",
         "type": "unknown"
        },
        {
         "name": "Unnamed: 110",
         "rawType": "object",
         "type": "unknown"
        },
        {
         "name": "Unnamed: 111",
         "rawType": "object",
         "type": "unknown"
        },
        {
         "name": "Unnamed: 112",
         "rawType": "object",
         "type": "unknown"
        },
        {
         "name": "Unnamed: 113",
         "rawType": "object",
         "type": "unknown"
        },
        {
         "name": "Unnamed: 114",
         "rawType": "object",
         "type": "unknown"
        },
        {
         "name": "Unnamed: 115",
         "rawType": "object",
         "type": "unknown"
        },
        {
         "name": "Unnamed: 116",
         "rawType": "object",
         "type": "unknown"
        },
        {
         "name": "Unnamed: 117",
         "rawType": "object",
         "type": "unknown"
        },
        {
         "name": "Unnamed: 118",
         "rawType": "object",
         "type": "unknown"
        },
        {
         "name": "Unnamed: 119",
         "rawType": "object",
         "type": "unknown"
        },
        {
         "name": "Unnamed: 120",
         "rawType": "object",
         "type": "unknown"
        },
        {
         "name": "Unnamed: 121",
         "rawType": "object",
         "type": "unknown"
        },
        {
         "name": "Unnamed: 122",
         "rawType": "object",
         "type": "unknown"
        },
        {
         "name": "Unnamed: 123",
         "rawType": "object",
         "type": "unknown"
        },
        {
         "name": "Unnamed: 124",
         "rawType": "object",
         "type": "unknown"
        },
        {
         "name": "Unnamed: 125",
         "rawType": "object",
         "type": "unknown"
        },
        {
         "name": "Unnamed: 126",
         "rawType": "object",
         "type": "unknown"
        },
        {
         "name": "Unnamed: 127",
         "rawType": "object",
         "type": "unknown"
        },
        {
         "name": "Unnamed: 128",
         "rawType": "object",
         "type": "unknown"
        },
        {
         "name": "Unnamed: 129",
         "rawType": "object",
         "type": "unknown"
        },
        {
         "name": "Unnamed: 130",
         "rawType": "object",
         "type": "unknown"
        },
        {
         "name": "Unnamed: 131",
         "rawType": "object",
         "type": "unknown"
        },
        {
         "name": "Unnamed: 132",
         "rawType": "object",
         "type": "unknown"
        },
        {
         "name": "Unnamed: 133",
         "rawType": "object",
         "type": "unknown"
        },
        {
         "name": "Unnamed: 134",
         "rawType": "object",
         "type": "unknown"
        },
        {
         "name": "Unnamed: 135",
         "rawType": "object",
         "type": "unknown"
        },
        {
         "name": "Unnamed: 136",
         "rawType": "object",
         "type": "unknown"
        },
        {
         "name": "Unnamed: 137",
         "rawType": "object",
         "type": "unknown"
        },
        {
         "name": "Unnamed: 138",
         "rawType": "object",
         "type": "unknown"
        },
        {
         "name": "Unnamed: 139",
         "rawType": "object",
         "type": "unknown"
        },
        {
         "name": "Unnamed: 140",
         "rawType": "object",
         "type": "unknown"
        },
        {
         "name": "Unnamed: 141",
         "rawType": "object",
         "type": "unknown"
        },
        {
         "name": "Unnamed: 142",
         "rawType": "object",
         "type": "unknown"
        },
        {
         "name": "Unnamed: 143",
         "rawType": "object",
         "type": "unknown"
        },
        {
         "name": "Unnamed: 144",
         "rawType": "object",
         "type": "unknown"
        },
        {
         "name": "Unnamed: 145",
         "rawType": "object",
         "type": "unknown"
        },
        {
         "name": "Unnamed: 146",
         "rawType": "object",
         "type": "unknown"
        },
        {
         "name": "Unnamed: 147",
         "rawType": "object",
         "type": "unknown"
        },
        {
         "name": "Unnamed: 148",
         "rawType": "object",
         "type": "unknown"
        },
        {
         "name": "Unnamed: 149",
         "rawType": "object",
         "type": "unknown"
        }
       ],
       "conversionMethod": "pd.DataFrame",
       "ref": "0d7c3913-efd7-49f8-b32e-41ed8d7649f8",
       "rows": [
        [
         "0",
         "Individual Income Tax Returns: \nSelected Income and Tax Items by State, \nZIP Code, and Size of Adjusted Gross Income, \nTax Year 2019",
         null,
         null,
         null,
         null,
         null,
         null,
         null,
         null,
         null,
         null,
         null,
         null,
         null,
         null,
         null,
         null,
         null,
         null,
         null,
         null,
         null,
         null,
         null,
         null,
         null,
         null,
         null,
         null,
         null,
         null,
         null,
         null,
         null,
         null,
         null,
         null,
         null,
         null,
         null,
         null,
         null,
         null,
         null,
         null,
         null,
         null,
         null,
         null,
         null,
         null,
         null,
         null,
         null,
         null,
         null,
         null,
         null,
         null,
         null,
         null,
         null,
         null,
         null,
         null,
         null,
         null,
         null,
         null,
         null,
         null,
         null,
         null,
         null,
         null,
         null,
         null,
         null,
         null,
         null,
         null,
         null,
         null,
         null,
         null,
         null,
         null,
         null,
         null,
         null,
         null,
         null,
         null,
         null,
         null,
         null,
         null,
         null,
         null,
         null,
         null,
         null,
         null,
         null,
         null,
         null,
         null,
         null,
         null,
         null,
         null,
         null,
         null,
         null,
         null,
         null,
         null,
         null,
         null,
         null,
         null,
         null,
         null,
         null,
         null,
         null,
         null,
         null,
         null,
         null,
         null,
         null,
         null,
         null,
         null,
         null,
         null,
         null,
         null,
         null,
         null,
         null,
         null,
         null,
         null,
         null,
         null,
         null,
         null,
         null
        ],
        [
         "1",
         "[Money amounts are in thousands of dollars]",
         null,
         null,
         null,
         null,
         null,
         null,
         null,
         null,
         null,
         null,
         null,
         null,
         null,
         null,
         null,
         null,
         null,
         null,
         null,
         null,
         null,
         null,
         null,
         null,
         null,
         null,
         null,
         null,
         null,
         null,
         null,
         null,
         null,
         null,
         null,
         null,
         null,
         null,
         null,
         null,
         null,
         null,
         null,
         null,
         null,
         null,
         null,
         null,
         null,
         null,
         null,
         null,
         null,
         null,
         null,
         null,
         null,
         null,
         null,
         null,
         null,
         null,
         null,
         null,
         null,
         null,
         null,
         null,
         null,
         null,
         null,
         null,
         null,
         null,
         null,
         null,
         null,
         null,
         null,
         null,
         null,
         null,
         null,
         null,
         null,
         null,
         null,
         null,
         null,
         null,
         null,
         null,
         null,
         null,
         null,
         null,
         null,
         null,
         null,
         null,
         null,
         null,
         null,
         null,
         null,
         null,
         null,
         null,
         null,
         null,
         null,
         null,
         null,
         null,
         null,
         null,
         null,
         null,
         null,
         null,
         null,
         null,
         null,
         null,
         null,
         null,
         null,
         null,
         null,
         null,
         null,
         null,
         null,
         null,
         null,
         null,
         null,
         null,
         null,
         null,
         null,
         null,
         null,
         null,
         null,
         null,
         null,
         null,
         null
        ],
        [
         "2",
         "ZIP\ncode [1]",
         "Size of adjusted gross income",
         "Number of returns [2]",
         "Number of single returns",
         "Number of joint returns",
         "Number of head of household returns",
         "Number of electronically filed returns",
         "Number of computer prepared paper returns",
         "Number with paid preparer's signature",
         "Number of returns with direct deposit",
         "Number of \nindividuals [3]",
         "Number of volunteer prepared returns [4]",
         null,
         null,
         null,
         "Number of refund anticipation check returns [5]",
         "Number of elderly returns [6]",
         "Adjusted gross income (AGI) [7]",
         "Total income",
         null,
         "Salaries and wages in AGI",
         null,
         "Taxable interest",
         null,
         "Ordinary dividends",
         null,
         "Qualified dividends [8]",
         null,
         "State and local income tax refunds\n",
         null,
         "Business or profession\nnet income (less loss)",
         null,
         "Net capital gain (less loss) in AGI",
         null,
         "Taxable individual retirement arrangements distributions",
         null,
         "Taxable pensions and annuities",
         null,
         "Number of \nfarm returns",
         "Unemployment compensation [9]",
         null,
         "Taxable Social Security benefits",
         null,
         "Partnership/S-corp net income (less loss)",
         null,
         "Total statuory adjustments",
         null,
         "Educator expenses",
         null,
         "Self-employed (Keogh) retirement plans",
         null,
         "Self-employed health insurance deduction",
         null,
         "Individual retirement arrangement payments",
         null,
         "Student loan interest deduction",
         null,
         "Total standard deduction",
         null,
         "Basic standard deduction",
         null,
         "Additional standard deduction",
         null,
         "Total itemized deductions",
         null,
         null,
         "Total medical and dental \nexpenses deduction",
         null,
         "State and local income taxes",
         null,
         "State and local general sales taxes",
         null,
         "Real estate taxes",
         null,
         "Personal property taxes",
         null,
         "Limited state and local taxes paid",
         null,
         "Total taxes paid",
         null,
         "Home mortgage interest paid ",
         null,
         "Home mortgage interest paid \nto personal seller",
         null,
         "Deductible points",
         null,
         "Investment interest paid",
         null,
         "Total charitable contributions",
         null,
         "Other non-limited miscellaneous deduction",
         null,
         "Qualified business income deduction\n",
         null,
         "Taxable income",
         null,
         "Income tax before credits",
         null,
         "Alternative minimum tax",
         null,
         "Excess advance \npremium tax credit repayment",
         null,
         "Total tax credits [10]",
         null,
         "Foreign tax credit",
         null,
         "Child and dependent care credit",
         null,
         "Nonrefundable education credit",
         null,
         "Retirement savings contributions credit",
         null,
         "Child and other dependent credit",
         null,
         "Residential energy tax credit",
         null,
         "Self-employment tax",
         null,
         "Total premium tax credit",
         null,
         "Advance premium tax credit",
         null,
         "Total tax payments",
         null,
         "Earned income credit [11]",
         null,
         "Excess earned income credit \n(refundable) [12]",
         null,
         "Additional child tax credit",
         null,
         "Refundable education credit [13]",
         null,
         "Net premium tax credit",
         null,
         "Income tax after credits",
         null,
         "Total tax liability [14]",
         null,
         "Total additional Medicare tax",
         null,
         "Net investment income tax",
         null,
         "Tax due at time of filing [15]",
         null,
         "Total overpayments",
         null,
         "Overpayments refunded [16]",
         null,
         "Credited to next year's estimated tax",
         null
        ],
        [
         "3",
         null,
         null,
         null,
         null,
         null,
         null,
         null,
         null,
         null,
         null,
         null,
         "Total",
         "Number of volunteer income tax assistance (VITA) prepared returns",
         "Number of tax counseling for the elderly (TCE) prepared returns",
         "Number of volunteer prepared \nreturns with\nearned income credit",
         null,
         null,
         null,
         "Number of returns",
         "Amount",
         "Number of returns",
         "Amount",
         "Number of returns",
         "Amount",
         "Number of returns",
         "Amount",
         "Number of returns",
         "Amount",
         "Number of returns",
         "Amount",
         "Number of returns",
         "Amount",
         "Number of returns",
         "Amount",
         "Number of returns",
         "Amount",
         "Number of returns",
         "Amount",
         null,
         "Number of returns",
         "Amount",
         "Number of returns",
         "Amount",
         "Number of returns",
         "Amount",
         "Number of returns",
         "Amount",
         "Number of returns",
         "Amount",
         "Number of returns",
         "Amount",
         "Number of returns",
         "Amount",
         "Number of returns",
         "Amount",
         "Number of returns",
         "Amount",
         "Number of returns",
         "Amount",
         "Number of returns",
         "Amount",
         "Number of returns",
         "Amount",
         "Number of returns",
         "Amount",
         "Amount of AGI",
         "Number of returns",
         "Amount",
         "Number of returns",
         "Amount",
         "Number of returns",
         "Amount",
         "Number of returns",
         "Amount",
         "Number of returns",
         "Amount",
         "Number of returns",
         "Amount",
         "Number of returns",
         "Amount",
         "Number of returns",
         "Amount",
         "Number of returns",
         "Amount",
         "Number of returns",
         "Amount",
         "Number of returns",
         "Amount",
         "Number of returns",
         "Amount",
         "Number of returns",
         "Amount",
         "Number of returns",
         "Amount",
         "Number of returns",
         "Amount",
         "Number of returns",
         "Amount",
         "Number of returns",
         "Amount",
         "Number of returns",
         "Amount",
         "Number of returns",
         "Amount",
         "Number of returns",
         "Amount",
         "Number of returns",
         "Amount",
         "Number of returns",
         "Amount",
         "Number of returns",
         "Amount",
         "Number of returns",
         "Amount",
         "Number of returns",
         "Amount",
         "Number of returns",
         "Amount",
         "Number of returns",
         "Amount",
         "Number of returns",
         "Amount",
         "Number of returns",
         "Amount",
         "Number of returns",
         "Amount",
         "Number of returns",
         "Amount",
         "Number of returns",
         "Amount",
         "Number of returns",
         "Amount",
         "Number of returns",
         "Amount",
         "Number of returns",
         "Amount",
         "Number of returns",
         "Amount",
         "Number of returns",
         "Amount",
         "Number of returns",
         "Amount",
         "Number of returns",
         "Amount",
         "Number of returns",
         "Amount",
         "Number of returns",
         "Amount",
         "Number of returns",
         "Amount"
        ],
        [
         "4",
         null,
         null,
         "-1",
         "-2",
         "-3",
         "-4",
         "-5",
         "-6",
         "-7",
         "-8",
         "-9",
         "-10",
         "-11",
         "-12",
         "-13",
         "-14",
         "-15",
         "-16",
         "-17",
         "-18",
         "-19",
         "-20",
         "-21",
         "-22",
         "-23",
         "-24",
         "-25",
         "-26",
         "-27",
         "-28",
         "-29",
         "-30",
         "-31",
         "-32",
         "-33",
         "-34",
         "-35",
         "-36",
         "-37",
         "-38",
         "-39",
         "-40",
         "-41",
         "-42",
         "-43",
         "-44",
         "-45",
         "-46",
         "-47",
         "-48",
         "-49",
         "-50",
         "-51",
         "-52",
         "-53",
         "-54",
         "-55",
         "-56",
         "-57",
         "-58",
         "-59",
         "-60",
         "-61",
         "-62",
         "-63",
         "-64",
         "-65",
         "-66",
         "-67",
         "-68",
         "-69",
         "-70",
         "-71",
         "-72",
         "-73",
         "-74",
         "-75",
         "-76",
         "-77",
         "-78",
         "-79",
         "-80",
         "-81",
         "-82",
         "-83",
         "-84",
         "-85",
         "-86",
         "-87",
         "-88",
         "-89",
         "-90",
         "-91",
         "-92",
         "-93",
         "-94",
         "-95",
         "-96",
         "-97",
         "-98",
         "-99",
         "-100",
         "-101",
         "-102",
         "-103",
         "-104",
         "-105",
         "-106",
         "-107",
         "-108",
         "-109",
         "-110",
         "-111",
         "-112",
         "-113",
         "-114",
         "-115",
         "-116",
         "-117",
         "-118",
         "-119",
         "-120",
         "-121",
         "-122",
         "-123",
         "-124",
         "-125",
         "-126",
         "-127",
         "-128",
         "-129",
         "-130",
         "-131",
         "-132",
         "-133",
         "-134",
         "-135",
         "-136",
         "-137",
         "-138",
         "-139",
         "-140",
         "-141",
         "-142",
         "-143",
         "-144",
         "-145",
         "-146",
         "-147",
         "-148"
        ]
       ],
       "shape": {
        "columns": 150,
        "rows": 5
       }
      },
      "text/html": [
       "<div>\n",
       "<style scoped>\n",
       "    .dataframe tbody tr th:only-of-type {\n",
       "        vertical-align: middle;\n",
       "    }\n",
       "\n",
       "    .dataframe tbody tr th {\n",
       "        vertical-align: top;\n",
       "    }\n",
       "\n",
       "    .dataframe thead th {\n",
       "        text-align: right;\n",
       "    }\n",
       "</style>\n",
       "<table border=\"1\" class=\"dataframe\">\n",
       "  <thead>\n",
       "    <tr style=\"text-align: right;\">\n",
       "      <th></th>\n",
       "      <th>ILLINOIS</th>\n",
       "      <th>Unnamed: 1</th>\n",
       "      <th>Unnamed: 2</th>\n",
       "      <th>Unnamed: 3</th>\n",
       "      <th>Unnamed: 4</th>\n",
       "      <th>Unnamed: 5</th>\n",
       "      <th>Unnamed: 6</th>\n",
       "      <th>Unnamed: 7</th>\n",
       "      <th>Unnamed: 8</th>\n",
       "      <th>Unnamed: 9</th>\n",
       "      <th>...</th>\n",
       "      <th>Unnamed: 140</th>\n",
       "      <th>Unnamed: 141</th>\n",
       "      <th>Unnamed: 142</th>\n",
       "      <th>Unnamed: 143</th>\n",
       "      <th>Unnamed: 144</th>\n",
       "      <th>Unnamed: 145</th>\n",
       "      <th>Unnamed: 146</th>\n",
       "      <th>Unnamed: 147</th>\n",
       "      <th>Unnamed: 148</th>\n",
       "      <th>Unnamed: 149</th>\n",
       "    </tr>\n",
       "  </thead>\n",
       "  <tbody>\n",
       "    <tr>\n",
       "      <th>0</th>\n",
       "      <td>Individual Income Tax Returns: \\nSelected Inco...</td>\n",
       "      <td>NaN</td>\n",
       "      <td>NaN</td>\n",
       "      <td>NaN</td>\n",
       "      <td>NaN</td>\n",
       "      <td>NaN</td>\n",
       "      <td>NaN</td>\n",
       "      <td>NaN</td>\n",
       "      <td>NaN</td>\n",
       "      <td>NaN</td>\n",
       "      <td>...</td>\n",
       "      <td>NaN</td>\n",
       "      <td>NaN</td>\n",
       "      <td>NaN</td>\n",
       "      <td>NaN</td>\n",
       "      <td>NaN</td>\n",
       "      <td>NaN</td>\n",
       "      <td>NaN</td>\n",
       "      <td>NaN</td>\n",
       "      <td>NaN</td>\n",
       "      <td>NaN</td>\n",
       "    </tr>\n",
       "    <tr>\n",
       "      <th>1</th>\n",
       "      <td>[Money amounts are in thousands of dollars]</td>\n",
       "      <td>NaN</td>\n",
       "      <td>NaN</td>\n",
       "      <td>NaN</td>\n",
       "      <td>NaN</td>\n",
       "      <td>NaN</td>\n",
       "      <td>NaN</td>\n",
       "      <td>NaN</td>\n",
       "      <td>NaN</td>\n",
       "      <td>NaN</td>\n",
       "      <td>...</td>\n",
       "      <td>NaN</td>\n",
       "      <td>NaN</td>\n",
       "      <td>NaN</td>\n",
       "      <td>NaN</td>\n",
       "      <td>NaN</td>\n",
       "      <td>NaN</td>\n",
       "      <td>NaN</td>\n",
       "      <td>NaN</td>\n",
       "      <td>NaN</td>\n",
       "      <td>NaN</td>\n",
       "    </tr>\n",
       "    <tr>\n",
       "      <th>2</th>\n",
       "      <td>ZIP\\ncode [1]</td>\n",
       "      <td>Size of adjusted gross income</td>\n",
       "      <td>Number of returns [2]</td>\n",
       "      <td>Number of single returns</td>\n",
       "      <td>Number of joint returns</td>\n",
       "      <td>Number of head of household returns</td>\n",
       "      <td>Number of electronically filed returns</td>\n",
       "      <td>Number of computer prepared paper returns</td>\n",
       "      <td>Number with paid preparer's signature</td>\n",
       "      <td>Number of returns with direct deposit</td>\n",
       "      <td>...</td>\n",
       "      <td>Net investment income tax</td>\n",
       "      <td>NaN</td>\n",
       "      <td>Tax due at time of filing [15]</td>\n",
       "      <td>NaN</td>\n",
       "      <td>Total overpayments</td>\n",
       "      <td>NaN</td>\n",
       "      <td>Overpayments refunded [16]</td>\n",
       "      <td>NaN</td>\n",
       "      <td>Credited to next year's estimated tax</td>\n",
       "      <td>NaN</td>\n",
       "    </tr>\n",
       "    <tr>\n",
       "      <th>3</th>\n",
       "      <td>NaN</td>\n",
       "      <td>NaN</td>\n",
       "      <td>NaN</td>\n",
       "      <td>NaN</td>\n",
       "      <td>NaN</td>\n",
       "      <td>NaN</td>\n",
       "      <td>NaN</td>\n",
       "      <td>NaN</td>\n",
       "      <td>NaN</td>\n",
       "      <td>NaN</td>\n",
       "      <td>...</td>\n",
       "      <td>Number of returns</td>\n",
       "      <td>Amount</td>\n",
       "      <td>Number of returns</td>\n",
       "      <td>Amount</td>\n",
       "      <td>Number of returns</td>\n",
       "      <td>Amount</td>\n",
       "      <td>Number of returns</td>\n",
       "      <td>Amount</td>\n",
       "      <td>Number of returns</td>\n",
       "      <td>Amount</td>\n",
       "    </tr>\n",
       "    <tr>\n",
       "      <th>4</th>\n",
       "      <td>NaN</td>\n",
       "      <td>NaN</td>\n",
       "      <td>-1</td>\n",
       "      <td>-2</td>\n",
       "      <td>-3</td>\n",
       "      <td>-4</td>\n",
       "      <td>-5</td>\n",
       "      <td>-6</td>\n",
       "      <td>-7</td>\n",
       "      <td>-8</td>\n",
       "      <td>...</td>\n",
       "      <td>-139</td>\n",
       "      <td>-140</td>\n",
       "      <td>-141</td>\n",
       "      <td>-142</td>\n",
       "      <td>-143</td>\n",
       "      <td>-144</td>\n",
       "      <td>-145</td>\n",
       "      <td>-146</td>\n",
       "      <td>-147</td>\n",
       "      <td>-148</td>\n",
       "    </tr>\n",
       "  </tbody>\n",
       "</table>\n",
       "<p>5 rows × 150 columns</p>\n",
       "</div>"
      ],
      "text/plain": [
       "                                            ILLINOIS  \\\n",
       "0  Individual Income Tax Returns: \\nSelected Inco...   \n",
       "1        [Money amounts are in thousands of dollars]   \n",
       "2                                      ZIP\\ncode [1]   \n",
       "3                                                NaN   \n",
       "4                                                NaN   \n",
       "\n",
       "                      Unnamed: 1             Unnamed: 2  \\\n",
       "0                            NaN                    NaN   \n",
       "1                            NaN                    NaN   \n",
       "2  Size of adjusted gross income  Number of returns [2]   \n",
       "3                            NaN                    NaN   \n",
       "4                            NaN                     -1   \n",
       "\n",
       "                 Unnamed: 3               Unnamed: 4  \\\n",
       "0                       NaN                      NaN   \n",
       "1                       NaN                      NaN   \n",
       "2  Number of single returns  Number of joint returns   \n",
       "3                       NaN                      NaN   \n",
       "4                        -2                       -3   \n",
       "\n",
       "                            Unnamed: 5  \\\n",
       "0                                  NaN   \n",
       "1                                  NaN   \n",
       "2  Number of head of household returns   \n",
       "3                                  NaN   \n",
       "4                                   -4   \n",
       "\n",
       "                               Unnamed: 6  \\\n",
       "0                                     NaN   \n",
       "1                                     NaN   \n",
       "2  Number of electronically filed returns   \n",
       "3                                     NaN   \n",
       "4                                      -5   \n",
       "\n",
       "                                  Unnamed: 7  \\\n",
       "0                                        NaN   \n",
       "1                                        NaN   \n",
       "2  Number of computer prepared paper returns   \n",
       "3                                        NaN   \n",
       "4                                         -6   \n",
       "\n",
       "                              Unnamed: 8  \\\n",
       "0                                    NaN   \n",
       "1                                    NaN   \n",
       "2  Number with paid preparer's signature   \n",
       "3                                    NaN   \n",
       "4                                     -7   \n",
       "\n",
       "                              Unnamed: 9  ...               Unnamed: 140  \\\n",
       "0                                    NaN  ...                        NaN   \n",
       "1                                    NaN  ...                        NaN   \n",
       "2  Number of returns with direct deposit  ...  Net investment income tax   \n",
       "3                                    NaN  ...          Number of returns   \n",
       "4                                     -8  ...                       -139   \n",
       "\n",
       "  Unnamed: 141                    Unnamed: 142 Unnamed: 143  \\\n",
       "0          NaN                             NaN          NaN   \n",
       "1          NaN                             NaN          NaN   \n",
       "2          NaN  Tax due at time of filing [15]          NaN   \n",
       "3       Amount               Number of returns       Amount   \n",
       "4         -140                            -141         -142   \n",
       "\n",
       "         Unnamed: 144 Unnamed: 145                Unnamed: 146 Unnamed: 147  \\\n",
       "0                 NaN          NaN                         NaN          NaN   \n",
       "1                 NaN          NaN                         NaN          NaN   \n",
       "2  Total overpayments          NaN  Overpayments refunded [16]          NaN   \n",
       "3   Number of returns       Amount           Number of returns       Amount   \n",
       "4                -143         -144                        -145         -146   \n",
       "\n",
       "                            Unnamed: 148 Unnamed: 149  \n",
       "0                                    NaN          NaN  \n",
       "1                                    NaN          NaN  \n",
       "2  Credited to next year's estimated tax          NaN  \n",
       "3                      Number of returns       Amount  \n",
       "4                                   -147         -148  \n",
       "\n",
       "[5 rows x 150 columns]"
      ]
     },
     "metadata": {},
     "output_type": "display_data"
    }
   ],
   "source": [
    "display(crimes_no_zip.head())\n",
    "display(zipcodes_df.head())\n",
    "display(income.head())"
   ]
  },
  {
   "cell_type": "markdown",
   "metadata": {
    "id": "fOlO6F1MeiSw"
   },
   "source": [
    "# Code for Part A"
   ]
  },
  {
   "cell_type": "markdown",
   "metadata": {},
   "source": [
    "A lot of cleaning needs to be done on the data in order for it to be usable. First I will map ZIP codes for each crime using the coordiates given in the dataset with geopandas."
   ]
  },
  {
   "cell_type": "code",
   "execution_count": 124,
   "metadata": {
    "id": "TBBTbXx8eiSw"
   },
   "outputs": [
    {
     "name": "stderr",
     "output_type": "stream",
     "text": [
      "Exception ignored in: <function ZipFile.__del__ at 0x70ccbec12f20>\n",
      "Traceback (most recent call last):\n",
      "  File \"/home/rbitton/.pyenv/versions/3.12.9/lib/python3.12/zipfile/__init__.py\", line 1943, in __del__\n",
      "    def __del__(self):\n",
      "\n",
      "KeyboardInterrupt: \n"
     ]
    }
   ],
   "source": [
    "zipcodes_df['geometry'] = zipcodes_df['the_geom'].apply(wkt.loads)\n",
    "zipcodes = gpd.GeoDataFrame(zipcodes_df, geometry='geometry', crs=\"EPSG:4326\")\n",
    "\n",
    "crimes_clean = crimes_no_zip.dropna(subset=['Longitude', 'Latitude']).copy()\n",
    "crimes_clean['geometry'] = crimes_clean.apply(lambda row: Point(row['Longitude'], row['Latitude']), axis=1)\n",
    "crimes_gdf = gpd.GeoDataFrame(crimes_clean, geometry='geometry', crs=\"EPSG:4326\")\n",
    "\n",
    "crimes_zip = gpd.sjoin(crimes_gdf, zipcodes, how=\"left\", predicate=\"within\").filter([\"Primary Type\", \"Arrest\", \"ZIP\"])\n"
   ]
  },
  {
   "cell_type": "markdown",
   "metadata": {},
   "source": [
    "Next I will eliminate irrelevent columns and isolate only violent crimes where an arrest was made and list the counts of each offense as well as the zip codes in order of frequency. See the documentation for the definition of a violent crime."
   ]
  },
  {
   "cell_type": "code",
   "execution_count": null,
   "metadata": {
    "id": "Lzm91TQxeiSw"
   },
   "outputs": [
    {
     "ename": "NameError",
     "evalue": "name 'crimes_zip' is not defined",
     "output_type": "error",
     "traceback": [
      "\u001b[0;31m---------------------------------------------------------------------------\u001b[0m",
      "\u001b[0;31mNameError\u001b[0m                                 Traceback (most recent call last)",
      "Cell \u001b[0;32mIn[119], line 1\u001b[0m\n\u001b[0;32m----> 1\u001b[0m crimes \u001b[38;5;241m=\u001b[39m \u001b[43mcrimes_zip\u001b[49m[(crimes_zip[\u001b[38;5;124m\"\u001b[39m\u001b[38;5;124mArrest\u001b[39m\u001b[38;5;124m\"\u001b[39m] \u001b[38;5;241m==\u001b[39m \u001b[38;5;28;01mTrue\u001b[39;00m)]\n\u001b[1;32m      2\u001b[0m crimes \u001b[38;5;241m=\u001b[39m crimes[crimes[\u001b[38;5;124m\"\u001b[39m\u001b[38;5;124mPrimary Type\u001b[39m\u001b[38;5;124m\"\u001b[39m]\u001b[38;5;241m.\u001b[39misin([\u001b[38;5;124m\"\u001b[39m\u001b[38;5;124mASSAULT\u001b[39m\u001b[38;5;124m\"\u001b[39m, \u001b[38;5;124m\"\u001b[39m\u001b[38;5;124mBATTERY\u001b[39m\u001b[38;5;124m\"\u001b[39m, \u001b[38;5;124m\"\u001b[39m\u001b[38;5;124mCRIMINAL SEXUAL ASSAULT\u001b[39m\u001b[38;5;124m\"\u001b[39m, \n\u001b[1;32m      3\u001b[0m                                              \u001b[38;5;124m\"\u001b[39m\u001b[38;5;124mSEX OFFENSE\u001b[39m\u001b[38;5;124m\"\u001b[39m, \u001b[38;5;124m\"\u001b[39m\u001b[38;5;124mHOMICIDE\u001b[39m\u001b[38;5;124m\"\u001b[39m, \u001b[38;5;124m\"\u001b[39m\u001b[38;5;124mROBBERY\u001b[39m\u001b[38;5;124m\"\u001b[39m, \u001b[38;5;124m\"\u001b[39m\u001b[38;5;124mCRIM SEXUAL ASSAULT\u001b[39m\u001b[38;5;124m\"\u001b[39m, \u001b[38;5;124m\"\u001b[39m\u001b[38;5;124mKIDNAPPING\u001b[39m\u001b[38;5;124m\"\u001b[39m, \n\u001b[1;32m      4\u001b[0m                                              \u001b[38;5;124m\"\u001b[39m\u001b[38;5;124mINTIMIDATION\u001b[39m\u001b[38;5;124m\"\u001b[39m, \u001b[38;5;124m\"\u001b[39m\u001b[38;5;124mSTALKING\u001b[39m\u001b[38;5;124m\"\u001b[39m, \u001b[38;5;124m\"\u001b[39m\u001b[38;5;124mHUMAN TRAFFICKING\u001b[39m\u001b[38;5;124m\"\u001b[39m])]\u001b[38;5;241m.\u001b[39mdrop(columns\u001b[38;5;241m=\u001b[39m\u001b[38;5;124m\"\u001b[39m\u001b[38;5;124mArrest\u001b[39m\u001b[38;5;124m\"\u001b[39m)\n\u001b[1;32m      6\u001b[0m display(crimes\u001b[38;5;241m.\u001b[39mhead())\n",
      "\u001b[0;31mNameError\u001b[0m: name 'crimes_zip' is not defined"
     ]
    }
   ],
   "source": [
    "crimes = crimes_zip[(crimes_zip[\"Arrest\"] == True)]\n",
    "crimes = crimes[crimes[\"Primary Type\"].isin([\"ASSAULT\", \"BATTERY\", \"CRIMINAL SEXUAL ASSAULT\", \n",
    "                                             \"SEX OFFENSE\", \"HOMICIDE\", \"ROBBERY\", \"CRIM SEXUAL ASSAULT\", \"KIDNAPPING\", \n",
    "                                             \"INTIMIDATION\", \"STALKING\", \"HUMAN TRAFFICKING\"])].drop(columns=\"Arrest\")\n",
    "\n",
    "display(crimes.head())\n",
    "\n",
    "type_counts = crimes[\"Primary Type\"].value_counts().to_frame()\n",
    "zip_freqs = crimes[\"ZIP\"].value_counts().to_frame()\n",
    "\n",
    "display(type_counts.head())\n",
    "display(zip_freqs.head())\n",
    "\n"
   ]
  },
  {
   "cell_type": "markdown",
   "metadata": {},
   "source": [
    "Next I will calculate an arbetrary measure of central tendency for each zip code in the income spreadsheet"
   ]
  },
  {
   "cell_type": "code",
   "execution_count": null,
   "metadata": {
    "id": "GaIopai0eiSw"
   },
   "outputs": [],
   "source": []
  },
  {
   "cell_type": "code",
   "execution_count": null,
   "metadata": {
    "id": "etMcpFA6eiSw"
   },
   "outputs": [],
   "source": []
  },
  {
   "cell_type": "markdown",
   "metadata": {
    "id": "3kYMdGsReiSw"
   },
   "source": [
    "# Code for Part B"
   ]
  },
  {
   "cell_type": "code",
   "execution_count": null,
   "metadata": {
    "id": "86XH7FSneiSx"
   },
   "outputs": [],
   "source": []
  },
  {
   "cell_type": "code",
   "execution_count": null,
   "metadata": {
    "id": "1DB_24FQeiSx"
   },
   "outputs": [],
   "source": []
  },
  {
   "cell_type": "code",
   "execution_count": null,
   "metadata": {
    "id": "5rW0P_lyeiSx"
   },
   "outputs": [],
   "source": []
  },
  {
   "cell_type": "markdown",
   "metadata": {
    "id": "E2Y8GplveiSx"
   },
   "source": [
    "# Code for Part C"
   ]
  },
  {
   "cell_type": "code",
   "execution_count": null,
   "metadata": {
    "id": "TxHEC0qneiSx"
   },
   "outputs": [],
   "source": []
  },
  {
   "cell_type": "code",
   "execution_count": null,
   "metadata": {
    "id": "woCiUovleiSx"
   },
   "outputs": [],
   "source": []
  },
  {
   "cell_type": "code",
   "execution_count": null,
   "metadata": {
    "id": "IWhZ2TefeiSx"
   },
   "outputs": [],
   "source": []
  },
  {
   "cell_type": "code",
   "execution_count": null,
   "metadata": {
    "id": "EFuqF9aDeiSx"
   },
   "outputs": [],
   "source": []
  },
  {
   "cell_type": "code",
   "execution_count": null,
   "metadata": {
    "id": "mNewxn9_eiSx"
   },
   "outputs": [],
   "source": []
  },
  {
   "cell_type": "markdown",
   "metadata": {
    "id": "EAyICwH4eiSx"
   },
   "source": [
    "# Code for Part D (if any)"
   ]
  },
  {
   "cell_type": "code",
   "execution_count": null,
   "metadata": {
    "id": "8IoI_Pu2eiSx"
   },
   "outputs": [],
   "source": []
  },
  {
   "cell_type": "code",
   "execution_count": null,
   "metadata": {
    "id": "dTDXGRFoeiSx"
   },
   "outputs": [],
   "source": []
  },
  {
   "cell_type": "code",
   "execution_count": null,
   "metadata": {
    "id": "Q-dVw5rAeiSx"
   },
   "outputs": [],
   "source": []
  },
  {
   "cell_type": "code",
   "execution_count": null,
   "metadata": {
    "id": "Lm-k-rt3eiSx"
   },
   "outputs": [],
   "source": []
  }
 ],
 "metadata": {
  "colab": {
   "provenance": [
    {
     "file_id": "1Fap_8QQ_6g4RYoWKeljJn7ptbHlk5kVd",
     "timestamp": 1739134226191
    }
   ]
  },
  "kernelspec": {
   "display_name": "3.12.9",
   "language": "python",
   "name": "python3"
  },
  "language_info": {
   "codemirror_mode": {
    "name": "ipython",
    "version": 3
   },
   "file_extension": ".py",
   "mimetype": "text/x-python",
   "name": "python",
   "nbconvert_exporter": "python",
   "pygments_lexer": "ipython3",
   "version": "3.12.9"
  }
 },
 "nbformat": 4,
 "nbformat_minor": 1
}
